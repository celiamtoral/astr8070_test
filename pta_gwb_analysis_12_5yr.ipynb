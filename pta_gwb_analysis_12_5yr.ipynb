{
  "nbformat": 4,
  "nbformat_minor": 0,
  "metadata": {
    "anaconda-cloud": {},
    "kernelspec": {
      "name": "python3",
      "display_name": "Python 3",
      "language": "python"
    },
    "language_info": {
      "codemirror_mode": {
        "name": "ipython",
        "version": 3
      },
      "file_extension": ".py",
      "mimetype": "text/x-python",
      "name": "python",
      "nbconvert_exporter": "python",
      "pygments_lexer": "ipython3",
      "version": "3.7.9-final"
    },
    "toc": {
      "nav_menu": {},
      "number_sections": true,
      "sideBar": true,
      "skip_h1_title": false,
      "toc_cell": false,
      "toc_position": {
        "height": "743px",
        "left": "0px",
        "right": "1458px",
        "top": "107px",
        "width": "212px"
      },
      "toc_section_display": "block",
      "toc_window_display": true
    },
    "colab": {
      "provenance": [],
      "collapsed_sections": [
        "pFuXhsy_7IFj",
        "frI1DHhU7IFj",
        "TGFUwnhh7IFk",
        "UjyQ0itD7IFk",
        "c95fP1I67IFm",
        "xocVyjYj7IFm",
        "bkondzus7IFn",
        "jEH40_497IFo",
        "ukvtjVd27IFo",
        "k04HGrnW7IFq",
        "m5f_fhq07IFq",
        "GggJBbeF7IFq",
        "Luc8mtyk7IFq",
        "CfDeexkk7IFr",
        "oa4O7M-q7IFs"
      ],
      "include_colab_link": true
    }
  },
  "cells": [
    {
      "cell_type": "markdown",
      "metadata": {
        "id": "view-in-github",
        "colab_type": "text"
      },
      "source": [
        "<a href=\"https://colab.research.google.com/github/celiamtoral/astr8070_test/blob/main/pta_gwb_analysis_12_5yr.ipynb\" target=\"_parent\"><img src=\"https://colab.research.google.com/assets/colab-badge.svg\" alt=\"Open In Colab\"/></a>"
      ]
    },
    {
      "cell_type": "markdown",
      "metadata": {
        "id": "HBQZx_AXRt95"
      },
      "source": [
        "# Run Once"
      ]
    },
    {
      "cell_type": "code",
      "metadata": {
        "colab": {
          "base_uri": "https://localhost:8080/"
        },
        "id": "0AzXqqMmQrzJ",
        "outputId": "d484d4ce-9b2d-4dc4-fb48-ac88b4478782"
      },
      "source": [
        "!pip install pyephem\n",
        "!pip install git+https://github.com/dfm/acor.git\n",
        "!pip install astropy\n",
        "!pip install jplephem\n",
        "!pip install Cython\n",
        "!pip install corner\n",
        "!apt-get install libtool\n",
        "!apt-get install autoconf\n",
        "!apt install libsuitesparse-dev\n",
        "!pip install scikit-sparse\n",
        "!pip install git+https://github.com/nanograv/PINT.git\n",
        "!pip install git+https://github.com/vallis/libstempo.git\n",
        "!pip install git+https://github.com/nanograv/enterprise.git\n",
        "!pip install git+https://github.com/nanograv/enterprise_extensions\n",
        "!pip install git+https://github.com/jellis18/PTMCMCSampler\n",
        "!pip install mpi4py\n",
        "!pip install git+https://github.com/nanograv/enterprise_extensions.git\n",
        "!pip install healpy"
      ],
      "execution_count": null,
      "outputs": [
        {
          "output_type": "stream",
          "text": [
            "Collecting pyephem\n",
            "  Downloading https://files.pythonhosted.org/packages/8e/02/1eade827452880961bc4657df24f72e7a76d764abff3e666433e1c8d1980/pyephem-9.99.tar.gz\n",
            "Requirement already satisfied: ephem in /usr/local/lib/python3.6/dist-packages (from pyephem) (3.7.7.1)\n",
            "Building wheels for collected packages: pyephem\n",
            "  Building wheel for pyephem (setup.py) ... \u001b[?25l\u001b[?25hdone\n",
            "  Created wheel for pyephem: filename=pyephem-9.99-cp36-none-any.whl size=1569 sha256=bfd4aa76cc7919a9f8cd97dbf117fae861f37e134f452cb7454392d4c274f305\n",
            "  Stored in directory: /root/.cache/pip/wheels/9d/c2/8d/c7117f6ac25cad94939c5dbbddbb4ba312e0b808edf11912a6\n",
            "Successfully built pyephem\n",
            "Installing collected packages: pyephem\n",
            "Successfully installed pyephem-9.99\n",
            "Collecting git+https://github.com/dfm/acor.git\n",
            "  Cloning https://github.com/dfm/acor.git to /tmp/pip-req-build-xo7hmlvu\n",
            "  Running command git clone -q https://github.com/dfm/acor.git /tmp/pip-req-build-xo7hmlvu\n",
            "Requirement already satisfied: numpy in /usr/local/lib/python3.6/dist-packages (from acor==1.1.1) (1.19.4)\n",
            "Building wheels for collected packages: acor\n",
            "  Building wheel for acor (setup.py) ... \u001b[?25l\u001b[?25hdone\n",
            "  Created wheel for acor: filename=acor-1.1.1-cp36-cp36m-linux_x86_64.whl size=25633 sha256=9d4fa9c548a721882eb2c756d7bf82d9f3aafcdd597f8cb48a421a161f417c9f\n",
            "  Stored in directory: /tmp/pip-ephem-wheel-cache-1qoaak3a/wheels/ea/16/75/7b822064fa34905cc7903088b695b8aca106158a333c9f328d\n",
            "Successfully built acor\n",
            "Installing collected packages: acor\n",
            "Successfully installed acor-1.1.1\n",
            "Requirement already satisfied: astropy in /usr/local/lib/python3.6/dist-packages (4.1)\n",
            "Requirement already satisfied: numpy>=1.16 in /usr/local/lib/python3.6/dist-packages (from astropy) (1.19.4)\n",
            "Collecting jplephem\n",
            "\u001b[?25l  Downloading https://files.pythonhosted.org/packages/c9/f0/e57456436531333455f40864622c5ae359654ccede8fe1156c3c2ac6c492/jplephem-2.15.tar.gz (40kB)\n",
            "\u001b[K     |████████████████████████████████| 40kB 3.2MB/s \n",
            "\u001b[?25hRequirement already satisfied: numpy in /usr/local/lib/python3.6/dist-packages (from jplephem) (1.19.4)\n",
            "Building wheels for collected packages: jplephem\n",
            "  Building wheel for jplephem (setup.py) ... \u001b[?25l\u001b[?25hdone\n",
            "  Created wheel for jplephem: filename=jplephem-2.15-cp36-none-any.whl size=46018 sha256=f80eb4b3fa65c4bc6ac31b4728b6d76f707da109aaa847d8752f440d25ed5116\n",
            "  Stored in directory: /root/.cache/pip/wheels/01/71/9c/beaa33beb607ef67b62765324a10cd3584e30fbeef8856b7a8\n",
            "Successfully built jplephem\n",
            "Installing collected packages: jplephem\n",
            "Successfully installed jplephem-2.15\n",
            "Requirement already satisfied: Cython in /usr/local/lib/python3.6/dist-packages (0.29.21)\n",
            "Collecting corner\n",
            "  Downloading https://files.pythonhosted.org/packages/5a/ff/df5e34996aec8bc342c72714d1384e9af17259e6f60c2a63da2f53ba1631/corner-2.1.0-py2.py3-none-any.whl\n",
            "Requirement already satisfied: wheel in /usr/local/lib/python3.6/dist-packages (from corner) (0.36.2)\n",
            "Requirement already satisfied: matplotlib>=2.1 in /usr/local/lib/python3.6/dist-packages (from corner) (3.2.2)\n",
            "Collecting setuptools-scm\n",
            "  Downloading https://files.pythonhosted.org/packages/db/6e/2815f7c8561b088ccedc128681e64daac3d6b2e81a9918b007e244dad8b1/setuptools_scm-5.0.1-py2.py3-none-any.whl\n",
            "Requirement already satisfied: setuptools>=40.6.0 in /usr/local/lib/python3.6/dist-packages (from corner) (51.1.1)\n",
            "Requirement already satisfied: numpy>=1.11 in /usr/local/lib/python3.6/dist-packages (from matplotlib>=2.1->corner) (1.19.4)\n",
            "Requirement already satisfied: pyparsing!=2.0.4,!=2.1.2,!=2.1.6,>=2.0.1 in /usr/local/lib/python3.6/dist-packages (from matplotlib>=2.1->corner) (2.4.7)\n",
            "Requirement already satisfied: cycler>=0.10 in /usr/local/lib/python3.6/dist-packages (from matplotlib>=2.1->corner) (0.10.0)\n",
            "Requirement already satisfied: kiwisolver>=1.0.1 in /usr/local/lib/python3.6/dist-packages (from matplotlib>=2.1->corner) (1.3.1)\n",
            "Requirement already satisfied: python-dateutil>=2.1 in /usr/local/lib/python3.6/dist-packages (from matplotlib>=2.1->corner) (2.8.1)\n",
            "Requirement already satisfied: six in /usr/local/lib/python3.6/dist-packages (from cycler>=0.10->matplotlib>=2.1->corner) (1.15.0)\n",
            "Installing collected packages: setuptools-scm, corner\n",
            "Successfully installed corner-2.1.0 setuptools-scm-5.0.1\n",
            "Reading package lists... Done\n",
            "Building dependency tree       \n",
            "Reading state information... Done\n",
            "The following additional packages will be installed:\n",
            "  autotools-dev file libmagic-mgc libmagic1\n",
            "Suggested packages:\n",
            "  libtool-doc autoconf automaken gcj-jdk\n",
            "The following NEW packages will be installed:\n",
            "  autotools-dev file libmagic-mgc libmagic1 libtool\n",
            "0 upgraded, 5 newly installed, 0 to remove and 16 not upgraded.\n",
            "Need to get 508 kB of archives.\n",
            "After this operation, 6,715 kB of additional disk space will be used.\n",
            "Get:1 http://archive.ubuntu.com/ubuntu bionic-updates/main amd64 libmagic-mgc amd64 1:5.32-2ubuntu0.4 [184 kB]\n",
            "Get:2 http://archive.ubuntu.com/ubuntu bionic-updates/main amd64 libmagic1 amd64 1:5.32-2ubuntu0.4 [68.6 kB]\n",
            "Get:3 http://archive.ubuntu.com/ubuntu bionic-updates/main amd64 file amd64 1:5.32-2ubuntu0.4 [22.1 kB]\n",
            "Get:4 http://archive.ubuntu.com/ubuntu bionic/main amd64 autotools-dev all 20180224.1 [39.6 kB]\n",
            "Get:5 http://archive.ubuntu.com/ubuntu bionic/main amd64 libtool all 2.4.6-2 [194 kB]\n",
            "Fetched 508 kB in 1s (602 kB/s)\n",
            "Selecting previously unselected package libmagic-mgc.\n",
            "(Reading database ... 145483 files and directories currently installed.)\n",
            "Preparing to unpack .../libmagic-mgc_1%3a5.32-2ubuntu0.4_amd64.deb ...\n",
            "Unpacking libmagic-mgc (1:5.32-2ubuntu0.4) ...\n",
            "Selecting previously unselected package libmagic1:amd64.\n",
            "Preparing to unpack .../libmagic1_1%3a5.32-2ubuntu0.4_amd64.deb ...\n",
            "Unpacking libmagic1:amd64 (1:5.32-2ubuntu0.4) ...\n",
            "Selecting previously unselected package file.\n",
            "Preparing to unpack .../file_1%3a5.32-2ubuntu0.4_amd64.deb ...\n",
            "Unpacking file (1:5.32-2ubuntu0.4) ...\n",
            "Selecting previously unselected package autotools-dev.\n",
            "Preparing to unpack .../autotools-dev_20180224.1_all.deb ...\n",
            "Unpacking autotools-dev (20180224.1) ...\n",
            "Selecting previously unselected package libtool.\n",
            "Preparing to unpack .../libtool_2.4.6-2_all.deb ...\n",
            "Unpacking libtool (2.4.6-2) ...\n",
            "Setting up libmagic-mgc (1:5.32-2ubuntu0.4) ...\n",
            "Setting up libmagic1:amd64 (1:5.32-2ubuntu0.4) ...\n",
            "Setting up autotools-dev (20180224.1) ...\n",
            "Setting up file (1:5.32-2ubuntu0.4) ...\n",
            "Setting up libtool (2.4.6-2) ...\n",
            "Processing triggers for man-db (2.8.3-2ubuntu0.1) ...\n",
            "Processing triggers for libc-bin (2.27-3ubuntu1.2) ...\n",
            "/sbin/ldconfig.real: /usr/local/lib/python3.6/dist-packages/ideep4py/lib/libmkldnn.so.0 is not a symbolic link\n",
            "\n",
            "Reading package lists... Done\n",
            "Building dependency tree       \n",
            "Reading state information... Done\n",
            "The following additional packages will be installed:\n",
            "  automake libsigsegv2 m4\n",
            "Suggested packages:\n",
            "  autoconf-archive gnu-standards autoconf-doc gettext m4-doc\n",
            "The following NEW packages will be installed:\n",
            "  autoconf automake libsigsegv2 m4\n",
            "0 upgraded, 4 newly installed, 0 to remove and 16 not upgraded.\n",
            "Need to get 1,043 kB of archives.\n",
            "After this operation, 3,833 kB of additional disk space will be used.\n",
            "Get:1 http://archive.ubuntu.com/ubuntu bionic/main amd64 libsigsegv2 amd64 2.12-1 [14.7 kB]\n",
            "Get:2 http://archive.ubuntu.com/ubuntu bionic/main amd64 m4 amd64 1.4.18-1 [197 kB]\n",
            "Get:3 http://archive.ubuntu.com/ubuntu bionic/main amd64 autoconf all 2.69-11 [322 kB]\n",
            "Get:4 http://archive.ubuntu.com/ubuntu bionic/main amd64 automake all 1:1.15.1-3ubuntu2 [509 kB]\n",
            "Fetched 1,043 kB in 1s (1,273 kB/s)\n",
            "Selecting previously unselected package libsigsegv2:amd64.\n",
            "(Reading database ... 145554 files and directories currently installed.)\n",
            "Preparing to unpack .../libsigsegv2_2.12-1_amd64.deb ...\n",
            "Unpacking libsigsegv2:amd64 (2.12-1) ...\n",
            "Selecting previously unselected package m4.\n",
            "Preparing to unpack .../archives/m4_1.4.18-1_amd64.deb ...\n",
            "Unpacking m4 (1.4.18-1) ...\n",
            "Selecting previously unselected package autoconf.\n",
            "Preparing to unpack .../autoconf_2.69-11_all.deb ...\n",
            "Unpacking autoconf (2.69-11) ...\n",
            "Selecting previously unselected package automake.\n",
            "Preparing to unpack .../automake_1%3a1.15.1-3ubuntu2_all.deb ...\n",
            "Unpacking automake (1:1.15.1-3ubuntu2) ...\n",
            "Setting up libsigsegv2:amd64 (2.12-1) ...\n",
            "Setting up m4 (1.4.18-1) ...\n",
            "Setting up autoconf (2.69-11) ...\n",
            "Setting up automake (1:1.15.1-3ubuntu2) ...\n",
            "update-alternatives: using /usr/bin/automake-1.15 to provide /usr/bin/automake (automake) in auto mode\n",
            "Processing triggers for libc-bin (2.27-3ubuntu1.2) ...\n",
            "/sbin/ldconfig.real: /usr/local/lib/python3.6/dist-packages/ideep4py/lib/libmkldnn.so.0 is not a symbolic link\n",
            "\n",
            "Processing triggers for man-db (2.8.3-2ubuntu0.1) ...\n",
            "Reading package lists... Done\n",
            "Building dependency tree       \n",
            "Reading state information... Done\n",
            "The following additional packages will be installed:\n",
            "  libamd2 libbtf1 libcamd2 libccolamd2 libcholmod3 libcolamd2 libcxsparse3\n",
            "  libgraphblas1 libklu1 libldl2 libmetis5 librbio2 libspqr2\n",
            "  libsuitesparseconfig5 libumfpack5\n",
            "The following NEW packages will be installed:\n",
            "  libamd2 libbtf1 libcamd2 libccolamd2 libcholmod3 libcolamd2 libcxsparse3\n",
            "  libgraphblas1 libklu1 libldl2 libmetis5 librbio2 libspqr2 libsuitesparse-dev\n",
            "  libsuitesparseconfig5 libumfpack5\n",
            "0 upgraded, 16 newly installed, 0 to remove and 16 not upgraded.\n",
            "Need to get 2,646 kB of archives.\n",
            "After this operation, 19.8 MB of additional disk space will be used.\n",
            "Get:1 http://archive.ubuntu.com/ubuntu bionic/main amd64 libsuitesparseconfig5 amd64 1:5.1.2-2 [9,044 B]\n",
            "Get:2 http://archive.ubuntu.com/ubuntu bionic/main amd64 libamd2 amd64 1:5.1.2-2 [19.5 kB]\n",
            "Get:3 http://archive.ubuntu.com/ubuntu bionic/main amd64 libbtf1 amd64 1:5.1.2-2 [10.6 kB]\n",
            "Get:4 http://archive.ubuntu.com/ubuntu bionic/main amd64 libcamd2 amd64 1:5.1.2-2 [20.9 kB]\n",
            "Get:5 http://archive.ubuntu.com/ubuntu bionic/main amd64 libccolamd2 amd64 1:5.1.2-2 [21.7 kB]\n",
            "Get:6 http://archive.ubuntu.com/ubuntu bionic/main amd64 libcolamd2 amd64 1:5.1.2-2 [16.2 kB]\n",
            "Get:7 http://archive.ubuntu.com/ubuntu bionic/main amd64 libmetis5 amd64 5.1.0.dfsg-5 [169 kB]\n",
            "Get:8 http://archive.ubuntu.com/ubuntu bionic/main amd64 libcholmod3 amd64 1:5.1.2-2 [300 kB]\n",
            "Get:9 http://archive.ubuntu.com/ubuntu bionic/main amd64 libcxsparse3 amd64 1:5.1.2-2 [63.9 kB]\n",
            "Get:10 http://archive.ubuntu.com/ubuntu bionic/main amd64 libgraphblas1 amd64 1:5.1.2-2 [384 kB]\n",
            "Get:11 http://archive.ubuntu.com/ubuntu bionic/main amd64 libklu1 amd64 1:5.1.2-2 [69.3 kB]\n",
            "Get:12 http://archive.ubuntu.com/ubuntu bionic/main amd64 libldl2 amd64 1:5.1.2-2 [10.3 kB]\n",
            "Get:13 http://archive.ubuntu.com/ubuntu bionic/main amd64 librbio2 amd64 1:5.1.2-2 [24.0 kB]\n",
            "Get:14 http://archive.ubuntu.com/ubuntu bionic/main amd64 libspqr2 amd64 1:5.1.2-2 [64.2 kB]\n",
            "Get:15 http://archive.ubuntu.com/ubuntu bionic/main amd64 libumfpack5 amd64 1:5.1.2-2 [229 kB]\n",
            "Get:16 http://archive.ubuntu.com/ubuntu bionic/main amd64 libsuitesparse-dev amd64 1:5.1.2-2 [1,235 kB]\n",
            "Fetched 2,646 kB in 1s (2,950 kB/s)\n",
            "Selecting previously unselected package libsuitesparseconfig5:amd64.\n",
            "(Reading database ... 145825 files and directories currently installed.)\n",
            "Preparing to unpack .../00-libsuitesparseconfig5_1%3a5.1.2-2_amd64.deb ...\n",
            "Unpacking libsuitesparseconfig5:amd64 (1:5.1.2-2) ...\n",
            "Selecting previously unselected package libamd2:amd64.\n",
            "Preparing to unpack .../01-libamd2_1%3a5.1.2-2_amd64.deb ...\n",
            "Unpacking libamd2:amd64 (1:5.1.2-2) ...\n",
            "Selecting previously unselected package libbtf1:amd64.\n",
            "Preparing to unpack .../02-libbtf1_1%3a5.1.2-2_amd64.deb ...\n",
            "Unpacking libbtf1:amd64 (1:5.1.2-2) ...\n",
            "Selecting previously unselected package libcamd2:amd64.\n",
            "Preparing to unpack .../03-libcamd2_1%3a5.1.2-2_amd64.deb ...\n",
            "Unpacking libcamd2:amd64 (1:5.1.2-2) ...\n",
            "Selecting previously unselected package libccolamd2:amd64.\n",
            "Preparing to unpack .../04-libccolamd2_1%3a5.1.2-2_amd64.deb ...\n",
            "Unpacking libccolamd2:amd64 (1:5.1.2-2) ...\n",
            "Selecting previously unselected package libcolamd2:amd64.\n",
            "Preparing to unpack .../05-libcolamd2_1%3a5.1.2-2_amd64.deb ...\n",
            "Unpacking libcolamd2:amd64 (1:5.1.2-2) ...\n",
            "Selecting previously unselected package libmetis5:amd64.\n",
            "Preparing to unpack .../06-libmetis5_5.1.0.dfsg-5_amd64.deb ...\n",
            "Unpacking libmetis5:amd64 (5.1.0.dfsg-5) ...\n",
            "Selecting previously unselected package libcholmod3:amd64.\n",
            "Preparing to unpack .../07-libcholmod3_1%3a5.1.2-2_amd64.deb ...\n",
            "Unpacking libcholmod3:amd64 (1:5.1.2-2) ...\n",
            "Selecting previously unselected package libcxsparse3:amd64.\n",
            "Preparing to unpack .../08-libcxsparse3_1%3a5.1.2-2_amd64.deb ...\n",
            "Unpacking libcxsparse3:amd64 (1:5.1.2-2) ...\n",
            "Selecting previously unselected package libgraphblas1:amd64.\n",
            "Preparing to unpack .../09-libgraphblas1_1%3a5.1.2-2_amd64.deb ...\n",
            "Unpacking libgraphblas1:amd64 (1:5.1.2-2) ...\n",
            "Selecting previously unselected package libklu1:amd64.\n",
            "Preparing to unpack .../10-libklu1_1%3a5.1.2-2_amd64.deb ...\n",
            "Unpacking libklu1:amd64 (1:5.1.2-2) ...\n",
            "Selecting previously unselected package libldl2:amd64.\n",
            "Preparing to unpack .../11-libldl2_1%3a5.1.2-2_amd64.deb ...\n",
            "Unpacking libldl2:amd64 (1:5.1.2-2) ...\n",
            "Selecting previously unselected package librbio2:amd64.\n",
            "Preparing to unpack .../12-librbio2_1%3a5.1.2-2_amd64.deb ...\n",
            "Unpacking librbio2:amd64 (1:5.1.2-2) ...\n",
            "Selecting previously unselected package libspqr2:amd64.\n",
            "Preparing to unpack .../13-libspqr2_1%3a5.1.2-2_amd64.deb ...\n",
            "Unpacking libspqr2:amd64 (1:5.1.2-2) ...\n",
            "Selecting previously unselected package libumfpack5:amd64.\n",
            "Preparing to unpack .../14-libumfpack5_1%3a5.1.2-2_amd64.deb ...\n",
            "Unpacking libumfpack5:amd64 (1:5.1.2-2) ...\n",
            "Selecting previously unselected package libsuitesparse-dev:amd64.\n",
            "Preparing to unpack .../15-libsuitesparse-dev_1%3a5.1.2-2_amd64.deb ...\n",
            "Unpacking libsuitesparse-dev:amd64 (1:5.1.2-2) ...\n",
            "Setting up libbtf1:amd64 (1:5.1.2-2) ...\n",
            "Setting up libldl2:amd64 (1:5.1.2-2) ...\n",
            "Setting up libcxsparse3:amd64 (1:5.1.2-2) ...\n",
            "Setting up libgraphblas1:amd64 (1:5.1.2-2) ...\n",
            "Setting up libsuitesparseconfig5:amd64 (1:5.1.2-2) ...\n",
            "Setting up libmetis5:amd64 (5.1.0.dfsg-5) ...\n",
            "Setting up libcolamd2:amd64 (1:5.1.2-2) ...\n",
            "Setting up libccolamd2:amd64 (1:5.1.2-2) ...\n",
            "Setting up librbio2:amd64 (1:5.1.2-2) ...\n",
            "Setting up libcamd2:amd64 (1:5.1.2-2) ...\n",
            "Setting up libamd2:amd64 (1:5.1.2-2) ...\n",
            "Setting up libklu1:amd64 (1:5.1.2-2) ...\n",
            "Setting up libcholmod3:amd64 (1:5.1.2-2) ...\n",
            "Setting up libspqr2:amd64 (1:5.1.2-2) ...\n",
            "Setting up libumfpack5:amd64 (1:5.1.2-2) ...\n",
            "Setting up libsuitesparse-dev:amd64 (1:5.1.2-2) ...\n",
            "Processing triggers for libc-bin (2.27-3ubuntu1.2) ...\n",
            "/sbin/ldconfig.real: /usr/local/lib/python3.6/dist-packages/ideep4py/lib/libmkldnn.so.0 is not a symbolic link\n",
            "\n",
            "Collecting scikit-sparse\n",
            "\u001b[?25l  Downloading https://files.pythonhosted.org/packages/af/14/08a13ccf3b4e0300cf47641f959b8062376a73efc4c8265f2b6f6eae04fc/scikit-sparse-0.4.4.tar.gz (385kB)\n",
            "\u001b[K     |████████████████████████████████| 389kB 6.2MB/s \n",
            "\u001b[?25hRequirement already satisfied: numpy in /usr/local/lib/python3.6/dist-packages (from scikit-sparse) (1.19.4)\n",
            "Requirement already satisfied: scipy in /usr/local/lib/python3.6/dist-packages (from scikit-sparse) (1.4.1)\n",
            "Building wheels for collected packages: scikit-sparse\n",
            "  Building wheel for scikit-sparse (setup.py) ... \u001b[?25l\u001b[?25hdone\n",
            "  Created wheel for scikit-sparse: filename=scikit_sparse-0.4.4-cp36-cp36m-linux_x86_64.whl size=582948 sha256=c076996f458ded543a573a2c724abd7767d7094784b45ca4445c996a20fbdd4a\n",
            "  Stored in directory: /root/.cache/pip/wheels/e2/9a/ab/067414de0670f95436345d4ef33337d511a47aabc6c3307062\n",
            "Successfully built scikit-sparse\n",
            "Installing collected packages: scikit-sparse\n",
            "Successfully installed scikit-sparse-0.4.4\n",
            "Collecting git+https://github.com/nanograv/PINT.git\n",
            "  Cloning https://github.com/nanograv/PINT.git to /tmp/pip-req-build-tjm5mysv\n",
            "  Running command git clone -q https://github.com/nanograv/PINT.git /tmp/pip-req-build-tjm5mysv\n",
            "Requirement already satisfied: astropy!=4.0.1,!=4.0.1.post1,>=4.0 in /usr/local/lib/python3.6/dist-packages (from pint-pulsar==0.8.1) (4.1)\n",
            "Requirement already satisfied: numpy>=1.17.0 in /usr/local/lib/python3.6/dist-packages (from pint-pulsar==0.8.1) (1.19.4)\n",
            "Requirement already satisfied: scipy>=0.18.1 in /usr/local/lib/python3.6/dist-packages (from pint-pulsar==0.8.1) (1.4.1)\n",
            "Requirement already satisfied: jplephem>=2.6 in /usr/local/lib/python3.6/dist-packages (from pint-pulsar==0.8.1) (2.15)\n",
            "Requirement already satisfied: matplotlib>=1.5.3 in /usr/local/lib/python3.6/dist-packages (from pint-pulsar==0.8.1) (3.2.2)\n",
            "Collecting emcee>=3.0\n",
            "\u001b[?25l  Downloading https://files.pythonhosted.org/packages/97/f4/00151f5f843088337c6a53edd6cbb2df340f1044d23080c662f95219cc3f/emcee-3.0.2-py2.py3-none-any.whl (41kB)\n",
            "\u001b[K     |████████████████████████████████| 51kB 2.9MB/s \n",
            "\u001b[?25hCollecting uncertainties\n",
            "\u001b[?25l  Downloading https://files.pythonhosted.org/packages/45/41/fc7e7b73b603e7c2c9e040b7aa8caf4a88d74b6faa567601ed82b6f0d8e1/uncertainties-3.1.5-py2.py3-none-any.whl (246kB)\n",
            "\u001b[K     |████████████████████████████████| 256kB 7.4MB/s \n",
            "\u001b[?25hRequirement already satisfied: corner>=2.0.1 in /usr/local/lib/python3.6/dist-packages (from pint-pulsar==0.8.1) (2.1.0)\n",
            "Requirement already satisfied: kiwisolver>=1.0.1 in /usr/local/lib/python3.6/dist-packages (from matplotlib>=1.5.3->pint-pulsar==0.8.1) (1.3.1)\n",
            "Requirement already satisfied: pyparsing!=2.0.4,!=2.1.2,!=2.1.6,>=2.0.1 in /usr/local/lib/python3.6/dist-packages (from matplotlib>=1.5.3->pint-pulsar==0.8.1) (2.4.7)\n",
            "Requirement already satisfied: cycler>=0.10 in /usr/local/lib/python3.6/dist-packages (from matplotlib>=1.5.3->pint-pulsar==0.8.1) (0.10.0)\n",
            "Requirement already satisfied: python-dateutil>=2.1 in /usr/local/lib/python3.6/dist-packages (from matplotlib>=1.5.3->pint-pulsar==0.8.1) (2.8.1)\n",
            "Requirement already satisfied: future in /usr/local/lib/python3.6/dist-packages (from uncertainties->pint-pulsar==0.8.1) (0.16.0)\n",
            "Requirement already satisfied: setuptools-scm in /usr/local/lib/python3.6/dist-packages (from corner>=2.0.1->pint-pulsar==0.8.1) (5.0.1)\n",
            "Requirement already satisfied: wheel in /usr/local/lib/python3.6/dist-packages (from corner>=2.0.1->pint-pulsar==0.8.1) (0.36.2)\n",
            "Requirement already satisfied: setuptools>=40.6.0 in /usr/local/lib/python3.6/dist-packages (from corner>=2.0.1->pint-pulsar==0.8.1) (51.1.1)\n",
            "Requirement already satisfied: six in /usr/local/lib/python3.6/dist-packages (from cycler>=0.10->matplotlib>=1.5.3->pint-pulsar==0.8.1) (1.15.0)\n",
            "Building wheels for collected packages: pint-pulsar\n",
            "  Building wheel for pint-pulsar (setup.py) ... \u001b[?25l\u001b[?25hdone\n",
            "  Created wheel for pint-pulsar: filename=pint_pulsar-0.8.1-cp36-none-any.whl size=11109517 sha256=111e38fc070a13abe9e23473ff2b4f2e1de0c0f782716009953431ba9fbfee96\n",
            "  Stored in directory: /tmp/pip-ephem-wheel-cache-jw9j694f/wheels/97/19/63/c0e468ead20d93f442aea0e5628f05914b6d5af9b37263bb95\n",
            "Successfully built pint-pulsar\n",
            "Installing collected packages: emcee, uncertainties, pint-pulsar\n",
            "Successfully installed emcee-3.0.2 pint-pulsar-0.8.1 uncertainties-3.1.5\n",
            "Collecting git+https://github.com/vallis/libstempo.git\n",
            "  Cloning https://github.com/vallis/libstempo.git to /tmp/pip-req-build-nnj7nk2g\n",
            "  Running command git clone -q https://github.com/vallis/libstempo.git /tmp/pip-req-build-nnj7nk2g\n",
            "Building wheels for collected packages: libstempo\n",
            "  Building wheel for libstempo (setup.py) ... \u001b[?25l\u001b[?25hdone\n",
            "  Created wheel for libstempo: filename=libstempo-2.3.5-cp36-cp36m-linux_x86_64.whl size=1132399 sha256=05b4b507e7d23163846e07342f0d6378edf550314464e53f6fe4a66227bdcbb6\n",
            "  Stored in directory: /tmp/pip-ephem-wheel-cache-1d8k693v/wheels/42/35/90/462e414fd951ff42117768d4568dd45b7920c06e1549ad804d\n",
            "Successfully built libstempo\n",
            "Installing collected packages: libstempo\n",
            "Successfully installed libstempo-2.3.5\n",
            "Collecting git+https://github.com/nanograv/enterprise.git\n",
            "  Cloning https://github.com/nanograv/enterprise.git to /tmp/pip-req-build-k9m_2i07\n",
            "  Running command git clone -q https://github.com/nanograv/enterprise.git /tmp/pip-req-build-k9m_2i07\n",
            "  Installing build dependencies ... \u001b[?25l\u001b[?25hdone\n",
            "  Getting requirements to build wheel ... \u001b[?25l\u001b[?25hdone\n",
            "    Preparing wheel metadata ... \u001b[?25l\u001b[?25hdone\n",
            "Building wheels for collected packages: enterprise\n",
            "  Building wheel for enterprise (PEP 517) ... \u001b[?25l\u001b[?25hdone\n",
            "  Created wheel for enterprise: filename=enterprise-3.0.0-cp36-none-any.whl size=9254124 sha256=c88474f8d20e3ec8cb1af1b2ccfdbcf37c87536e086baaeb93e371b892ca3448\n",
            "  Stored in directory: /tmp/pip-ephem-wheel-cache-u6wrmsqh/wheels/a9/85/fd/efe1d8fcafa37f5fb532febcd5f540b6ef997f35f9e3cb7d24\n",
            "Successfully built enterprise\n",
            "Installing collected packages: enterprise\n",
            "Successfully installed enterprise-3.0.0\n",
            "Collecting git+https://github.com/nanograv/enterprise_extensions\n",
            "  Cloning https://github.com/nanograv/enterprise_extensions to /tmp/pip-req-build-l_xzba6n\n",
            "  Running command git clone -q https://github.com/nanograv/enterprise_extensions /tmp/pip-req-build-l_xzba6n\n",
            "Requirement already satisfied: numpy in /usr/local/lib/python3.6/dist-packages (from enterprise-extensions==0.0.0) (1.19.4)\n",
            "Requirement already satisfied: scipy in /usr/local/lib/python3.6/dist-packages (from enterprise-extensions==0.0.0) (1.4.1)\n",
            "Building wheels for collected packages: enterprise-extensions\n",
            "  Building wheel for enterprise-extensions (setup.py) ... \u001b[?25l\u001b[?25hdone\n",
            "  Created wheel for enterprise-extensions: filename=enterprise_extensions-0.0.0-py2.py3-none-any.whl size=148503 sha256=79fc21b3c59a7dff38692652f24476548778bbb0a4ceded039670d53ebd1870d\n",
            "  Stored in directory: /tmp/pip-ephem-wheel-cache-ocoqqogk/wheels/71/c7/c6/ac53a44b9d89bf004b280618c4a175eaf1697aaf23f2ac0fd0\n",
            "Successfully built enterprise-extensions\n",
            "Installing collected packages: enterprise-extensions\n",
            "Successfully installed enterprise-extensions-0.0.0\n",
            "Collecting git+https://github.com/jellis18/PTMCMCSampler\n",
            "  Cloning https://github.com/jellis18/PTMCMCSampler to /tmp/pip-req-build-2j3snu5d\n",
            "  Running command git clone -q https://github.com/jellis18/PTMCMCSampler /tmp/pip-req-build-2j3snu5d\n",
            "Requirement already satisfied: numpy in /usr/local/lib/python3.6/dist-packages (from PTMCMCSampler==2015.2) (1.19.4)\n",
            "Requirement already satisfied: scipy in /usr/local/lib/python3.6/dist-packages (from PTMCMCSampler==2015.2) (1.4.1)\n",
            "Building wheels for collected packages: PTMCMCSampler\n",
            "  Building wheel for PTMCMCSampler (setup.py) ... \u001b[?25l\u001b[?25hdone\n",
            "  Created wheel for PTMCMCSampler: filename=PTMCMCSampler-2015.2-cp36-none-any.whl size=18463 sha256=c4b36ca76bc71186ec1ff8fab5804c205b735c0fcfa9f42568996fbc449b2f78\n",
            "  Stored in directory: /tmp/pip-ephem-wheel-cache-chy6mdp0/wheels/7a/ce/bc/1943523d53252345c3d81b60acd88ea1bf1d4f83317d46b8d9\n",
            "Successfully built PTMCMCSampler\n",
            "Installing collected packages: PTMCMCSampler\n",
            "Successfully installed PTMCMCSampler-2015.2\n",
            "Collecting mpi4py\n",
            "\u001b[?25l  Downloading https://files.pythonhosted.org/packages/ec/8f/bbd8de5ba566dd77e408d8136e2bab7fdf2b97ce06cab830ba8b50a2f588/mpi4py-3.0.3.tar.gz (1.4MB)\n",
            "\u001b[K     |████████████████████████████████| 1.4MB 6.1MB/s \n",
            "\u001b[?25hBuilding wheels for collected packages: mpi4py\n",
            "  Building wheel for mpi4py (setup.py) ... \u001b[?25l\u001b[?25hdone\n",
            "  Created wheel for mpi4py: filename=mpi4py-3.0.3-cp36-cp36m-linux_x86_64.whl size=2074480 sha256=2c55f58ec07c0e51280d182cc12bbb9ef2c43fd4b5b0f9cf3284a194abf1396a\n",
            "  Stored in directory: /root/.cache/pip/wheels/18/e0/86/2b713dd512199096012ceca61429e12b960888de59818871d6\n",
            "Successfully built mpi4py\n",
            "Installing collected packages: mpi4py\n",
            "Successfully installed mpi4py-3.0.3\n",
            "Collecting git+https://github.com/nanograv/enterprise_extensions.git\n",
            "  Cloning https://github.com/nanograv/enterprise_extensions.git to /tmp/pip-req-build-x03e3mox\n",
            "  Running command git clone -q https://github.com/nanograv/enterprise_extensions.git /tmp/pip-req-build-x03e3mox\n",
            "Requirement already satisfied (use --upgrade to upgrade): enterprise-extensions==0.0.0 from git+https://github.com/nanograv/enterprise_extensions.git in /usr/local/lib/python3.6/dist-packages\n",
            "Requirement already satisfied: numpy in /usr/local/lib/python3.6/dist-packages (from enterprise-extensions==0.0.0) (1.19.4)\n",
            "Requirement already satisfied: scipy in /usr/local/lib/python3.6/dist-packages (from enterprise-extensions==0.0.0) (1.4.1)\n",
            "Building wheels for collected packages: enterprise-extensions\n",
            "  Building wheel for enterprise-extensions (setup.py) ... \u001b[?25l\u001b[?25hdone\n",
            "  Created wheel for enterprise-extensions: filename=enterprise_extensions-0.0.0-py2.py3-none-any.whl size=148503 sha256=e10d16f6a56dedca24a29ce425fc08e8664e28ed2c8b58434ba867537cb12b2c\n",
            "  Stored in directory: /tmp/pip-ephem-wheel-cache-d1eg3e5h/wheels/5e/2d/9b/9861f4423cebdb6ff65d320ae1049e527588a1ef8b71bf2095\n",
            "Successfully built enterprise-extensions\n",
            "Collecting healpy\n",
            "\u001b[?25l  Downloading https://files.pythonhosted.org/packages/dd/30/56144086dc132b5bf5b271c62d045460db6c6a5a2bb68d3f7bde678a6727/healpy-1.14.0-cp36-cp36m-manylinux1_x86_64.whl (15.8MB)\n",
            "\u001b[K     |████████████████████████████████| 15.8MB 534kB/s \n",
            "\u001b[?25hRequirement already satisfied: astropy in /usr/local/lib/python3.6/dist-packages (from healpy) (4.1)\n",
            "Requirement already satisfied: six in /usr/local/lib/python3.6/dist-packages (from healpy) (1.15.0)\n",
            "Requirement already satisfied: matplotlib in /usr/local/lib/python3.6/dist-packages (from healpy) (3.2.2)\n",
            "Requirement already satisfied: scipy in /usr/local/lib/python3.6/dist-packages (from healpy) (1.4.1)\n",
            "Requirement already satisfied: numpy>=1.13 in /usr/local/lib/python3.6/dist-packages (from healpy) (1.19.4)\n",
            "Requirement already satisfied: python-dateutil>=2.1 in /usr/local/lib/python3.6/dist-packages (from matplotlib->healpy) (2.8.1)\n",
            "Requirement already satisfied: cycler>=0.10 in /usr/local/lib/python3.6/dist-packages (from matplotlib->healpy) (0.10.0)\n",
            "Requirement already satisfied: kiwisolver>=1.0.1 in /usr/local/lib/python3.6/dist-packages (from matplotlib->healpy) (1.3.1)\n",
            "Requirement already satisfied: pyparsing!=2.0.4,!=2.1.2,!=2.1.6,>=2.0.1 in /usr/local/lib/python3.6/dist-packages (from matplotlib->healpy) (2.4.7)\n",
            "Installing collected packages: healpy\n",
            "Successfully installed healpy-1.14.0\n"
          ],
          "name": "stdout"
        }
      ]
    },
    {
      "cell_type": "code",
      "metadata": {
        "colab": {
          "base_uri": "https://localhost:8080/"
        },
        "id": "2wtrHbtUQxoY",
        "outputId": "67974037-25e9-4c39-f687-f832d4ebaf45"
      },
      "source": [
        "!git clone https://github.com/AaronDJohnson/gwb_pta_tutorial.git"
      ],
      "execution_count": null,
      "outputs": [
        {
          "output_type": "stream",
          "text": [
            "Cloning into 'gwb_pta_tutorial'...\n",
            "remote: Enumerating objects: 107, done.\u001b[K\n",
            "remote: Counting objects: 100% (107/107), done.\u001b[K\n",
            "remote: Compressing objects: 100% (68/68), done.\u001b[K\n",
            "remote: Total 107 (delta 39), reused 107 (delta 39), pack-reused 0\u001b[K\n",
            "Receiving objects: 100% (107/107), 24.76 MiB | 18.41 MiB/s, done.\n",
            "Resolving deltas: 100% (39/39), done.\n"
          ],
          "name": "stdout"
        }
      ]
    },
    {
      "cell_type": "markdown",
      "metadata": {
        "id": "NyOTZcCD7IFb"
      },
      "source": [
        "# Using enterprise to analyze PTA data\n",
        "\n",
        "In this notebook you will learn:\n",
        "* How to use `enterprise` to interact with PTA data,\n",
        "* How to search in PTA data for GWs using multiple pulsars,\n",
        "* How to compute Bayes factors using `Hypermodel`,\n",
        "* How to post-process your results.\n",
        "\n",
        "If you are interested in working through this notebook, but do not want to install the software, we have prepared a related Google Colab notebook:\n",
        "\n",
        "By copying this notebook, you can install the software to your own Google Colab account and run the software without installation on your computer.\n",
        "\n",
        "**Warning**: Sampling in this notebook is computationally intensive. It will take hours to sample properly. We have tried to cut it down somewhat while also leaving robust results that are indicative of what is actually done with a real analysis."
      ]
    },
    {
      "cell_type": "markdown",
      "metadata": {
        "id": "iBtbaBVs7IFe"
      },
      "source": [
        "# Load packages and modules"
      ]
    },
    {
      "cell_type": "code",
      "metadata": {
        "ExecuteTime": {
          "end_time": "2018-05-15T21:48:39.150382Z",
          "start_time": "2018-05-15T21:48:39.094542Z"
        },
        "id": "APkDWwtH7IFf"
      },
      "source": [
        "from __future__ import division\n",
        "\n",
        "%matplotlib inline\n",
        "%config InlineBackend.figure_format = 'retina'\n",
        "%load_ext autoreload\n",
        "%autoreload 2\n",
        "\n",
        "import os, glob, json, pickle\n",
        "import matplotlib.pyplot as plt\n",
        "import numpy as np\n",
        "import scipy.linalg as sl\n",
        "\n",
        "import enterprise\n",
        "from enterprise.pulsar import Pulsar\n",
        "import enterprise.signals.parameter as parameter\n",
        "from enterprise.signals import utils\n",
        "from enterprise.signals import signal_base\n",
        "from enterprise.signals import selections\n",
        "from enterprise.signals.selections import Selection\n",
        "from enterprise.signals import white_signals\n",
        "from enterprise.signals import gp_signals\n",
        "from enterprise.signals import deterministic_signals\n",
        "import enterprise.constants as const\n",
        "\n",
        "import corner\n",
        "import multiprocessing\n",
        "from PTMCMCSampler.PTMCMCSampler import PTSampler as ptmcmc"
      ],
      "execution_count": null,
      "outputs": []
    },
    {
      "cell_type": "markdown",
      "metadata": {
        "id": "vmox6ofH7IFg"
      },
      "source": [
        "## Get par, tim, and noise files"
      ]
    },
    {
      "cell_type": "code",
      "metadata": {
        "ExecuteTime": {
          "end_time": "2018-05-15T21:48:42.658570Z",
          "start_time": "2018-05-15T21:48:42.631742Z"
        },
        "id": "OjyGg8PS7IFg"
      },
      "source": [
        "psrlist = None # define a list of pulsar name strings that can be used to filter."
      ],
      "execution_count": null,
      "outputs": []
    },
    {
      "cell_type": "code",
      "metadata": {
        "id": "D7e2St137IFg",
        "colab": {
          "base_uri": "https://localhost:8080/"
        },
        "outputId": "c3f2900c-a912-44db-b864-357c5a9fc9d7"
      },
      "source": [
        "# set the data directory\n",
        "datadir = 'gwb_pta_tutorial/data'\n",
        "if not os.path.isdir(datadir):\n",
        "    datadir = '../data'\n",
        "print(datadir)"
      ],
      "execution_count": null,
      "outputs": [
        {
          "output_type": "stream",
          "text": [
            "gwb_pta_tutorial/data\n"
          ],
          "name": "stdout"
        }
      ]
    },
    {
      "cell_type": "code",
      "metadata": {
        "ExecuteTime": {
          "end_time": "2018-05-15T21:48:43.043752Z",
          "start_time": "2018-05-15T21:48:43.007076Z"
        },
        "id": "y-F-OebE7IFh"
      },
      "source": [
        "# for the entire pta\n",
        "parfiles = sorted(glob.glob(datadir + '/par/*par'))\n",
        "timfiles = sorted(glob.glob(datadir + '/tim/*tim'))\n",
        "\n",
        "# filter\n",
        "if psrlist is not None:\n",
        "    parfiles = [x for x in parfiles if x.split('/')[-1].split('.')[0] in psrlist]\n",
        "    timfiles = [x for x in timfiles if x.split('/')[-1].split('.')[0] in psrlist]\n",
        "\n",
        "# Make sure you use the tempo2 parfile for J1713+0747!!\n",
        "# ...filtering out the tempo parfile...\n",
        "parfiles = [x for x in parfiles if 'J1713+0747_NANOGrav_12yv3.gls.par' not in x]"
      ],
      "execution_count": null,
      "outputs": []
    },
    {
      "cell_type": "markdown",
      "metadata": {
        "id": "DmXF9ivG7IFh"
      },
      "source": [
        "## Load into Pulsar class list\n",
        "\n",
        "* The `enterprise` Pulsar class uses `libstempo` to read in `par` and `tim` files, then stores all pulsar data into a `Pulsar` object. This object contains all data and meta-data needed for the ensuing pulsar and PTA analysis. You no longer to reference the `par` and `tim` files after this cell.\n",
        "\n",
        "* Note below that you can explicitly declare which version of the JPL solar-system ephemeris model that will be used to compute the Roemer delay between the geocenter and the barycenter (e.g. `DE438`). Otherwise the default values will be taken from the `par` files. Explicitly declaring the version here is good practice.\n",
        "\n",
        "* You can also explicitly set the clock file to a version of `BIPM`, e.g. `BIPM(2018)`. This is less important, and you can let the code take the value from the `par` file.\n",
        "\n",
        "* When you execute the following cell, you will get warnings like `WARNING: Could not find pulsar distance for PSR ...`. Don't worry! This is expected, and fine. Not all pulsars have well constrained distances, and will be set to `1 kpc` with a `20%` uncertainty."
      ]
    },
    {
      "cell_type": "markdown",
      "metadata": {
        "id": "E3TT5-oz7IFh"
      },
      "source": [
        "## Read par and tim files into `enterprise` `Pulsar` objects\n",
        "\n",
        "Note: This cell will take a few minutes to run."
      ]
    },
    {
      "cell_type": "code",
      "metadata": {
        "ExecuteTime": {
          "end_time": "2018-05-15T21:49:00.790991Z",
          "start_time": "2018-05-15T21:48:53.703630Z"
        },
        "id": "wBJ5GZSy7IFh",
        "outputId": "b56ccd4f-18cb-45da-dc16-3207f3513bc0"
      },
      "source": [
        "psrs = []\n",
        "ephemeris = 'DE438'\n",
        "for p, t in zip(parfiles, timfiles):\n",
        "    psr = Pulsar(p, t, ephem=ephemeris)\n",
        "    psrs.append(psr)"
      ],
      "execution_count": null,
      "outputs": [
        {
          "output_type": "stream",
          "text": [
            "WARNING: enterprise.pulsar: WARNING: Could not find pulsar distance for PSR J0023+0923. Setting value to 1 with 20% uncertainty.\n",
            "WARNING: enterprise.pulsar: WARNING: Could not find pulsar distance for PSR J0340+4130. Setting value to 1 with 20% uncertainty.\n",
            "WARNING: enterprise.pulsar: WARNING: Could not find pulsar distance for PSR J0636+5128. Setting value to 1 with 20% uncertainty.\n",
            "WARNING: enterprise.pulsar: WARNING: Could not find pulsar distance for PSR J0645+5158. Setting value to 1 with 20% uncertainty.\n",
            "WARNING: enterprise.pulsar: WARNING: Could not find pulsar distance for PSR J0740+6620. Setting value to 1 with 20% uncertainty.\n",
            "WARNING: enterprise.pulsar: WARNING: Could not find pulsar distance for PSR J0931-1902. Setting value to 1 with 20% uncertainty.\n",
            "WARNING: enterprise.pulsar: WARNING: Could not find pulsar distance for PSR J1125+7819. Setting value to 1 with 20% uncertainty.\n",
            "WARNING: enterprise.pulsar: WARNING: Could not find pulsar distance for PSR J1453+1902. Setting value to 1 with 20% uncertainty.\n",
            "WARNING: enterprise.pulsar: WARNING: Could not find pulsar distance for PSR J1614-2230. Setting value to 1 with 20% uncertainty.\n",
            "WARNING: enterprise.pulsar: WARNING: Could not find pulsar distance for PSR J1738+0333. Setting value to 1 with 20% uncertainty.\n",
            "WARNING: enterprise.pulsar: WARNING: Could not find pulsar distance for PSR J1741+1351. Setting value to 1 with 20% uncertainty.\n",
            "WARNING: enterprise.pulsar: WARNING: Could not find pulsar distance for PSR J1747-4036. Setting value to 1 with 20% uncertainty.\n",
            "WARNING: enterprise.pulsar: WARNING: Could not find pulsar distance for PSR J1832-0836. Setting value to 1 with 20% uncertainty.\n",
            "WARNING: enterprise.pulsar: WARNING: Could not find pulsar distance for PSR J1853+1303. Setting value to 1 with 20% uncertainty.\n",
            "WARNING: enterprise.pulsar: WARNING: Could not find pulsar distance for PSR J1903+0327. Setting value to 1 with 20% uncertainty.\n",
            "WARNING: enterprise.pulsar: WARNING: Could not find pulsar distance for PSR J1911+1347. Setting value to 1 with 20% uncertainty.\n",
            "WARNING: enterprise.pulsar: WARNING: Could not find pulsar distance for PSR J1923+2515. Setting value to 1 with 20% uncertainty.\n",
            "WARNING: enterprise.pulsar: WARNING: Could not find pulsar distance for PSR J1944+0907. Setting value to 1 with 20% uncertainty.\n",
            "WARNING: enterprise.pulsar: WARNING: Could not find pulsar distance for PSR J1946+3417. Setting value to 1 with 20% uncertainty.\n",
            "WARNING: enterprise.pulsar: WARNING: Could not find pulsar distance for PSR J2010-1323. Setting value to 1 with 20% uncertainty.\n",
            "WARNING: enterprise.pulsar: WARNING: Could not find pulsar distance for PSR J2017+0603. Setting value to 1 with 20% uncertainty.\n",
            "WARNING: enterprise.pulsar: WARNING: Could not find pulsar distance for PSR J2033+1734. Setting value to 1 with 20% uncertainty.\n",
            "WARNING: enterprise.pulsar: WARNING: Could not find pulsar distance for PSR J2043+1711. Setting value to 1 with 20% uncertainty.\n",
            "WARNING: enterprise.pulsar: WARNING: Could not find pulsar distance for PSR J2214+3000. Setting value to 1 with 20% uncertainty.\n",
            "WARNING: enterprise.pulsar: WARNING: Could not find pulsar distance for PSR J2229+2643. Setting value to 1 with 20% uncertainty.\n",
            "WARNING: enterprise.pulsar: WARNING: Could not find pulsar distance for PSR J2234+0611. Setting value to 1 with 20% uncertainty.\n",
            "WARNING: enterprise.pulsar: WARNING: Could not find pulsar distance for PSR J2234+0944. Setting value to 1 with 20% uncertainty.\n",
            "WARNING: enterprise.pulsar: WARNING: Could not find pulsar distance for PSR J2302+4442. Setting value to 1 with 20% uncertainty.\n",
            "WARNING: enterprise.pulsar: WARNING: Could not find pulsar distance for PSR J2322+2057. Setting value to 1 with 20% uncertainty.\n"
          ],
          "name": "stderr"
        }
      ]
    },
    {
      "cell_type": "markdown",
      "metadata": {
        "id": "FzkwrrNX7IFi"
      },
      "source": [
        "* We can read-in some previously computed noise properties from single-pulsar white noise analyses. These are things like `EFAC`, `EQUAD`, and (for `NANOGrav`) `ECORR`.\n",
        "\n",
        "* In practice, we set these white-noise properties as fixed in the low-frequency noise / GW searches.\n",
        "\n",
        "* See `singlepulsar_whitenoise_analysis.ipynb` to see the methods used to find these values.\n",
        "\n",
        "* The noise properties have been stored as `json` files, and are read in to a big parameter dictionary."
      ]
    },
    {
      "cell_type": "code",
      "metadata": {
        "id": "zvIgEEqb7IFi"
      },
      "source": [
        "## Get parameter noise dictionary\n",
        "noise_ng12 = datadir + '/channelized_12p5yr_v3_full_noisedict.json'\n",
        "\n",
        "params = {}\n",
        "with open(noise_ng12, 'r') as fp:\n",
        "    params.update(json.load(fp))"
      ],
      "execution_count": null,
      "outputs": []
    },
    {
      "cell_type": "markdown",
      "metadata": {
        "id": "xYwHh0nt7IFi"
      },
      "source": [
        "## Set up `enterprise` model for PTA GWB search (*verbose version*)\n",
        "* The requirement for a pulsar to be used in the NANOGrav dataset is that the pulsar has at least three years of data. For the sake of saving some time, we will increase that limit to 6 years (cutting the number of pulsars in half). This will give us a good idea of what the process of analyzing a PTA looks like, while also reducing the computation time and giving similar results."
      ]
    },
    {
      "cell_type": "code",
      "metadata": {
        "id": "pgYr961i7IFi",
        "outputId": "d18fbf6a-fe3a-4d2d-abfa-63c3180f39d1"
      },
      "source": [
        "# OMIT THIS CELL TO USE THE FULL PTA -- THIS WILL TAKE MUCH LONGER\n",
        "# TO SAMPLE THAN WITH THIS CELL\n",
        "\n",
        "YR_SEC = 525600 * 60  # number of seconds in a year\n",
        "YRS = 6  # number of years to cutoff the data at\n",
        "\n",
        "# cut pulsars < X years:\n",
        "new_psrs = []\n",
        "for p in psrs:\n",
        "    delta_t = p.toas.max() - p.toas.min()\n",
        "    delta_t_yrs = delta_t / YR_SEC\n",
        "    if delta_t_yrs > YRS:\n",
        "        new_psrs.append(p)\n",
        "        # print(p.name)\n",
        "psrs = new_psrs\n",
        "print(len(psrs), 'pulsars')"
      ],
      "execution_count": null,
      "outputs": [
        {
          "output_type": "stream",
          "text": [
            "23 pulsars\n"
          ],
          "name": "stdout"
        }
      ]
    },
    {
      "cell_type": "code",
      "metadata": {
        "ExecuteTime": {
          "end_time": "2018-05-15T21:49:45.238037Z",
          "start_time": "2018-05-15T21:49:45.209705Z"
        },
        "id": "D4cNJiKT7IFj"
      },
      "source": [
        "# find the maximum time span to set GW frequency sampling\n",
        "tmin = [p.toas.min() for p in psrs]\n",
        "tmax = [p.toas.max() for p in psrs]\n",
        "Tspan = np.max(tmax) - np.min(tmin)"
      ],
      "execution_count": null,
      "outputs": []
    },
    {
      "cell_type": "markdown",
      "metadata": {
        "id": "vcAnxLrB7IFj"
      },
      "source": [
        "* Usually, in a full PTA analysis we fix all of the white noise (EFAC, EQUAD, and ECORR) parameters to the values obtained from the noise files. This is done by using `Constant` parameters. In this case we do not specify a default value for all instances of that parameter but instead will set them, based on their initialized pulsar and backend specific name, later via the `set_default_params` method of `PTA`.\n",
        "\n",
        "* We use the `Selection` object to define which noise parameters are assigned to which chunks of TOAs. This selection is based on unique combination of backends and receivers."
      ]
    },
    {
      "cell_type": "code",
      "metadata": {
        "ExecuteTime": {
          "end_time": "2018-05-15T21:49:48.496954Z",
          "start_time": "2018-05-15T21:49:48.470085Z"
        },
        "id": "YqMDivzg7IFj"
      },
      "source": [
        "# define selection by observing backend\n",
        "selection = selections.Selection(selections.by_backend)"
      ],
      "execution_count": null,
      "outputs": []
    },
    {
      "cell_type": "markdown",
      "metadata": {
        "ExecuteTime": {
          "end_time": "2018-05-11T16:39:50.133639Z",
          "start_time": "2018-05-11T16:39:50.102972Z"
        },
        "id": "pFuXhsy_7IFj"
      },
      "source": [
        "### Parameters\n",
        "* Another feature to notice is that **for upper limits** we do not use a `Uniform` prior on the log of the red-noise or GWB amplitude. Instead we use a `LinearExp` prior (short for linear-exponent prior), that is a prior of the form $p(x)\\propto 10^x$. This is how we can still use the log of the parameter to sample but place a uniform prior on the parameter itself. We do this for both the red noise and GWB amplitude parameters. **For detection analyses** we still use a `Uniform` prior on the log of the GWB amplitude.\n",
        "\n",
        "* In order to save on computing time we do not include spatial correlations here. Instead we model the GWB as a common red process across all pulsars. In `enterprise` we can do this with a simple trick. We pre-initialize the parameters before passing them to the `Signal` model. In this way the *same* parameter instance is used for all pulsars. Lastly, we fix the spectral index of the GWB to be 13/3 (4.33) using the `Constant` parameter."
      ]
    },
    {
      "cell_type": "code",
      "metadata": {
        "ExecuteTime": {
          "end_time": "2018-05-15T21:49:50.042751Z",
          "start_time": "2018-05-15T21:49:50.005677Z"
        },
        "id": "4K7wMPAo7IFj"
      },
      "source": [
        "# white noise parameters\n",
        "efac = parameter.Constant()\n",
        "equad = parameter.Constant()\n",
        "ecorr = parameter.Constant() # we'll set these later with the params dictionary\n",
        "\n",
        "# red noise parameters\n",
        "log10_A = parameter.Uniform(-20, -11)\n",
        "gamma = parameter.Uniform(0, 7)\n",
        "\n",
        "# dm-variation parameters\n",
        "log10_A_dm = parameter.Uniform(-20, -11)\n",
        "gamma_dm = parameter.Uniform(0, 7)\n",
        "\n",
        "# GW parameters (initialize with names here to use parameters in common across pulsars)\n",
        "log10_A_gw = parameter.Uniform(-18,-14)('log10_A_gw')\n",
        "gamma_gw = parameter.Constant(4.33)('gamma_gw')"
      ],
      "execution_count": null,
      "outputs": []
    },
    {
      "cell_type": "markdown",
      "metadata": {
        "ExecuteTime": {
          "end_time": "2018-05-11T16:44:44.713491Z",
          "start_time": "2018-05-11T16:44:44.685587Z"
        },
        "id": "frI1DHhU7IFj"
      },
      "source": [
        "### Signals"
      ]
    },
    {
      "cell_type": "code",
      "metadata": {
        "ExecuteTime": {
          "end_time": "2018-05-15T21:49:51.557605Z",
          "start_time": "2018-05-15T21:49:51.499006Z"
        },
        "id": "V6ph9NlW7IFj"
      },
      "source": [
        "# white noise\n",
        "ef = white_signals.MeasurementNoise(efac=efac, selection=selection)\n",
        "eq = white_signals.EquadNoise(log10_equad=equad, selection=selection)\n",
        "ec = white_signals.EcorrKernelNoise(log10_ecorr=ecorr, selection=selection)\n",
        "\n",
        "# red noise (powerlaw with 30 frequencies)\n",
        "pl = utils.powerlaw(log10_A=log10_A, gamma=gamma)\n",
        "rn = gp_signals.FourierBasisGP(spectrum=pl, components=30, Tspan=Tspan)\n",
        "\n",
        "# gwb (no spatial correlations)\n",
        "cpl = utils.powerlaw(log10_A=log10_A_gw, gamma=gamma_gw)\n",
        "gw = gp_signals.FourierBasisGP(spectrum=cpl, components=30, Tspan=Tspan, name='gw')\n",
        "\n",
        "# for spatial correlations you can do...\n",
        "# spatial correlations are covered in the hypermodel context later\n",
        "# orf = utils.hd_orf()\n",
        "# crn = gp_signals.FourierBasisCommonGP(cpl, orf,\n",
        "#                                       components=30, Tspan=Tspan, name='gw')\n",
        "\n",
        "# to add solar system ephemeris modeling...\n",
        "bayesephem=False\n",
        "if bayesephem:\n",
        "    eph = deterministic_signals.PhysicalEphemerisSignal(use_epoch_toas=True)\n",
        "\n",
        "# timing model\n",
        "tm = gp_signals.TimingModel(use_svd=True)"
      ],
      "execution_count": null,
      "outputs": []
    },
    {
      "cell_type": "code",
      "metadata": {
        "ExecuteTime": {
          "end_time": "2018-05-15T21:49:52.662732Z",
          "start_time": "2018-05-15T21:49:52.638142Z"
        },
        "id": "-1YttSqI7IFj"
      },
      "source": [
        "# full model\n",
        "if bayesephem:\n",
        "    s = ef + eq + ec + rn + tm + eph + gw\n",
        "else:\n",
        "    s = ef + eq + ec + rn + tm + gw"
      ],
      "execution_count": null,
      "outputs": []
    },
    {
      "cell_type": "code",
      "metadata": {
        "ExecuteTime": {
          "end_time": "2018-05-15T21:49:55.063952Z",
          "start_time": "2018-05-15T21:49:53.602147Z"
        },
        "id": "QOSqd2HH7IFj"
      },
      "source": [
        "# intialize PTA (this cell will take a minute or two to run)\n",
        "models = []\n",
        "\n",
        "for p in psrs:\n",
        "    models.append(s(p))\n",
        "\n",
        "pta = signal_base.PTA(models)"
      ],
      "execution_count": null,
      "outputs": []
    },
    {
      "cell_type": "code",
      "metadata": {
        "ExecuteTime": {
          "end_time": "2018-05-15T21:50:00.319108Z",
          "start_time": "2018-05-15T21:50:00.244934Z"
        },
        "scrolled": true,
        "tags": [
          "outputPrepend"
        ],
        "id": "IyFt9kmA7IFj",
        "outputId": "459f949c-04d0-4e1a-a0b1-52be5c0e92d2"
      },
      "source": [
        "# set white noise parameters with dictionary\n",
        "pta.set_default_params(params)"
      ],
      "execution_count": null,
      "outputs": [
        {
          "output_type": "stream",
          "text": [
            "orr to -7.629255580321534\n",
            "INFO: enterprise.signals.signal_base: Setting J1455-3330_Rcvr_800_GASP_log10_ecorr to -7.085458304995403\n",
            "INFO: enterprise.signals.signal_base: Setting J1455-3330_Rcvr_800_GUPPI_log10_ecorr to -6.526567653068877\n",
            "INFO: enterprise.signals.signal_base: Setting J1600-3053_Rcvr1_2_GASP_efac to 1.134993789980654\n",
            "INFO: enterprise.signals.signal_base: Setting J1600-3053_Rcvr1_2_GUPPI_efac to 1.0521556985294778\n",
            "INFO: enterprise.signals.signal_base: Setting J1600-3053_Rcvr_800_GASP_efac to 1.1935927243559799\n",
            "INFO: enterprise.signals.signal_base: Setting J1600-3053_Rcvr_800_GUPPI_efac to 1.120996265055496\n",
            "INFO: enterprise.signals.signal_base: Setting J1600-3053_Rcvr1_2_GASP_log10_equad to -6.960586084616913\n",
            "INFO: enterprise.signals.signal_base: Setting J1600-3053_Rcvr1_2_GUPPI_log10_equad to -7.761043891506745\n",
            "INFO: enterprise.signals.signal_base: Setting J1600-3053_Rcvr_800_GASP_log10_equad to -7.311693997685966\n",
            "INFO: enterprise.signals.signal_base: Setting J1600-3053_Rcvr_800_GUPPI_log10_equad to -7.374528725467375\n",
            "INFO: enterprise.signals.signal_base: Setting J1600-3053_Rcvr1_2_GASP_log10_ecorr to -7.134558712552095\n",
            "INFO: enterprise.signals.signal_base: Setting J1600-3053_Rcvr1_2_GUPPI_log10_ecorr to -6.899208552923536\n",
            "INFO: enterprise.signals.signal_base: Setting J1600-3053_Rcvr_800_GASP_log10_ecorr to -7.407293847566683\n",
            "INFO: enterprise.signals.signal_base: Setting J1600-3053_Rcvr_800_GUPPI_log10_ecorr to -6.288542964735563\n",
            "INFO: enterprise.signals.signal_base: Setting J1614-2230_Rcvr1_2_GASP_efac to 1.1369056644435913\n",
            "INFO: enterprise.signals.signal_base: Setting J1614-2230_Rcvr1_2_GUPPI_efac to 1.0636501302858106\n",
            "INFO: enterprise.signals.signal_base: Setting J1614-2230_Rcvr_800_GASP_efac to 0.9178765720365575\n",
            "INFO: enterprise.signals.signal_base: Setting J1614-2230_Rcvr_800_GUPPI_efac to 1.0115241685032286\n",
            "INFO: enterprise.signals.signal_base: Setting J1614-2230_Rcvr1_2_GASP_log10_equad to -7.32067533880299\n",
            "INFO: enterprise.signals.signal_base: Setting J1614-2230_Rcvr1_2_GUPPI_log10_equad to -7.784678758801305\n",
            "INFO: enterprise.signals.signal_base: Setting J1614-2230_Rcvr_800_GASP_log10_equad to -7.2577825388006305\n",
            "INFO: enterprise.signals.signal_base: Setting J1614-2230_Rcvr_800_GUPPI_log10_equad to -7.627864180562532\n",
            "INFO: enterprise.signals.signal_base: Setting J1614-2230_Rcvr1_2_GASP_log10_ecorr to -7.448625358285439\n",
            "INFO: enterprise.signals.signal_base: Setting J1614-2230_Rcvr1_2_GUPPI_log10_ecorr to -7.655859629011535\n",
            "INFO: enterprise.signals.signal_base: Setting J1614-2230_Rcvr_800_GASP_log10_ecorr to -7.299611199085039\n",
            "INFO: enterprise.signals.signal_base: Setting J1614-2230_Rcvr_800_GUPPI_log10_ecorr to -7.4080289590963355\n",
            "INFO: enterprise.signals.signal_base: Setting J1640+2224_430_ASP_efac to 1.143081359459332\n",
            "INFO: enterprise.signals.signal_base: Setting J1640+2224_430_PUPPI_efac to 1.0573767076899483\n",
            "INFO: enterprise.signals.signal_base: Setting J1640+2224_L-wide_ASP_efac to 1.06394287552814\n",
            "INFO: enterprise.signals.signal_base: Setting J1640+2224_L-wide_PUPPI_efac to 1.1457585235526273\n",
            "INFO: enterprise.signals.signal_base: Setting J1640+2224_430_ASP_log10_equad to -6.240784825369144\n",
            "INFO: enterprise.signals.signal_base: Setting J1640+2224_430_PUPPI_log10_equad to -6.9445789284154085\n",
            "INFO: enterprise.signals.signal_base: Setting J1640+2224_L-wide_ASP_log10_equad to -7.649274979312211\n",
            "INFO: enterprise.signals.signal_base: Setting J1640+2224_L-wide_PUPPI_log10_equad to -8.075008065199082\n",
            "INFO: enterprise.signals.signal_base: Setting J1640+2224_430_ASP_log10_ecorr to -7.788811673814794\n",
            "INFO: enterprise.signals.signal_base: Setting J1640+2224_430_PUPPI_log10_ecorr to -6.901622491949263\n",
            "INFO: enterprise.signals.signal_base: Setting J1640+2224_L-wide_ASP_log10_ecorr to -6.275572665649051\n",
            "INFO: enterprise.signals.signal_base: Setting J1640+2224_L-wide_PUPPI_log10_ecorr to -6.4079933035010095\n",
            "INFO: enterprise.signals.signal_base: Setting J1643-1224_Rcvr1_2_GASP_efac to 1.0071858015273707\n",
            "INFO: enterprise.signals.signal_base: Setting J1643-1224_Rcvr1_2_GUPPI_efac to 1.1247022811624827\n",
            "INFO: enterprise.signals.signal_base: Setting J1643-1224_Rcvr_800_GASP_efac to 1.493816799359807\n",
            "INFO: enterprise.signals.signal_base: Setting J1643-1224_Rcvr_800_GUPPI_efac to 1.1921609687505945\n",
            "INFO: enterprise.signals.signal_base: Setting J1643-1224_Rcvr1_2_GASP_log10_equad to -7.277156122921472\n",
            "INFO: enterprise.signals.signal_base: Setting J1643-1224_Rcvr1_2_GUPPI_log10_equad to -7.138128067645691\n",
            "INFO: enterprise.signals.signal_base: Setting J1643-1224_Rcvr_800_GASP_log10_equad to -7.115627957850879\n",
            "INFO: enterprise.signals.signal_base: Setting J1643-1224_Rcvr_800_GUPPI_log10_equad to -5.9780473533853655\n",
            "INFO: enterprise.signals.signal_base: Setting J1643-1224_Rcvr1_2_GASP_log10_ecorr to -7.503311141343279\n",
            "INFO: enterprise.signals.signal_base: Setting J1643-1224_Rcvr1_2_GUPPI_log10_ecorr to -6.042898081068246\n",
            "INFO: enterprise.signals.signal_base: Setting J1643-1224_Rcvr_800_GASP_log10_ecorr to -6.822037374515338\n",
            "INFO: enterprise.signals.signal_base: Setting J1643-1224_Rcvr_800_GUPPI_log10_ecorr to -5.544475232494147\n",
            "INFO: enterprise.signals.signal_base: Setting J1713+0747_L-wide_ASP_efac to 1.0524302344416032\n",
            "INFO: enterprise.signals.signal_base: Setting J1713+0747_L-wide_PUPPI_efac to 0.9796026604137508\n",
            "INFO: enterprise.signals.signal_base: Setting J1713+0747_Rcvr1_2_GASP_efac to 1.084307149708116\n",
            "INFO: enterprise.signals.signal_base: Setting J1713+0747_Rcvr1_2_GUPPI_efac to 1.017213088587959\n",
            "INFO: enterprise.signals.signal_base: Setting J1713+0747_Rcvr_800_GASP_efac to 1.117529091199639\n",
            "INFO: enterprise.signals.signal_base: Setting J1713+0747_Rcvr_800_GUPPI_efac to 1.0500383710337968\n",
            "INFO: enterprise.signals.signal_base: Setting J1713+0747_S-wide_ASP_efac to 1.1139598766607257\n",
            "INFO: enterprise.signals.signal_base: Setting J1713+0747_S-wide_PUPPI_efac to 1.0889710082237398\n",
            "INFO: enterprise.signals.signal_base: Setting J1713+0747_L-wide_ASP_log10_equad to -7.58206720746206\n",
            "INFO: enterprise.signals.signal_base: Setting J1713+0747_L-wide_PUPPI_log10_equad to -8.377098873197399\n",
            "INFO: enterprise.signals.signal_base: Setting J1713+0747_Rcvr1_2_GASP_log10_equad to -7.423897862687164\n",
            "INFO: enterprise.signals.signal_base: Setting J1713+0747_Rcvr1_2_GUPPI_log10_equad to -8.357193830632392\n",
            "INFO: enterprise.signals.signal_base: Setting J1713+0747_Rcvr_800_GASP_log10_equad to -7.251839650442933\n",
            "INFO: enterprise.signals.signal_base: Setting J1713+0747_Rcvr_800_GUPPI_log10_equad to -7.614933520652966\n",
            "INFO: enterprise.signals.signal_base: Setting J1713+0747_S-wide_ASP_log10_equad to -8.027710747783962\n",
            "INFO: enterprise.signals.signal_base: Setting J1713+0747_S-wide_PUPPI_log10_equad to -8.186781270775445\n",
            "INFO: enterprise.signals.signal_base: Setting J1713+0747_L-wide_ASP_log10_ecorr to -7.029000061406403\n",
            "INFO: enterprise.signals.signal_base: Setting J1713+0747_L-wide_PUPPI_log10_ecorr to -7.142663306094692\n",
            "INFO: enterprise.signals.signal_base: Setting J1713+0747_Rcvr1_2_GASP_log10_ecorr to -7.299970815145262\n",
            "INFO: enterprise.signals.signal_base: Setting J1713+0747_Rcvr1_2_GUPPI_log10_ecorr to -7.131010248150742\n",
            "INFO: enterprise.signals.signal_base: Setting J1713+0747_Rcvr_800_GASP_log10_ecorr to -7.788837849013025\n",
            "INFO: enterprise.signals.signal_base: Setting J1713+0747_Rcvr_800_GUPPI_log10_ecorr to -6.730867845961182\n",
            "INFO: enterprise.signals.signal_base: Setting J1713+0747_S-wide_ASP_log10_ecorr to -6.876597410265874\n",
            "INFO: enterprise.signals.signal_base: Setting J1713+0747_S-wide_PUPPI_log10_ecorr to -7.305157969602163\n",
            "INFO: enterprise.signals.signal_base: Setting J1738+0333_L-wide_ASP_efac to 1.1479069042742471\n",
            "INFO: enterprise.signals.signal_base: Setting J1738+0333_L-wide_PUPPI_efac to 1.0710506604701162\n",
            "INFO: enterprise.signals.signal_base: Setting J1738+0333_S-wide_ASP_efac to 0.9465373677964157\n",
            "INFO: enterprise.signals.signal_base: Setting J1738+0333_S-wide_PUPPI_efac to 0.8845264245078953\n",
            "INFO: enterprise.signals.signal_base: Setting J1738+0333_L-wide_ASP_log10_equad to -7.579720669663646\n",
            "INFO: enterprise.signals.signal_base: Setting J1738+0333_L-wide_PUPPI_log10_equad to -7.886362963443982\n",
            "INFO: enterprise.signals.signal_base: Setting J1738+0333_S-wide_ASP_log10_equad to -7.565578005221636\n",
            "INFO: enterprise.signals.signal_base: Setting J1738+0333_S-wide_PUPPI_log10_equad to -7.767394128812992\n",
            "INFO: enterprise.signals.signal_base: Setting J1738+0333_L-wide_ASP_log10_ecorr to -7.060532309258772\n",
            "INFO: enterprise.signals.signal_base: Setting J1738+0333_L-wide_PUPPI_log10_ecorr to -7.019786250261518\n",
            "INFO: enterprise.signals.signal_base: Setting J1738+0333_S-wide_ASP_log10_ecorr to -7.381958762803754\n",
            "INFO: enterprise.signals.signal_base: Setting J1738+0333_S-wide_PUPPI_log10_ecorr to -7.7411812625497936\n",
            "INFO: enterprise.signals.signal_base: Setting J1744-1134_Rcvr1_2_GASP_efac to 0.9978514871735024\n",
            "INFO: enterprise.signals.signal_base: Setting J1744-1134_Rcvr1_2_GUPPI_efac to 1.053362947622705\n",
            "INFO: enterprise.signals.signal_base: Setting J1744-1134_Rcvr_800_GASP_efac to 1.1285830055400954\n",
            "INFO: enterprise.signals.signal_base: Setting J1744-1134_Rcvr_800_GUPPI_efac to 1.0350590534568576\n",
            "INFO: enterprise.signals.signal_base: Setting J1744-1134_Rcvr1_2_GASP_log10_equad to -6.381411751584569\n",
            "INFO: enterprise.signals.signal_base: Setting J1744-1134_Rcvr1_2_GUPPI_log10_equad to -7.003305288540264\n",
            "INFO: enterprise.signals.signal_base: Setting J1744-1134_Rcvr_800_GASP_log10_equad to -6.4572271715342175\n",
            "INFO: enterprise.signals.signal_base: Setting J1744-1134_Rcvr_800_GUPPI_log10_equad to -6.613992229078914\n",
            "INFO: enterprise.signals.signal_base: Setting J1744-1134_Rcvr1_2_GASP_log10_ecorr to -6.292180076314258\n",
            "INFO: enterprise.signals.signal_base: Setting J1744-1134_Rcvr1_2_GUPPI_log10_ecorr to -6.537490178263718\n",
            "INFO: enterprise.signals.signal_base: Setting J1744-1134_Rcvr_800_GASP_log10_ecorr to -6.61724561091565\n",
            "INFO: enterprise.signals.signal_base: Setting J1744-1134_Rcvr_800_GUPPI_log10_ecorr to -6.396301881001724\n",
            "INFO: enterprise.signals.signal_base: Setting J1903+0327_L-wide_ASP_efac to 1.179706924996803\n",
            "INFO: enterprise.signals.signal_base: Setting J1903+0327_L-wide_PUPPI_efac to 1.168460641474899\n",
            "INFO: enterprise.signals.signal_base: Setting J1903+0327_S-wide_ASP_efac to 0.8321334329815202\n",
            "INFO: enterprise.signals.signal_base: Setting J1903+0327_S-wide_PUPPI_efac to 1.1095637896315254\n",
            "INFO: enterprise.signals.signal_base: Setting J1903+0327_L-wide_ASP_log10_equad to -7.158390864212146\n",
            "INFO: enterprise.signals.signal_base: Setting J1903+0327_L-wide_PUPPI_log10_equad to -7.759288526577286\n",
            "INFO: enterprise.signals.signal_base: Setting J1903+0327_S-wide_ASP_log10_equad to -6.16963651015452\n",
            "INFO: enterprise.signals.signal_base: Setting J1903+0327_S-wide_PUPPI_log10_equad to -7.574001886389685\n",
            "INFO: enterprise.signals.signal_base: Setting J1903+0327_L-wide_ASP_log10_ecorr to -7.172149108226772\n",
            "INFO: enterprise.signals.signal_base: Setting J1903+0327_L-wide_PUPPI_log10_ecorr to -5.636329138486162\n",
            "INFO: enterprise.signals.signal_base: Setting J1903+0327_S-wide_ASP_log10_ecorr to -7.364742895573575\n",
            "INFO: enterprise.signals.signal_base: Setting J1903+0327_S-wide_PUPPI_log10_ecorr to -7.45437286784459\n",
            "INFO: enterprise.signals.signal_base: Setting J1909-3744_Rcvr1_2_GASP_efac to 0.9505606759311833\n",
            "INFO: enterprise.signals.signal_base: Setting J1909-3744_Rcvr1_2_GUPPI_efac to 1.0339776268866265\n",
            "INFO: enterprise.signals.signal_base: Setting J1909-3744_Rcvr_800_GASP_efac to 1.0504080629362422\n",
            "INFO: enterprise.signals.signal_base: Setting J1909-3744_Rcvr_800_GUPPI_efac to 1.0313779800296294\n",
            "INFO: enterprise.signals.signal_base: Setting J1909-3744_Rcvr1_2_GASP_log10_equad to -7.456278210493956\n",
            "INFO: enterprise.signals.signal_base: Setting J1909-3744_Rcvr1_2_GUPPI_log10_equad to -8.171553179171445\n",
            "INFO: enterprise.signals.signal_base: Setting J1909-3744_Rcvr_800_GASP_log10_equad to -7.037406290351743\n",
            "INFO: enterprise.signals.signal_base: Setting J1909-3744_Rcvr_800_GUPPI_log10_equad to -7.365322642903795\n",
            "INFO: enterprise.signals.signal_base: Setting J1909-3744_Rcvr1_2_GASP_log10_ecorr to -8.078816887958723\n",
            "INFO: enterprise.signals.signal_base: Setting J1909-3744_Rcvr1_2_GUPPI_log10_ecorr to -7.137638201510413\n",
            "INFO: enterprise.signals.signal_base: Setting J1909-3744_Rcvr_800_GASP_log10_ecorr to -7.871774784575877\n",
            "INFO: enterprise.signals.signal_base: Setting J1909-3744_Rcvr_800_GUPPI_log10_ecorr to -7.269816370154123\n",
            "INFO: enterprise.signals.signal_base: Setting J1910+1256_L-wide_ASP_efac to 1.063590147073229\n",
            "INFO: enterprise.signals.signal_base: Setting J1910+1256_L-wide_PUPPI_efac to 1.0931136416030962\n",
            "INFO: enterprise.signals.signal_base: Setting J1910+1256_S-wide_ASP_efac to 0.9661536934887565\n",
            "INFO: enterprise.signals.signal_base: Setting J1910+1256_S-wide_PUPPI_efac to 1.0982792255110136\n",
            "INFO: enterprise.signals.signal_base: Setting J1910+1256_L-wide_ASP_log10_equad to -7.516992859042785\n",
            "INFO: enterprise.signals.signal_base: Setting J1910+1256_L-wide_PUPPI_log10_equad to -7.585087262800533\n",
            "INFO: enterprise.signals.signal_base: Setting J1910+1256_S-wide_ASP_log10_equad to -6.218657154174941\n",
            "INFO: enterprise.signals.signal_base: Setting J1910+1256_S-wide_PUPPI_log10_equad to -7.401958120896809\n",
            "INFO: enterprise.signals.signal_base: Setting J1910+1256_L-wide_ASP_log10_ecorr to -7.259684055387137\n",
            "INFO: enterprise.signals.signal_base: Setting J1910+1256_L-wide_PUPPI_log10_ecorr to -7.403550254322336\n",
            "INFO: enterprise.signals.signal_base: Setting J1910+1256_S-wide_ASP_log10_ecorr to -7.195615972473434\n",
            "INFO: enterprise.signals.signal_base: Setting J1910+1256_S-wide_PUPPI_log10_ecorr to -6.218612073150832\n",
            "INFO: enterprise.signals.signal_base: Setting J1918-0642_Rcvr1_2_GASP_efac to 1.0272847294363423\n",
            "INFO: enterprise.signals.signal_base: Setting J1918-0642_Rcvr1_2_GUPPI_efac to 1.035664184009173\n",
            "INFO: enterprise.signals.signal_base: Setting J1918-0642_Rcvr_800_GASP_efac to 1.0557165923306966\n",
            "INFO: enterprise.signals.signal_base: Setting J1918-0642_Rcvr_800_GUPPI_efac to 1.034910727323206\n",
            "INFO: enterprise.signals.signal_base: Setting J1918-0642_Rcvr1_2_GASP_log10_equad to -7.67322161371427\n",
            "INFO: enterprise.signals.signal_base: Setting J1918-0642_Rcvr1_2_GUPPI_log10_equad to -7.3696863188027075\n",
            "INFO: enterprise.signals.signal_base: Setting J1918-0642_Rcvr_800_GASP_log10_equad to -7.105797415440444\n",
            "INFO: enterprise.signals.signal_base: Setting J1918-0642_Rcvr_800_GUPPI_log10_equad to -7.086564536955872\n",
            "INFO: enterprise.signals.signal_base: Setting J1918-0642_Rcvr1_2_GASP_log10_ecorr to -7.37828526123227\n",
            "INFO: enterprise.signals.signal_base: Setting J1918-0642_Rcvr1_2_GUPPI_log10_ecorr to -7.4935011859866485\n",
            "INFO: enterprise.signals.signal_base: Setting J1918-0642_Rcvr_800_GASP_log10_ecorr to -7.559243560441317\n",
            "INFO: enterprise.signals.signal_base: Setting J1918-0642_Rcvr_800_GUPPI_log10_ecorr to -6.525389492066881\n",
            "INFO: enterprise.signals.signal_base: Setting J1944+0907_430_ASP_efac to 1.0814498126291534\n",
            "INFO: enterprise.signals.signal_base: Setting J1944+0907_430_PUPPI_efac to 1.0727024023469869\n",
            "INFO: enterprise.signals.signal_base: Setting J1944+0907_L-wide_ASP_efac to 1.5390588569396464\n",
            "INFO: enterprise.signals.signal_base: Setting J1944+0907_L-wide_PUPPI_efac to 1.1696155596603073\n",
            "INFO: enterprise.signals.signal_base: Setting J1944+0907_430_ASP_log10_equad to -7.243114059446985\n",
            "INFO: enterprise.signals.signal_base: Setting J1944+0907_430_PUPPI_log10_equad to -6.926315089238918\n",
            "INFO: enterprise.signals.signal_base: Setting J1944+0907_L-wide_ASP_log10_equad to -7.238241222764401\n",
            "INFO: enterprise.signals.signal_base: Setting J1944+0907_L-wide_PUPPI_log10_equad to -7.693354205218862\n",
            "INFO: enterprise.signals.signal_base: Setting J1944+0907_430_ASP_log10_ecorr to -6.8879174105358185\n",
            "INFO: enterprise.signals.signal_base: Setting J1944+0907_430_PUPPI_log10_ecorr to -7.1306299212575945\n",
            "INFO: enterprise.signals.signal_base: Setting J1944+0907_L-wide_ASP_log10_ecorr to -7.104483772896318\n",
            "INFO: enterprise.signals.signal_base: Setting J1944+0907_L-wide_PUPPI_log10_ecorr to -6.546284570029579\n",
            "INFO: enterprise.signals.signal_base: Setting J2010-1323_Rcvr1_2_GASP_efac to 1.0179865222180375\n",
            "INFO: enterprise.signals.signal_base: Setting J2010-1323_Rcvr1_2_GUPPI_efac to 1.046213434079912\n",
            "INFO: enterprise.signals.signal_base: Setting J2010-1323_Rcvr_800_GASP_efac to 1.0631310225900652\n",
            "INFO: enterprise.signals.signal_base: Setting J2010-1323_Rcvr_800_GUPPI_efac to 0.9946706739052781\n",
            "INFO: enterprise.signals.signal_base: Setting J2010-1323_Rcvr1_2_GASP_log10_equad to -7.170459137166772\n",
            "INFO: enterprise.signals.signal_base: Setting J2010-1323_Rcvr1_2_GUPPI_log10_equad to -7.676454828722258\n",
            "INFO: enterprise.signals.signal_base: Setting J2010-1323_Rcvr_800_GASP_log10_equad to -7.260685669109653\n",
            "INFO: enterprise.signals.signal_base: Setting J2010-1323_Rcvr_800_GUPPI_log10_equad to -7.2177759208361\n",
            "INFO: enterprise.signals.signal_base: Setting J2010-1323_Rcvr1_2_GASP_log10_ecorr to -7.182315425909628\n",
            "INFO: enterprise.signals.signal_base: Setting J2010-1323_Rcvr1_2_GUPPI_log10_ecorr to -7.686560497366312\n",
            "INFO: enterprise.signals.signal_base: Setting J2010-1323_Rcvr_800_GASP_log10_ecorr to -7.241412604014393\n",
            "INFO: enterprise.signals.signal_base: Setting J2010-1323_Rcvr_800_GUPPI_log10_ecorr to -7.580143294343043\n",
            "INFO: enterprise.signals.signal_base: Setting J2145-0750_Rcvr1_2_GASP_efac to 1.0110230422869044\n",
            "INFO: enterprise.signals.signal_base: Setting J2145-0750_Rcvr1_2_GUPPI_efac to 1.0265447460207069\n",
            "INFO: enterprise.signals.signal_base: Setting J2145-0750_Rcvr_800_GASP_efac to 1.2601984171075302\n",
            "INFO: enterprise.signals.signal_base: Setting J2145-0750_Rcvr_800_GUPPI_efac to 1.0476740581711277\n",
            "INFO: enterprise.signals.signal_base: Setting J2145-0750_Rcvr1_2_GASP_log10_equad to -5.705026109830131\n",
            "INFO: enterprise.signals.signal_base: Setting J2145-0750_Rcvr1_2_GUPPI_log10_equad to -7.938817552005569\n",
            "INFO: enterprise.signals.signal_base: Setting J2145-0750_Rcvr_800_GASP_log10_equad to -6.513203859186709\n",
            "INFO: enterprise.signals.signal_base: Setting J2145-0750_Rcvr_800_GUPPI_log10_equad to -6.4184191843741445\n",
            "INFO: enterprise.signals.signal_base: Setting J2145-0750_Rcvr1_2_GASP_log10_ecorr to -6.243824665782128\n",
            "INFO: enterprise.signals.signal_base: Setting J2145-0750_Rcvr1_2_GUPPI_log10_ecorr to -6.355906738653193\n",
            "INFO: enterprise.signals.signal_base: Setting J2145-0750_Rcvr_800_GASP_log10_ecorr to -6.233581141499856\n",
            "INFO: enterprise.signals.signal_base: Setting J2145-0750_Rcvr_800_GUPPI_log10_ecorr to -6.598154829313346\n",
            "INFO: enterprise.signals.signal_base: Setting J2317+1439_327_ASP_efac to 1.0823722500112272\n",
            "INFO: enterprise.signals.signal_base: Setting J2317+1439_327_PUPPI_efac to 1.17384139990156\n",
            "INFO: enterprise.signals.signal_base: Setting J2317+1439_430_ASP_efac to 1.2574511773494976\n",
            "INFO: enterprise.signals.signal_base: Setting J2317+1439_430_PUPPI_efac to 1.0163851726761812\n",
            "INFO: enterprise.signals.signal_base: Setting J2317+1439_L-wide_PUPPI_efac to 1.1163982326548925\n",
            "INFO: enterprise.signals.signal_base: Setting J2317+1439_327_ASP_log10_equad to -6.457911273619141\n",
            "INFO: enterprise.signals.signal_base: Setting J2317+1439_327_PUPPI_log10_equad to -6.462306002360743\n",
            "INFO: enterprise.signals.signal_base: Setting J2317+1439_430_ASP_log10_equad to -7.3732139102446626\n",
            "INFO: enterprise.signals.signal_base: Setting J2317+1439_430_PUPPI_log10_equad to -6.535705196682452\n",
            "INFO: enterprise.signals.signal_base: Setting J2317+1439_L-wide_PUPPI_log10_equad to -7.463944437178126\n",
            "INFO: enterprise.signals.signal_base: Setting J2317+1439_327_ASP_log10_ecorr to -7.706187896212512\n",
            "INFO: enterprise.signals.signal_base: Setting J2317+1439_327_PUPPI_log10_ecorr to -6.392284847303101\n",
            "INFO: enterprise.signals.signal_base: Setting J2317+1439_430_ASP_log10_ecorr to -6.509624616624109\n",
            "INFO: enterprise.signals.signal_base: Setting J2317+1439_430_PUPPI_log10_ecorr to -6.87918040058842\n",
            "INFO: enterprise.signals.signal_base: Setting J2317+1439_L-wide_PUPPI_log10_ecorr to -6.6463560361584975\n"
          ],
          "name": "stderr"
        }
      ]
    },
    {
      "cell_type": "code",
      "metadata": {
        "ExecuteTime": {
          "end_time": "2018-05-15T21:50:03.822379Z",
          "start_time": "2018-05-15T21:50:03.788843Z"
        },
        "id": "tv8cRwOB7IFk"
      },
      "source": [
        "# set initial parameters drawn from prior\n",
        "x0 = np.hstack([p.sample() for p in pta.params])\n",
        "ndim = len(x0)"
      ],
      "execution_count": null,
      "outputs": []
    },
    {
      "cell_type": "code",
      "metadata": {
        "ExecuteTime": {
          "end_time": "2018-05-15T21:50:06.902347Z",
          "start_time": "2018-05-15T21:50:06.866018Z"
        },
        "id": "hspTkiPX7IFk"
      },
      "source": [
        "# set up the sampler:\n",
        "# initial jump covariance matrix\n",
        "cov = np.diag(np.ones(ndim) * 0.01**2)\n",
        "outDir = '../chains_pta_gwb'\n",
        "\n",
        "sampler = ptmcmc(ndim, pta.get_lnlikelihood, pta.get_lnprior, cov,\n",
        "                 outDir=outDir, resume=False)"
      ],
      "execution_count": null,
      "outputs": []
    },
    {
      "cell_type": "markdown",
      "metadata": {
        "id": "TGFUwnhh7IFk"
      },
      "source": [
        "### Sample!\n",
        "\n",
        "This should take about an hour to sample. Note that a normal analysis would include from 1e6 to 5e6 samples. Here we would like it to finish a little faster, so we only look for 1.5e5 samples for about half the number of pulsars in the NANOGrav dataset. This should be enough to get an idea of what the posterior looks like."
      ]
    },
    {
      "cell_type": "code",
      "metadata": {
        "ExecuteTime": {
          "end_time": "2018-05-15T21:51:39.157421Z",
          "start_time": "2018-05-15T21:50:07.962002Z"
        },
        "id": "YpcS14W_7IFk",
        "outputId": "083ff43a-3fb1-481b-e848-7236ee52ea12"
      },
      "source": [
        "# sampler for N steps\n",
        "N = int(1.5e5)  # normally, we would use 5e6 samples (this will save time)\n",
        "x0 = np.hstack([p.sample() for p in pta.params])\n",
        "sampler.sample(x0, N, SCAMweight=30, AMweight=15, DEweight=50, )"
      ],
      "execution_count": null,
      "outputs": [
        {
          "output_type": "stream",
          "text": [
            "Finished 6.67 percent in 284.488729 s Acceptance rate = 0.6123Adding DE jump with weight 50\n",
            "Finished 99.33 percent in 2959.009660 s Acceptance rate = 0.314946\n",
            "Run Complete\n"
          ],
          "name": "stdout"
        }
      ]
    },
    {
      "cell_type": "markdown",
      "metadata": {
        "id": "UjyQ0itD7IFk"
      },
      "source": [
        "## Plot output"
      ]
    },
    {
      "cell_type": "code",
      "metadata": {
        "ExecuteTime": {
          "end_time": "2018-05-15T21:51:44.119807Z",
          "start_time": "2018-05-15T21:51:44.060350Z"
        },
        "id": "leKiiXiQ7IFk"
      },
      "source": [
        "chain = np.loadtxt(os.path.join(outDir, 'chain_1.txt'))\n",
        "burn = int(0.25 * chain.shape[0])"
      ],
      "execution_count": null,
      "outputs": []
    },
    {
      "cell_type": "code",
      "metadata": {
        "id": "h08gFckw7IFk"
      },
      "source": [
        "ind = list(pta.param_names).index('log10_A_gw')"
      ],
      "execution_count": null,
      "outputs": []
    },
    {
      "cell_type": "code",
      "metadata": {
        "id": "K3CfwekS7IFl",
        "outputId": "dbd1db7a-25e0-4f38-d80a-d6a675ea9db3"
      },
      "source": [
        "# Make trace-plot to diagnose sampling\n",
        "plt.plot(chain[burn:, ind])"
      ],
      "execution_count": null,
      "outputs": [
        {
          "output_type": "execute_result",
          "data": {
            "text/plain": [
              "[<matplotlib.lines.Line2D at 0x7fbf483653d0>]"
            ]
          },
          "metadata": {
            "tags": []
          },
          "execution_count": 25
        },
        {
          "output_type": "display_data",
          "data": {
            "text/plain": [
              "<Figure size 432x288 with 1 Axes>"
            ],
            "image/png": "[encoded data removed]"
          },
          "metadata": {
            "tags": [],
            "image/png": {
              "width": 386,
              "height": 248
            },
            "needs_background": "light"
          }
        }
      ]
    },
    {
      "cell_type": "code",
      "metadata": {
        "ExecuteTime": {
          "end_time": "2018-05-15T21:51:46.102261Z",
          "start_time": "2018-05-15T21:51:45.927388Z"
        },
        "id": "oATpGb7L7IFm",
        "outputId": "d1cf2db4-025a-436d-a702-e9ebaca5ee2a"
      },
      "source": [
        "# Plot a histogram of the marginalized posterior distribution\n",
        "plt.hist(chain[burn:,ind], 100, histtype='stepfilled',\n",
        "         lw=2, color='C0', alpha=0.5)\n",
        "plt.xlabel('log10_A_gw')\n",
        "plt.ylabel('PDF')"
      ],
      "execution_count": null,
      "outputs": [
        {
          "output_type": "execute_result",
          "data": {
            "text/plain": [
              "Text(0, 0.5, 'PDF')"
            ]
          },
          "metadata": {
            "tags": []
          },
          "execution_count": 27
        },
        {
          "output_type": "display_data",
          "data": {
            "text/plain": [
              "<Figure size 432x288 with 1 Axes>"
            ],
            "image/png": "[encoded data removed]"
          },
          "metadata": {
            "tags": [],
            "image/png": {
              "width": 388,
              "height": 262
            },
            "needs_background": "light"
          }
        }
      ]
    },
    {
      "cell_type": "code",
      "metadata": {
        "id": "DIblskIK7IFm",
        "outputId": "d27a0e1e-885a-45ff-92a9-179cdc99451a"
      },
      "source": [
        "hist = np.histogram(chain[burn:, pta.param_names.index('log10_A_gw')],\n",
        "                          bins=70,\n",
        "                          density=False)\n",
        "max_ind = np.argmax(hist[0])\n",
        "print('our_max =', hist[1][max_ind])  # from our computation"
      ],
      "execution_count": null,
      "outputs": [
        {
          "output_type": "stream",
          "text": [
            "our_max = -14.509737862559803\n"
          ],
          "name": "stdout"
        }
      ]
    },
    {
      "cell_type": "markdown",
      "metadata": {
        "id": "c95fP1I67IFm"
      },
      "source": [
        "## Discussion\n",
        "\n",
        "* The posterior shows that there is a signal in the data. We can see this by examining the left side of the plot. If there were no detected signal here, the posterior would have a tail extending to the left as far as our prior extends (returning that part of the prior).\n",
        "* `12p5yr_maxlike.json` shows `gw_log10_A` = -14.78361797461833 from the full 12.5 year analysis\n",
        "* Our maximum is close at `gw_log10_A` = -14.509737862559803\n",
        "* The important differences here are that we have fewer samples **AND** fewer pulsars that the full 12.5 year analysis."
      ]
    },
    {
      "cell_type": "markdown",
      "metadata": {
        "id": "xocVyjYj7IFm"
      },
      "source": [
        "## Now, the easy way to do all of this...\n",
        "\n",
        "* Many of the steps above have been consolidated into convenient functions inside the `enterprise_extensions` package. In this section, we will show how to use these covenient functions."
      ]
    },
    {
      "cell_type": "code",
      "metadata": {
        "ExecuteTime": {
          "end_time": "2018-05-15T21:53:11.676320Z",
          "start_time": "2018-05-15T21:53:11.629096Z"
        },
        "id": "_njZfHrY7IFm"
      },
      "source": [
        "import enterprise_extensions\n",
        "from enterprise_extensions import models, model_utils, hypermodel"
      ],
      "execution_count": null,
      "outputs": []
    },
    {
      "cell_type": "code",
      "metadata": {
        "ExecuteTime": {
          "end_time": "2018-05-15T21:56:18.738032Z",
          "start_time": "2018-05-15T21:56:17.309346Z"
        },
        "tags": [
          "outputPrepend"
        ],
        "id": "kIYegvVF7IFm",
        "outputId": "f0dd872c-dbb8-4523-e0c1-1faa5d6cef75"
      },
      "source": [
        "# this sets up the pta model (everything we did above) all in one cell\n",
        "# model 2a includes:\n",
        "#   fixed white noise parameters based on noisedict\n",
        "#   common red noise signal (no correlation function) with 30 sampling frequencies\n",
        "#   linear timing model\n",
        "pta = models.model_2a(psrs, psd='powerlaw',\n",
        "                      noisedict=params, components=30,\n",
        "                      gamma_common=13/3)"
      ],
      "execution_count": null,
      "outputs": [
        {
          "output_type": "stream",
          "text": [
            "orr to -7.629255580321534\n",
            "INFO: enterprise.signals.signal_base: Setting J1455-3330_Rcvr_800_GASP_log10_ecorr to -7.085458304995403\n",
            "INFO: enterprise.signals.signal_base: Setting J1455-3330_Rcvr_800_GUPPI_log10_ecorr to -6.526567653068877\n",
            "INFO: enterprise.signals.signal_base: Setting J1600-3053_Rcvr1_2_GASP_efac to 1.134993789980654\n",
            "INFO: enterprise.signals.signal_base: Setting J1600-3053_Rcvr1_2_GUPPI_efac to 1.0521556985294778\n",
            "INFO: enterprise.signals.signal_base: Setting J1600-3053_Rcvr_800_GASP_efac to 1.1935927243559799\n",
            "INFO: enterprise.signals.signal_base: Setting J1600-3053_Rcvr_800_GUPPI_efac to 1.120996265055496\n",
            "INFO: enterprise.signals.signal_base: Setting J1600-3053_Rcvr1_2_GASP_log10_equad to -6.960586084616913\n",
            "INFO: enterprise.signals.signal_base: Setting J1600-3053_Rcvr1_2_GUPPI_log10_equad to -7.761043891506745\n",
            "INFO: enterprise.signals.signal_base: Setting J1600-3053_Rcvr_800_GASP_log10_equad to -7.311693997685966\n",
            "INFO: enterprise.signals.signal_base: Setting J1600-3053_Rcvr_800_GUPPI_log10_equad to -7.374528725467375\n",
            "INFO: enterprise.signals.signal_base: Setting J1600-3053_Rcvr1_2_GASP_log10_ecorr to -7.134558712552095\n",
            "INFO: enterprise.signals.signal_base: Setting J1600-3053_Rcvr1_2_GUPPI_log10_ecorr to -6.899208552923536\n",
            "INFO: enterprise.signals.signal_base: Setting J1600-3053_Rcvr_800_GASP_log10_ecorr to -7.407293847566683\n",
            "INFO: enterprise.signals.signal_base: Setting J1600-3053_Rcvr_800_GUPPI_log10_ecorr to -6.288542964735563\n",
            "INFO: enterprise.signals.signal_base: Setting J1614-2230_Rcvr1_2_GASP_efac to 1.1369056644435913\n",
            "INFO: enterprise.signals.signal_base: Setting J1614-2230_Rcvr1_2_GUPPI_efac to 1.0636501302858106\n",
            "INFO: enterprise.signals.signal_base: Setting J1614-2230_Rcvr_800_GASP_efac to 0.9178765720365575\n",
            "INFO: enterprise.signals.signal_base: Setting J1614-2230_Rcvr_800_GUPPI_efac to 1.0115241685032286\n",
            "INFO: enterprise.signals.signal_base: Setting J1614-2230_Rcvr1_2_GASP_log10_equad to -7.32067533880299\n",
            "INFO: enterprise.signals.signal_base: Setting J1614-2230_Rcvr1_2_GUPPI_log10_equad to -7.784678758801305\n",
            "INFO: enterprise.signals.signal_base: Setting J1614-2230_Rcvr_800_GASP_log10_equad to -7.2577825388006305\n",
            "INFO: enterprise.signals.signal_base: Setting J1614-2230_Rcvr_800_GUPPI_log10_equad to -7.627864180562532\n",
            "INFO: enterprise.signals.signal_base: Setting J1614-2230_Rcvr1_2_GASP_log10_ecorr to -7.448625358285439\n",
            "INFO: enterprise.signals.signal_base: Setting J1614-2230_Rcvr1_2_GUPPI_log10_ecorr to -7.655859629011535\n",
            "INFO: enterprise.signals.signal_base: Setting J1614-2230_Rcvr_800_GASP_log10_ecorr to -7.299611199085039\n",
            "INFO: enterprise.signals.signal_base: Setting J1614-2230_Rcvr_800_GUPPI_log10_ecorr to -7.4080289590963355\n",
            "INFO: enterprise.signals.signal_base: Setting J1640+2224_430_ASP_efac to 1.143081359459332\n",
            "INFO: enterprise.signals.signal_base: Setting J1640+2224_430_PUPPI_efac to 1.0573767076899483\n",
            "INFO: enterprise.signals.signal_base: Setting J1640+2224_L-wide_ASP_efac to 1.06394287552814\n",
            "INFO: enterprise.signals.signal_base: Setting J1640+2224_L-wide_PUPPI_efac to 1.1457585235526273\n",
            "INFO: enterprise.signals.signal_base: Setting J1640+2224_430_ASP_log10_equad to -6.240784825369144\n",
            "INFO: enterprise.signals.signal_base: Setting J1640+2224_430_PUPPI_log10_equad to -6.9445789284154085\n",
            "INFO: enterprise.signals.signal_base: Setting J1640+2224_L-wide_ASP_log10_equad to -7.649274979312211\n",
            "INFO: enterprise.signals.signal_base: Setting J1640+2224_L-wide_PUPPI_log10_equad to -8.075008065199082\n",
            "INFO: enterprise.signals.signal_base: Setting J1640+2224_430_ASP_log10_ecorr to -7.788811673814794\n",
            "INFO: enterprise.signals.signal_base: Setting J1640+2224_430_PUPPI_log10_ecorr to -6.901622491949263\n",
            "INFO: enterprise.signals.signal_base: Setting J1640+2224_L-wide_ASP_log10_ecorr to -6.275572665649051\n",
            "INFO: enterprise.signals.signal_base: Setting J1640+2224_L-wide_PUPPI_log10_ecorr to -6.4079933035010095\n",
            "INFO: enterprise.signals.signal_base: Setting J1643-1224_Rcvr1_2_GASP_efac to 1.0071858015273707\n",
            "INFO: enterprise.signals.signal_base: Setting J1643-1224_Rcvr1_2_GUPPI_efac to 1.1247022811624827\n",
            "INFO: enterprise.signals.signal_base: Setting J1643-1224_Rcvr_800_GASP_efac to 1.493816799359807\n",
            "INFO: enterprise.signals.signal_base: Setting J1643-1224_Rcvr_800_GUPPI_efac to 1.1921609687505945\n",
            "INFO: enterprise.signals.signal_base: Setting J1643-1224_Rcvr1_2_GASP_log10_equad to -7.277156122921472\n",
            "INFO: enterprise.signals.signal_base: Setting J1643-1224_Rcvr1_2_GUPPI_log10_equad to -7.138128067645691\n",
            "INFO: enterprise.signals.signal_base: Setting J1643-1224_Rcvr_800_GASP_log10_equad to -7.115627957850879\n",
            "INFO: enterprise.signals.signal_base: Setting J1643-1224_Rcvr_800_GUPPI_log10_equad to -5.9780473533853655\n",
            "INFO: enterprise.signals.signal_base: Setting J1643-1224_Rcvr1_2_GASP_log10_ecorr to -7.503311141343279\n",
            "INFO: enterprise.signals.signal_base: Setting J1643-1224_Rcvr1_2_GUPPI_log10_ecorr to -6.042898081068246\n",
            "INFO: enterprise.signals.signal_base: Setting J1643-1224_Rcvr_800_GASP_log10_ecorr to -6.822037374515338\n",
            "INFO: enterprise.signals.signal_base: Setting J1643-1224_Rcvr_800_GUPPI_log10_ecorr to -5.544475232494147\n",
            "INFO: enterprise.signals.signal_base: Setting J1713+0747_L-wide_ASP_efac to 1.0524302344416032\n",
            "INFO: enterprise.signals.signal_base: Setting J1713+0747_L-wide_PUPPI_efac to 0.9796026604137508\n",
            "INFO: enterprise.signals.signal_base: Setting J1713+0747_Rcvr1_2_GASP_efac to 1.084307149708116\n",
            "INFO: enterprise.signals.signal_base: Setting J1713+0747_Rcvr1_2_GUPPI_efac to 1.017213088587959\n",
            "INFO: enterprise.signals.signal_base: Setting J1713+0747_Rcvr_800_GASP_efac to 1.117529091199639\n",
            "INFO: enterprise.signals.signal_base: Setting J1713+0747_Rcvr_800_GUPPI_efac to 1.0500383710337968\n",
            "INFO: enterprise.signals.signal_base: Setting J1713+0747_S-wide_ASP_efac to 1.1139598766607257\n",
            "INFO: enterprise.signals.signal_base: Setting J1713+0747_S-wide_PUPPI_efac to 1.0889710082237398\n",
            "INFO: enterprise.signals.signal_base: Setting J1713+0747_L-wide_ASP_log10_equad to -7.58206720746206\n",
            "INFO: enterprise.signals.signal_base: Setting J1713+0747_L-wide_PUPPI_log10_equad to -8.377098873197399\n",
            "INFO: enterprise.signals.signal_base: Setting J1713+0747_Rcvr1_2_GASP_log10_equad to -7.423897862687164\n",
            "INFO: enterprise.signals.signal_base: Setting J1713+0747_Rcvr1_2_GUPPI_log10_equad to -8.357193830632392\n",
            "INFO: enterprise.signals.signal_base: Setting J1713+0747_Rcvr_800_GASP_log10_equad to -7.251839650442933\n",
            "INFO: enterprise.signals.signal_base: Setting J1713+0747_Rcvr_800_GUPPI_log10_equad to -7.614933520652966\n",
            "INFO: enterprise.signals.signal_base: Setting J1713+0747_S-wide_ASP_log10_equad to -8.027710747783962\n",
            "INFO: enterprise.signals.signal_base: Setting J1713+0747_S-wide_PUPPI_log10_equad to -8.186781270775445\n",
            "INFO: enterprise.signals.signal_base: Setting J1713+0747_L-wide_ASP_log10_ecorr to -7.029000061406403\n",
            "INFO: enterprise.signals.signal_base: Setting J1713+0747_L-wide_PUPPI_log10_ecorr to -7.142663306094692\n",
            "INFO: enterprise.signals.signal_base: Setting J1713+0747_Rcvr1_2_GASP_log10_ecorr to -7.299970815145262\n",
            "INFO: enterprise.signals.signal_base: Setting J1713+0747_Rcvr1_2_GUPPI_log10_ecorr to -7.131010248150742\n",
            "INFO: enterprise.signals.signal_base: Setting J1713+0747_Rcvr_800_GASP_log10_ecorr to -7.788837849013025\n",
            "INFO: enterprise.signals.signal_base: Setting J1713+0747_Rcvr_800_GUPPI_log10_ecorr to -6.730867845961182\n",
            "INFO: enterprise.signals.signal_base: Setting J1713+0747_S-wide_ASP_log10_ecorr to -6.876597410265874\n",
            "INFO: enterprise.signals.signal_base: Setting J1713+0747_S-wide_PUPPI_log10_ecorr to -7.305157969602163\n",
            "INFO: enterprise.signals.signal_base: Setting J1738+0333_L-wide_ASP_efac to 1.1479069042742471\n",
            "INFO: enterprise.signals.signal_base: Setting J1738+0333_L-wide_PUPPI_efac to 1.0710506604701162\n",
            "INFO: enterprise.signals.signal_base: Setting J1738+0333_S-wide_ASP_efac to 0.9465373677964157\n",
            "INFO: enterprise.signals.signal_base: Setting J1738+0333_S-wide_PUPPI_efac to 0.8845264245078953\n",
            "INFO: enterprise.signals.signal_base: Setting J1738+0333_L-wide_ASP_log10_equad to -7.579720669663646\n",
            "INFO: enterprise.signals.signal_base: Setting J1738+0333_L-wide_PUPPI_log10_equad to -7.886362963443982\n",
            "INFO: enterprise.signals.signal_base: Setting J1738+0333_S-wide_ASP_log10_equad to -7.565578005221636\n",
            "INFO: enterprise.signals.signal_base: Setting J1738+0333_S-wide_PUPPI_log10_equad to -7.767394128812992\n",
            "INFO: enterprise.signals.signal_base: Setting J1738+0333_L-wide_ASP_log10_ecorr to -7.060532309258772\n",
            "INFO: enterprise.signals.signal_base: Setting J1738+0333_L-wide_PUPPI_log10_ecorr to -7.019786250261518\n",
            "INFO: enterprise.signals.signal_base: Setting J1738+0333_S-wide_ASP_log10_ecorr to -7.381958762803754\n",
            "INFO: enterprise.signals.signal_base: Setting J1738+0333_S-wide_PUPPI_log10_ecorr to -7.7411812625497936\n",
            "INFO: enterprise.signals.signal_base: Setting J1744-1134_Rcvr1_2_GASP_efac to 0.9978514871735024\n",
            "INFO: enterprise.signals.signal_base: Setting J1744-1134_Rcvr1_2_GUPPI_efac to 1.053362947622705\n",
            "INFO: enterprise.signals.signal_base: Setting J1744-1134_Rcvr_800_GASP_efac to 1.1285830055400954\n",
            "INFO: enterprise.signals.signal_base: Setting J1744-1134_Rcvr_800_GUPPI_efac to 1.0350590534568576\n",
            "INFO: enterprise.signals.signal_base: Setting J1744-1134_Rcvr1_2_GASP_log10_equad to -6.381411751584569\n",
            "INFO: enterprise.signals.signal_base: Setting J1744-1134_Rcvr1_2_GUPPI_log10_equad to -7.003305288540264\n",
            "INFO: enterprise.signals.signal_base: Setting J1744-1134_Rcvr_800_GASP_log10_equad to -6.4572271715342175\n",
            "INFO: enterprise.signals.signal_base: Setting J1744-1134_Rcvr_800_GUPPI_log10_equad to -6.613992229078914\n",
            "INFO: enterprise.signals.signal_base: Setting J1744-1134_Rcvr1_2_GASP_log10_ecorr to -6.292180076314258\n",
            "INFO: enterprise.signals.signal_base: Setting J1744-1134_Rcvr1_2_GUPPI_log10_ecorr to -6.537490178263718\n",
            "INFO: enterprise.signals.signal_base: Setting J1744-1134_Rcvr_800_GASP_log10_ecorr to -6.61724561091565\n",
            "INFO: enterprise.signals.signal_base: Setting J1744-1134_Rcvr_800_GUPPI_log10_ecorr to -6.396301881001724\n",
            "INFO: enterprise.signals.signal_base: Setting J1903+0327_L-wide_ASP_efac to 1.179706924996803\n",
            "INFO: enterprise.signals.signal_base: Setting J1903+0327_L-wide_PUPPI_efac to 1.168460641474899\n",
            "INFO: enterprise.signals.signal_base: Setting J1903+0327_S-wide_ASP_efac to 0.8321334329815202\n",
            "INFO: enterprise.signals.signal_base: Setting J1903+0327_S-wide_PUPPI_efac to 1.1095637896315254\n",
            "INFO: enterprise.signals.signal_base: Setting J1903+0327_L-wide_ASP_log10_equad to -7.158390864212146\n",
            "INFO: enterprise.signals.signal_base: Setting J1903+0327_L-wide_PUPPI_log10_equad to -7.759288526577286\n",
            "INFO: enterprise.signals.signal_base: Setting J1903+0327_S-wide_ASP_log10_equad to -6.16963651015452\n",
            "INFO: enterprise.signals.signal_base: Setting J1903+0327_S-wide_PUPPI_log10_equad to -7.574001886389685\n",
            "INFO: enterprise.signals.signal_base: Setting J1903+0327_L-wide_ASP_log10_ecorr to -7.172149108226772\n",
            "INFO: enterprise.signals.signal_base: Setting J1903+0327_L-wide_PUPPI_log10_ecorr to -5.636329138486162\n",
            "INFO: enterprise.signals.signal_base: Setting J1903+0327_S-wide_ASP_log10_ecorr to -7.364742895573575\n",
            "INFO: enterprise.signals.signal_base: Setting J1903+0327_S-wide_PUPPI_log10_ecorr to -7.45437286784459\n",
            "INFO: enterprise.signals.signal_base: Setting J1909-3744_Rcvr1_2_GASP_efac to 0.9505606759311833\n",
            "INFO: enterprise.signals.signal_base: Setting J1909-3744_Rcvr1_2_GUPPI_efac to 1.0339776268866265\n",
            "INFO: enterprise.signals.signal_base: Setting J1909-3744_Rcvr_800_GASP_efac to 1.0504080629362422\n",
            "INFO: enterprise.signals.signal_base: Setting J1909-3744_Rcvr_800_GUPPI_efac to 1.0313779800296294\n",
            "INFO: enterprise.signals.signal_base: Setting J1909-3744_Rcvr1_2_GASP_log10_equad to -7.456278210493956\n",
            "INFO: enterprise.signals.signal_base: Setting J1909-3744_Rcvr1_2_GUPPI_log10_equad to -8.171553179171445\n",
            "INFO: enterprise.signals.signal_base: Setting J1909-3744_Rcvr_800_GASP_log10_equad to -7.037406290351743\n",
            "INFO: enterprise.signals.signal_base: Setting J1909-3744_Rcvr_800_GUPPI_log10_equad to -7.365322642903795\n",
            "INFO: enterprise.signals.signal_base: Setting J1909-3744_Rcvr1_2_GASP_log10_ecorr to -8.078816887958723\n",
            "INFO: enterprise.signals.signal_base: Setting J1909-3744_Rcvr1_2_GUPPI_log10_ecorr to -7.137638201510413\n",
            "INFO: enterprise.signals.signal_base: Setting J1909-3744_Rcvr_800_GASP_log10_ecorr to -7.871774784575877\n",
            "INFO: enterprise.signals.signal_base: Setting J1909-3744_Rcvr_800_GUPPI_log10_ecorr to -7.269816370154123\n",
            "INFO: enterprise.signals.signal_base: Setting J1910+1256_L-wide_ASP_efac to 1.063590147073229\n",
            "INFO: enterprise.signals.signal_base: Setting J1910+1256_L-wide_PUPPI_efac to 1.0931136416030962\n",
            "INFO: enterprise.signals.signal_base: Setting J1910+1256_S-wide_ASP_efac to 0.9661536934887565\n",
            "INFO: enterprise.signals.signal_base: Setting J1910+1256_S-wide_PUPPI_efac to 1.0982792255110136\n",
            "INFO: enterprise.signals.signal_base: Setting J1910+1256_L-wide_ASP_log10_equad to -7.516992859042785\n",
            "INFO: enterprise.signals.signal_base: Setting J1910+1256_L-wide_PUPPI_log10_equad to -7.585087262800533\n",
            "INFO: enterprise.signals.signal_base: Setting J1910+1256_S-wide_ASP_log10_equad to -6.218657154174941\n",
            "INFO: enterprise.signals.signal_base: Setting J1910+1256_S-wide_PUPPI_log10_equad to -7.401958120896809\n",
            "INFO: enterprise.signals.signal_base: Setting J1910+1256_L-wide_ASP_log10_ecorr to -7.259684055387137\n",
            "INFO: enterprise.signals.signal_base: Setting J1910+1256_L-wide_PUPPI_log10_ecorr to -7.403550254322336\n",
            "INFO: enterprise.signals.signal_base: Setting J1910+1256_S-wide_ASP_log10_ecorr to -7.195615972473434\n",
            "INFO: enterprise.signals.signal_base: Setting J1910+1256_S-wide_PUPPI_log10_ecorr to -6.218612073150832\n",
            "INFO: enterprise.signals.signal_base: Setting J1918-0642_Rcvr1_2_GASP_efac to 1.0272847294363423\n",
            "INFO: enterprise.signals.signal_base: Setting J1918-0642_Rcvr1_2_GUPPI_efac to 1.035664184009173\n",
            "INFO: enterprise.signals.signal_base: Setting J1918-0642_Rcvr_800_GASP_efac to 1.0557165923306966\n",
            "INFO: enterprise.signals.signal_base: Setting J1918-0642_Rcvr_800_GUPPI_efac to 1.034910727323206\n",
            "INFO: enterprise.signals.signal_base: Setting J1918-0642_Rcvr1_2_GASP_log10_equad to -7.67322161371427\n",
            "INFO: enterprise.signals.signal_base: Setting J1918-0642_Rcvr1_2_GUPPI_log10_equad to -7.3696863188027075\n",
            "INFO: enterprise.signals.signal_base: Setting J1918-0642_Rcvr_800_GASP_log10_equad to -7.105797415440444\n",
            "INFO: enterprise.signals.signal_base: Setting J1918-0642_Rcvr_800_GUPPI_log10_equad to -7.086564536955872\n",
            "INFO: enterprise.signals.signal_base: Setting J1918-0642_Rcvr1_2_GASP_log10_ecorr to -7.37828526123227\n",
            "INFO: enterprise.signals.signal_base: Setting J1918-0642_Rcvr1_2_GUPPI_log10_ecorr to -7.4935011859866485\n",
            "INFO: enterprise.signals.signal_base: Setting J1918-0642_Rcvr_800_GASP_log10_ecorr to -7.559243560441317\n",
            "INFO: enterprise.signals.signal_base: Setting J1918-0642_Rcvr_800_GUPPI_log10_ecorr to -6.525389492066881\n",
            "INFO: enterprise.signals.signal_base: Setting J1944+0907_430_ASP_efac to 1.0814498126291534\n",
            "INFO: enterprise.signals.signal_base: Setting J1944+0907_430_PUPPI_efac to 1.0727024023469869\n",
            "INFO: enterprise.signals.signal_base: Setting J1944+0907_L-wide_ASP_efac to 1.5390588569396464\n",
            "INFO: enterprise.signals.signal_base: Setting J1944+0907_L-wide_PUPPI_efac to 1.1696155596603073\n",
            "INFO: enterprise.signals.signal_base: Setting J1944+0907_430_ASP_log10_equad to -7.243114059446985\n",
            "INFO: enterprise.signals.signal_base: Setting J1944+0907_430_PUPPI_log10_equad to -6.926315089238918\n",
            "INFO: enterprise.signals.signal_base: Setting J1944+0907_L-wide_ASP_log10_equad to -7.238241222764401\n",
            "INFO: enterprise.signals.signal_base: Setting J1944+0907_L-wide_PUPPI_log10_equad to -7.693354205218862\n",
            "INFO: enterprise.signals.signal_base: Setting J1944+0907_430_ASP_log10_ecorr to -6.8879174105358185\n",
            "INFO: enterprise.signals.signal_base: Setting J1944+0907_430_PUPPI_log10_ecorr to -7.1306299212575945\n",
            "INFO: enterprise.signals.signal_base: Setting J1944+0907_L-wide_ASP_log10_ecorr to -7.104483772896318\n",
            "INFO: enterprise.signals.signal_base: Setting J1944+0907_L-wide_PUPPI_log10_ecorr to -6.546284570029579\n",
            "INFO: enterprise.signals.signal_base: Setting J2010-1323_Rcvr1_2_GASP_efac to 1.0179865222180375\n",
            "INFO: enterprise.signals.signal_base: Setting J2010-1323_Rcvr1_2_GUPPI_efac to 1.046213434079912\n",
            "INFO: enterprise.signals.signal_base: Setting J2010-1323_Rcvr_800_GASP_efac to 1.0631310225900652\n",
            "INFO: enterprise.signals.signal_base: Setting J2010-1323_Rcvr_800_GUPPI_efac to 0.9946706739052781\n",
            "INFO: enterprise.signals.signal_base: Setting J2010-1323_Rcvr1_2_GASP_log10_equad to -7.170459137166772\n",
            "INFO: enterprise.signals.signal_base: Setting J2010-1323_Rcvr1_2_GUPPI_log10_equad to -7.676454828722258\n",
            "INFO: enterprise.signals.signal_base: Setting J2010-1323_Rcvr_800_GASP_log10_equad to -7.260685669109653\n",
            "INFO: enterprise.signals.signal_base: Setting J2010-1323_Rcvr_800_GUPPI_log10_equad to -7.2177759208361\n",
            "INFO: enterprise.signals.signal_base: Setting J2010-1323_Rcvr1_2_GASP_log10_ecorr to -7.182315425909628\n",
            "INFO: enterprise.signals.signal_base: Setting J2010-1323_Rcvr1_2_GUPPI_log10_ecorr to -7.686560497366312\n",
            "INFO: enterprise.signals.signal_base: Setting J2010-1323_Rcvr_800_GASP_log10_ecorr to -7.241412604014393\n",
            "INFO: enterprise.signals.signal_base: Setting J2010-1323_Rcvr_800_GUPPI_log10_ecorr to -7.580143294343043\n",
            "INFO: enterprise.signals.signal_base: Setting J2145-0750_Rcvr1_2_GASP_efac to 1.0110230422869044\n",
            "INFO: enterprise.signals.signal_base: Setting J2145-0750_Rcvr1_2_GUPPI_efac to 1.0265447460207069\n",
            "INFO: enterprise.signals.signal_base: Setting J2145-0750_Rcvr_800_GASP_efac to 1.2601984171075302\n",
            "INFO: enterprise.signals.signal_base: Setting J2145-0750_Rcvr_800_GUPPI_efac to 1.0476740581711277\n",
            "INFO: enterprise.signals.signal_base: Setting J2145-0750_Rcvr1_2_GASP_log10_equad to -5.705026109830131\n",
            "INFO: enterprise.signals.signal_base: Setting J2145-0750_Rcvr1_2_GUPPI_log10_equad to -7.938817552005569\n",
            "INFO: enterprise.signals.signal_base: Setting J2145-0750_Rcvr_800_GASP_log10_equad to -6.513203859186709\n",
            "INFO: enterprise.signals.signal_base: Setting J2145-0750_Rcvr_800_GUPPI_log10_equad to -6.4184191843741445\n",
            "INFO: enterprise.signals.signal_base: Setting J2145-0750_Rcvr1_2_GASP_log10_ecorr to -6.243824665782128\n",
            "INFO: enterprise.signals.signal_base: Setting J2145-0750_Rcvr1_2_GUPPI_log10_ecorr to -6.355906738653193\n",
            "INFO: enterprise.signals.signal_base: Setting J2145-0750_Rcvr_800_GASP_log10_ecorr to -6.233581141499856\n",
            "INFO: enterprise.signals.signal_base: Setting J2145-0750_Rcvr_800_GUPPI_log10_ecorr to -6.598154829313346\n",
            "INFO: enterprise.signals.signal_base: Setting J2317+1439_327_ASP_efac to 1.0823722500112272\n",
            "INFO: enterprise.signals.signal_base: Setting J2317+1439_327_PUPPI_efac to 1.17384139990156\n",
            "INFO: enterprise.signals.signal_base: Setting J2317+1439_430_ASP_efac to 1.2574511773494976\n",
            "INFO: enterprise.signals.signal_base: Setting J2317+1439_430_PUPPI_efac to 1.0163851726761812\n",
            "INFO: enterprise.signals.signal_base: Setting J2317+1439_L-wide_PUPPI_efac to 1.1163982326548925\n",
            "INFO: enterprise.signals.signal_base: Setting J2317+1439_327_ASP_log10_equad to -6.457911273619141\n",
            "INFO: enterprise.signals.signal_base: Setting J2317+1439_327_PUPPI_log10_equad to -6.462306002360743\n",
            "INFO: enterprise.signals.signal_base: Setting J2317+1439_430_ASP_log10_equad to -7.3732139102446626\n",
            "INFO: enterprise.signals.signal_base: Setting J2317+1439_430_PUPPI_log10_equad to -6.535705196682452\n",
            "INFO: enterprise.signals.signal_base: Setting J2317+1439_L-wide_PUPPI_log10_equad to -7.463944437178126\n",
            "INFO: enterprise.signals.signal_base: Setting J2317+1439_327_ASP_log10_ecorr to -7.706187896212512\n",
            "INFO: enterprise.signals.signal_base: Setting J2317+1439_327_PUPPI_log10_ecorr to -6.392284847303101\n",
            "INFO: enterprise.signals.signal_base: Setting J2317+1439_430_ASP_log10_ecorr to -6.509624616624109\n",
            "INFO: enterprise.signals.signal_base: Setting J2317+1439_430_PUPPI_log10_ecorr to -6.87918040058842\n",
            "INFO: enterprise.signals.signal_base: Setting J2317+1439_L-wide_PUPPI_log10_ecorr to -6.6463560361584975\n"
          ],
          "name": "stderr"
        }
      ]
    },
    {
      "cell_type": "code",
      "metadata": {
        "ExecuteTime": {
          "end_time": "2018-05-15T21:56:20.663093Z",
          "start_time": "2018-05-15T21:56:20.632086Z"
        },
        "id": "b8gWbj4x7IFn"
      },
      "source": [
        "# Setup an instance of a HyperModel.\n",
        "# This doesn't mean we are doing model selection (yet!), but the\n",
        "# hypermodel module gives access to some nifty sampling schemes.\n",
        "super_model = hypermodel.HyperModel({0: pta})"
      ],
      "execution_count": null,
      "outputs": []
    },
    {
      "cell_type": "code",
      "metadata": {
        "ExecuteTime": {
          "end_time": "2018-05-15T21:56:20.823333Z",
          "start_time": "2018-05-15T21:56:20.790108Z"
        },
        "id": "FIC7NRBf7IFn",
        "outputId": "39eb0f3a-47b8-4f25-db51-3d5ad8853de2"
      },
      "source": [
        "outDir = '../chains_pta_ext_gwb'\n",
        "sampler = super_model.setup_sampler(resume=False, outdir=outDir, sample_nmodel=False)"
      ],
      "execution_count": null,
      "outputs": [
        {
          "output_type": "stream",
          "text": [
            "Adding red noise prior draws...\n",
            "\n",
            "Adding GWB uniform distribution draws...\n",
            "\n",
            "Adding gw param prior draws...\n",
            "\n"
          ],
          "name": "stdout"
        }
      ]
    },
    {
      "cell_type": "code",
      "metadata": {
        "ExecuteTime": {
          "end_time": "2018-05-15T21:56:21.506309Z",
          "start_time": "2018-05-15T21:56:21.474529Z"
        },
        "id": "CIIJPp0T7IFn"
      },
      "source": [
        "# sampler for N steps\n",
        "N = int(1.5e5)  # normally this would be 5e6, but this saves time\n",
        "x0 = super_model.initial_sample()"
      ],
      "execution_count": null,
      "outputs": []
    },
    {
      "cell_type": "code",
      "metadata": {
        "ExecuteTime": {
          "end_time": "2018-05-15T21:58:54.315884Z",
          "start_time": "2018-05-15T21:56:25.820406Z"
        },
        "id": "5kKvVjl27IFn",
        "outputId": "2d52b2a0-b175-4b49-a862-57ac6c841ffc"
      },
      "source": [
        "# sample: this should take about an hour\n",
        "sampler.sample(x0, N, SCAMweight=30, AMweight=15, DEweight=50, )"
      ],
      "execution_count": null,
      "outputs": [
        {
          "output_type": "stream",
          "text": [
            "Finished 6.67 percent in 282.464822 s Acceptance rate = 0.3559Adding DE jump with weight 50\n",
            "Finished 99.33 percent in 4061.549970 s Acceptance rate = 0.407745\n",
            "Run Complete\n"
          ],
          "name": "stdout"
        }
      ]
    },
    {
      "cell_type": "code",
      "metadata": {
        "ExecuteTime": {
          "end_time": "2018-05-15T21:58:58.146382Z",
          "start_time": "2018-05-15T21:58:58.013143Z"
        },
        "id": "DOJdXPGr7IFn"
      },
      "source": [
        "# Read in chains and parameters\n",
        "chain = np.loadtxt(outDir + '/chain_1.txt')\n",
        "burn = int(0.25*chain.shape[0])\n",
        "pars = np.loadtxt(outDir + '/pars.txt', dtype=np.unicode_)"
      ],
      "execution_count": null,
      "outputs": []
    },
    {
      "cell_type": "code",
      "metadata": {
        "id": "x1oihKPh7IFn"
      },
      "source": [
        "# this allows for some interesting post\n",
        "# processing plots to be created quickly\n",
        "pp = model_utils.PostProcessing(chain, pars)\n",
        "# pp.plot_trace()  # traces of all parameters to diagnose sampling\n",
        "hist_kwargs = {'bins':50, 'density':True}\n",
        "# pp.plot_hist(hist_kwargs)"
      ],
      "execution_count": null,
      "outputs": []
    },
    {
      "cell_type": "code",
      "metadata": {
        "ExecuteTime": {
          "end_time": "2018-05-15T21:58:58.777011Z",
          "start_time": "2018-05-15T21:58:58.555011Z"
        },
        "id": "fD1Y4Lpu7IFn",
        "outputId": "53df4b0a-710f-43d4-e78c-fa12762c7dae"
      },
      "source": [
        "# Plot GW amplitude posterior\n",
        "ind = list(pars).index('gw_log10_A')\n",
        "plt.hist(chain[burn:,ind], bins=100);"
      ],
      "execution_count": null,
      "outputs": [
        {
          "output_type": "display_data",
          "data": {
            "text/plain": [
              "<Figure size 432x288 with 1 Axes>"
            ],
            "image/png": "[encoded data removed]"
          },
          "metadata": {
            "tags": [],
            "image/png": {
              "width": 389,
              "height": 248
            },
            "needs_background": "light"
          }
        }
      ]
    },
    {
      "cell_type": "code",
      "metadata": {
        "ExecuteTime": {
          "end_time": "2018-05-15T21:59:00.397744Z",
          "start_time": "2018-05-15T21:59:00.366793Z"
        },
        "id": "_m1THGsK7IFn",
        "outputId": "0f19d82d-5879-4617-ee34-84265d072b63"
      },
      "source": [
        "# Compute maximum posterior value\n",
        "hist = np.histogram(chain[burn:, pta.param_names.index('gw_log10_A')],\n",
        "                          bins=100,\n",
        "                          density=False)\n",
        "max_ind = np.argmax(hist[0])\n",
        "print('our_max =', hist[1][max_ind])  # from our computation"
      ],
      "execution_count": null,
      "outputs": [
        {
          "output_type": "stream",
          "text": [
            "our_max = -14.63294994829559\n"
          ],
          "name": "stdout"
        }
      ]
    },
    {
      "cell_type": "markdown",
      "metadata": {
        "id": "ZJxUS1Fc7IFn"
      },
      "source": [
        "* We want to be able to compute the Bayesian odds for a GWB in the data. This can be done using the hypermodel class, where we choose between a `model_2a` with a common (but uncorrelated) red process in the pulsars, and `model_1` with no GWB in the model.\n",
        "\n",
        "* We typically perform detection-type analyses with uniform-in-log priors on all amplitude parameters for low-frequency processes. This is implemented below with `upper_limit` equal to `False`."
      ]
    },
    {
      "cell_type": "markdown",
      "metadata": {
        "id": "bkondzus7IFn"
      },
      "source": [
        "## Setup dictionary of PTA models\n",
        "* `model_1` consists of a PTA with only intrinsic red noise\n",
        "* `model_2a` includes a GWB term where we set the spectral index to 13/3\n",
        "* In both cases, it is not necessary to include all of the keyword arguments but they are included here to show the different options that are available\n",
        "* There are other model functions built into `enterprise_extensions`.\n",
        "* Check out the docstrings of each function in the `models.py` file of `enterprise_extensions` for more information."
      ]
    },
    {
      "cell_type": "code",
      "metadata": {
        "ExecuteTime": {
          "end_time": "2018-05-15T21:59:25.363204Z",
          "start_time": "2018-05-15T21:59:22.414521Z"
        },
        "tags": [
          "outputPrepend"
        ],
        "id": "BmqUithU7IFn",
        "outputId": "b26d7af6-c1ed-466c-a490-636c7cdcfaa9"
      },
      "source": [
        "nmodels = 2\n",
        "mod_index = np.arange(nmodels)\n",
        "\n",
        "# Make dictionary of PTAs.\n",
        "pta = dict.fromkeys(mod_index)\n",
        "pta[0] = models.model_1(psrs, psd='powerlaw', noisedict=params, white_vary=False,\n",
        "                        components=30, upper_limit=False, bayesephem=False,\n",
        "                        be_type='orbel', is_wideband=False, use_dmdata=False,\n",
        "                        select='backend')\n",
        "pta[1] = models.model_2a(psrs, psd='powerlaw', noisedict=params, components=30,\n",
        "                         n_rnfreqs = None, n_gwbfreqs=None, gamma_common=13/3,\n",
        "                         delta_common=None, upper_limit=False, bayesephem=False,\n",
        "                         be_type='orbel', white_vary=False, is_wideband=False,\n",
        "                         use_dmdata=False, select='backend',\n",
        "                         pshift=False, pseed=None, psr_models=False)"
      ],
      "execution_count": null,
      "outputs": [
        {
          "output_type": "stream",
          "text": [
            "orr to -7.629255580321534\n",
            "INFO: enterprise.signals.signal_base: Setting J1455-3330_Rcvr_800_GASP_log10_ecorr to -7.085458304995403\n",
            "INFO: enterprise.signals.signal_base: Setting J1455-3330_Rcvr_800_GUPPI_log10_ecorr to -6.526567653068877\n",
            "INFO: enterprise.signals.signal_base: Setting J1600-3053_Rcvr1_2_GASP_efac to 1.134993789980654\n",
            "INFO: enterprise.signals.signal_base: Setting J1600-3053_Rcvr1_2_GUPPI_efac to 1.0521556985294778\n",
            "INFO: enterprise.signals.signal_base: Setting J1600-3053_Rcvr_800_GASP_efac to 1.1935927243559799\n",
            "INFO: enterprise.signals.signal_base: Setting J1600-3053_Rcvr_800_GUPPI_efac to 1.120996265055496\n",
            "INFO: enterprise.signals.signal_base: Setting J1600-3053_Rcvr1_2_GASP_log10_equad to -6.960586084616913\n",
            "INFO: enterprise.signals.signal_base: Setting J1600-3053_Rcvr1_2_GUPPI_log10_equad to -7.761043891506745\n",
            "INFO: enterprise.signals.signal_base: Setting J1600-3053_Rcvr_800_GASP_log10_equad to -7.311693997685966\n",
            "INFO: enterprise.signals.signal_base: Setting J1600-3053_Rcvr_800_GUPPI_log10_equad to -7.374528725467375\n",
            "INFO: enterprise.signals.signal_base: Setting J1600-3053_Rcvr1_2_GASP_log10_ecorr to -7.134558712552095\n",
            "INFO: enterprise.signals.signal_base: Setting J1600-3053_Rcvr1_2_GUPPI_log10_ecorr to -6.899208552923536\n",
            "INFO: enterprise.signals.signal_base: Setting J1600-3053_Rcvr_800_GASP_log10_ecorr to -7.407293847566683\n",
            "INFO: enterprise.signals.signal_base: Setting J1600-3053_Rcvr_800_GUPPI_log10_ecorr to -6.288542964735563\n",
            "INFO: enterprise.signals.signal_base: Setting J1614-2230_Rcvr1_2_GASP_efac to 1.1369056644435913\n",
            "INFO: enterprise.signals.signal_base: Setting J1614-2230_Rcvr1_2_GUPPI_efac to 1.0636501302858106\n",
            "INFO: enterprise.signals.signal_base: Setting J1614-2230_Rcvr_800_GASP_efac to 0.9178765720365575\n",
            "INFO: enterprise.signals.signal_base: Setting J1614-2230_Rcvr_800_GUPPI_efac to 1.0115241685032286\n",
            "INFO: enterprise.signals.signal_base: Setting J1614-2230_Rcvr1_2_GASP_log10_equad to -7.32067533880299\n",
            "INFO: enterprise.signals.signal_base: Setting J1614-2230_Rcvr1_2_GUPPI_log10_equad to -7.784678758801305\n",
            "INFO: enterprise.signals.signal_base: Setting J1614-2230_Rcvr_800_GASP_log10_equad to -7.2577825388006305\n",
            "INFO: enterprise.signals.signal_base: Setting J1614-2230_Rcvr_800_GUPPI_log10_equad to -7.627864180562532\n",
            "INFO: enterprise.signals.signal_base: Setting J1614-2230_Rcvr1_2_GASP_log10_ecorr to -7.448625358285439\n",
            "INFO: enterprise.signals.signal_base: Setting J1614-2230_Rcvr1_2_GUPPI_log10_ecorr to -7.655859629011535\n",
            "INFO: enterprise.signals.signal_base: Setting J1614-2230_Rcvr_800_GASP_log10_ecorr to -7.299611199085039\n",
            "INFO: enterprise.signals.signal_base: Setting J1614-2230_Rcvr_800_GUPPI_log10_ecorr to -7.4080289590963355\n",
            "INFO: enterprise.signals.signal_base: Setting J1640+2224_430_ASP_efac to 1.143081359459332\n",
            "INFO: enterprise.signals.signal_base: Setting J1640+2224_430_PUPPI_efac to 1.0573767076899483\n",
            "INFO: enterprise.signals.signal_base: Setting J1640+2224_L-wide_ASP_efac to 1.06394287552814\n",
            "INFO: enterprise.signals.signal_base: Setting J1640+2224_L-wide_PUPPI_efac to 1.1457585235526273\n",
            "INFO: enterprise.signals.signal_base: Setting J1640+2224_430_ASP_log10_equad to -6.240784825369144\n",
            "INFO: enterprise.signals.signal_base: Setting J1640+2224_430_PUPPI_log10_equad to -6.9445789284154085\n",
            "INFO: enterprise.signals.signal_base: Setting J1640+2224_L-wide_ASP_log10_equad to -7.649274979312211\n",
            "INFO: enterprise.signals.signal_base: Setting J1640+2224_L-wide_PUPPI_log10_equad to -8.075008065199082\n",
            "INFO: enterprise.signals.signal_base: Setting J1640+2224_430_ASP_log10_ecorr to -7.788811673814794\n",
            "INFO: enterprise.signals.signal_base: Setting J1640+2224_430_PUPPI_log10_ecorr to -6.901622491949263\n",
            "INFO: enterprise.signals.signal_base: Setting J1640+2224_L-wide_ASP_log10_ecorr to -6.275572665649051\n",
            "INFO: enterprise.signals.signal_base: Setting J1640+2224_L-wide_PUPPI_log10_ecorr to -6.4079933035010095\n",
            "INFO: enterprise.signals.signal_base: Setting J1643-1224_Rcvr1_2_GASP_efac to 1.0071858015273707\n",
            "INFO: enterprise.signals.signal_base: Setting J1643-1224_Rcvr1_2_GUPPI_efac to 1.1247022811624827\n",
            "INFO: enterprise.signals.signal_base: Setting J1643-1224_Rcvr_800_GASP_efac to 1.493816799359807\n",
            "INFO: enterprise.signals.signal_base: Setting J1643-1224_Rcvr_800_GUPPI_efac to 1.1921609687505945\n",
            "INFO: enterprise.signals.signal_base: Setting J1643-1224_Rcvr1_2_GASP_log10_equad to -7.277156122921472\n",
            "INFO: enterprise.signals.signal_base: Setting J1643-1224_Rcvr1_2_GUPPI_log10_equad to -7.138128067645691\n",
            "INFO: enterprise.signals.signal_base: Setting J1643-1224_Rcvr_800_GASP_log10_equad to -7.115627957850879\n",
            "INFO: enterprise.signals.signal_base: Setting J1643-1224_Rcvr_800_GUPPI_log10_equad to -5.9780473533853655\n",
            "INFO: enterprise.signals.signal_base: Setting J1643-1224_Rcvr1_2_GASP_log10_ecorr to -7.503311141343279\n",
            "INFO: enterprise.signals.signal_base: Setting J1643-1224_Rcvr1_2_GUPPI_log10_ecorr to -6.042898081068246\n",
            "INFO: enterprise.signals.signal_base: Setting J1643-1224_Rcvr_800_GASP_log10_ecorr to -6.822037374515338\n",
            "INFO: enterprise.signals.signal_base: Setting J1643-1224_Rcvr_800_GUPPI_log10_ecorr to -5.544475232494147\n",
            "INFO: enterprise.signals.signal_base: Setting J1713+0747_L-wide_ASP_efac to 1.0524302344416032\n",
            "INFO: enterprise.signals.signal_base: Setting J1713+0747_L-wide_PUPPI_efac to 0.9796026604137508\n",
            "INFO: enterprise.signals.signal_base: Setting J1713+0747_Rcvr1_2_GASP_efac to 1.084307149708116\n",
            "INFO: enterprise.signals.signal_base: Setting J1713+0747_Rcvr1_2_GUPPI_efac to 1.017213088587959\n",
            "INFO: enterprise.signals.signal_base: Setting J1713+0747_Rcvr_800_GASP_efac to 1.117529091199639\n",
            "INFO: enterprise.signals.signal_base: Setting J1713+0747_Rcvr_800_GUPPI_efac to 1.0500383710337968\n",
            "INFO: enterprise.signals.signal_base: Setting J1713+0747_S-wide_ASP_efac to 1.1139598766607257\n",
            "INFO: enterprise.signals.signal_base: Setting J1713+0747_S-wide_PUPPI_efac to 1.0889710082237398\n",
            "INFO: enterprise.signals.signal_base: Setting J1713+0747_L-wide_ASP_log10_equad to -7.58206720746206\n",
            "INFO: enterprise.signals.signal_base: Setting J1713+0747_L-wide_PUPPI_log10_equad to -8.377098873197399\n",
            "INFO: enterprise.signals.signal_base: Setting J1713+0747_Rcvr1_2_GASP_log10_equad to -7.423897862687164\n",
            "INFO: enterprise.signals.signal_base: Setting J1713+0747_Rcvr1_2_GUPPI_log10_equad to -8.357193830632392\n",
            "INFO: enterprise.signals.signal_base: Setting J1713+0747_Rcvr_800_GASP_log10_equad to -7.251839650442933\n",
            "INFO: enterprise.signals.signal_base: Setting J1713+0747_Rcvr_800_GUPPI_log10_equad to -7.614933520652966\n",
            "INFO: enterprise.signals.signal_base: Setting J1713+0747_S-wide_ASP_log10_equad to -8.027710747783962\n",
            "INFO: enterprise.signals.signal_base: Setting J1713+0747_S-wide_PUPPI_log10_equad to -8.186781270775445\n",
            "INFO: enterprise.signals.signal_base: Setting J1713+0747_L-wide_ASP_log10_ecorr to -7.029000061406403\n",
            "INFO: enterprise.signals.signal_base: Setting J1713+0747_L-wide_PUPPI_log10_ecorr to -7.142663306094692\n",
            "INFO: enterprise.signals.signal_base: Setting J1713+0747_Rcvr1_2_GASP_log10_ecorr to -7.299970815145262\n",
            "INFO: enterprise.signals.signal_base: Setting J1713+0747_Rcvr1_2_GUPPI_log10_ecorr to -7.131010248150742\n",
            "INFO: enterprise.signals.signal_base: Setting J1713+0747_Rcvr_800_GASP_log10_ecorr to -7.788837849013025\n",
            "INFO: enterprise.signals.signal_base: Setting J1713+0747_Rcvr_800_GUPPI_log10_ecorr to -6.730867845961182\n",
            "INFO: enterprise.signals.signal_base: Setting J1713+0747_S-wide_ASP_log10_ecorr to -6.876597410265874\n",
            "INFO: enterprise.signals.signal_base: Setting J1713+0747_S-wide_PUPPI_log10_ecorr to -7.305157969602163\n",
            "INFO: enterprise.signals.signal_base: Setting J1738+0333_L-wide_ASP_efac to 1.1479069042742471\n",
            "INFO: enterprise.signals.signal_base: Setting J1738+0333_L-wide_PUPPI_efac to 1.0710506604701162\n",
            "INFO: enterprise.signals.signal_base: Setting J1738+0333_S-wide_ASP_efac to 0.9465373677964157\n",
            "INFO: enterprise.signals.signal_base: Setting J1738+0333_S-wide_PUPPI_efac to 0.8845264245078953\n",
            "INFO: enterprise.signals.signal_base: Setting J1738+0333_L-wide_ASP_log10_equad to -7.579720669663646\n",
            "INFO: enterprise.signals.signal_base: Setting J1738+0333_L-wide_PUPPI_log10_equad to -7.886362963443982\n",
            "INFO: enterprise.signals.signal_base: Setting J1738+0333_S-wide_ASP_log10_equad to -7.565578005221636\n",
            "INFO: enterprise.signals.signal_base: Setting J1738+0333_S-wide_PUPPI_log10_equad to -7.767394128812992\n",
            "INFO: enterprise.signals.signal_base: Setting J1738+0333_L-wide_ASP_log10_ecorr to -7.060532309258772\n",
            "INFO: enterprise.signals.signal_base: Setting J1738+0333_L-wide_PUPPI_log10_ecorr to -7.019786250261518\n",
            "INFO: enterprise.signals.signal_base: Setting J1738+0333_S-wide_ASP_log10_ecorr to -7.381958762803754\n",
            "INFO: enterprise.signals.signal_base: Setting J1738+0333_S-wide_PUPPI_log10_ecorr to -7.7411812625497936\n",
            "INFO: enterprise.signals.signal_base: Setting J1744-1134_Rcvr1_2_GASP_efac to 0.9978514871735024\n",
            "INFO: enterprise.signals.signal_base: Setting J1744-1134_Rcvr1_2_GUPPI_efac to 1.053362947622705\n",
            "INFO: enterprise.signals.signal_base: Setting J1744-1134_Rcvr_800_GASP_efac to 1.1285830055400954\n",
            "INFO: enterprise.signals.signal_base: Setting J1744-1134_Rcvr_800_GUPPI_efac to 1.0350590534568576\n",
            "INFO: enterprise.signals.signal_base: Setting J1744-1134_Rcvr1_2_GASP_log10_equad to -6.381411751584569\n",
            "INFO: enterprise.signals.signal_base: Setting J1744-1134_Rcvr1_2_GUPPI_log10_equad to -7.003305288540264\n",
            "INFO: enterprise.signals.signal_base: Setting J1744-1134_Rcvr_800_GASP_log10_equad to -6.4572271715342175\n",
            "INFO: enterprise.signals.signal_base: Setting J1744-1134_Rcvr_800_GUPPI_log10_equad to -6.613992229078914\n",
            "INFO: enterprise.signals.signal_base: Setting J1744-1134_Rcvr1_2_GASP_log10_ecorr to -6.292180076314258\n",
            "INFO: enterprise.signals.signal_base: Setting J1744-1134_Rcvr1_2_GUPPI_log10_ecorr to -6.537490178263718\n",
            "INFO: enterprise.signals.signal_base: Setting J1744-1134_Rcvr_800_GASP_log10_ecorr to -6.61724561091565\n",
            "INFO: enterprise.signals.signal_base: Setting J1744-1134_Rcvr_800_GUPPI_log10_ecorr to -6.396301881001724\n",
            "INFO: enterprise.signals.signal_base: Setting J1903+0327_L-wide_ASP_efac to 1.179706924996803\n",
            "INFO: enterprise.signals.signal_base: Setting J1903+0327_L-wide_PUPPI_efac to 1.168460641474899\n",
            "INFO: enterprise.signals.signal_base: Setting J1903+0327_S-wide_ASP_efac to 0.8321334329815202\n",
            "INFO: enterprise.signals.signal_base: Setting J1903+0327_S-wide_PUPPI_efac to 1.1095637896315254\n",
            "INFO: enterprise.signals.signal_base: Setting J1903+0327_L-wide_ASP_log10_equad to -7.158390864212146\n",
            "INFO: enterprise.signals.signal_base: Setting J1903+0327_L-wide_PUPPI_log10_equad to -7.759288526577286\n",
            "INFO: enterprise.signals.signal_base: Setting J1903+0327_S-wide_ASP_log10_equad to -6.16963651015452\n",
            "INFO: enterprise.signals.signal_base: Setting J1903+0327_S-wide_PUPPI_log10_equad to -7.574001886389685\n",
            "INFO: enterprise.signals.signal_base: Setting J1903+0327_L-wide_ASP_log10_ecorr to -7.172149108226772\n",
            "INFO: enterprise.signals.signal_base: Setting J1903+0327_L-wide_PUPPI_log10_ecorr to -5.636329138486162\n",
            "INFO: enterprise.signals.signal_base: Setting J1903+0327_S-wide_ASP_log10_ecorr to -7.364742895573575\n",
            "INFO: enterprise.signals.signal_base: Setting J1903+0327_S-wide_PUPPI_log10_ecorr to -7.45437286784459\n",
            "INFO: enterprise.signals.signal_base: Setting J1909-3744_Rcvr1_2_GASP_efac to 0.9505606759311833\n",
            "INFO: enterprise.signals.signal_base: Setting J1909-3744_Rcvr1_2_GUPPI_efac to 1.0339776268866265\n",
            "INFO: enterprise.signals.signal_base: Setting J1909-3744_Rcvr_800_GASP_efac to 1.0504080629362422\n",
            "INFO: enterprise.signals.signal_base: Setting J1909-3744_Rcvr_800_GUPPI_efac to 1.0313779800296294\n",
            "INFO: enterprise.signals.signal_base: Setting J1909-3744_Rcvr1_2_GASP_log10_equad to -7.456278210493956\n",
            "INFO: enterprise.signals.signal_base: Setting J1909-3744_Rcvr1_2_GUPPI_log10_equad to -8.171553179171445\n",
            "INFO: enterprise.signals.signal_base: Setting J1909-3744_Rcvr_800_GASP_log10_equad to -7.037406290351743\n",
            "INFO: enterprise.signals.signal_base: Setting J1909-3744_Rcvr_800_GUPPI_log10_equad to -7.365322642903795\n",
            "INFO: enterprise.signals.signal_base: Setting J1909-3744_Rcvr1_2_GASP_log10_ecorr to -8.078816887958723\n",
            "INFO: enterprise.signals.signal_base: Setting J1909-3744_Rcvr1_2_GUPPI_log10_ecorr to -7.137638201510413\n",
            "INFO: enterprise.signals.signal_base: Setting J1909-3744_Rcvr_800_GASP_log10_ecorr to -7.871774784575877\n",
            "INFO: enterprise.signals.signal_base: Setting J1909-3744_Rcvr_800_GUPPI_log10_ecorr to -7.269816370154123\n",
            "INFO: enterprise.signals.signal_base: Setting J1910+1256_L-wide_ASP_efac to 1.063590147073229\n",
            "INFO: enterprise.signals.signal_base: Setting J1910+1256_L-wide_PUPPI_efac to 1.0931136416030962\n",
            "INFO: enterprise.signals.signal_base: Setting J1910+1256_S-wide_ASP_efac to 0.9661536934887565\n",
            "INFO: enterprise.signals.signal_base: Setting J1910+1256_S-wide_PUPPI_efac to 1.0982792255110136\n",
            "INFO: enterprise.signals.signal_base: Setting J1910+1256_L-wide_ASP_log10_equad to -7.516992859042785\n",
            "INFO: enterprise.signals.signal_base: Setting J1910+1256_L-wide_PUPPI_log10_equad to -7.585087262800533\n",
            "INFO: enterprise.signals.signal_base: Setting J1910+1256_S-wide_ASP_log10_equad to -6.218657154174941\n",
            "INFO: enterprise.signals.signal_base: Setting J1910+1256_S-wide_PUPPI_log10_equad to -7.401958120896809\n",
            "INFO: enterprise.signals.signal_base: Setting J1910+1256_L-wide_ASP_log10_ecorr to -7.259684055387137\n",
            "INFO: enterprise.signals.signal_base: Setting J1910+1256_L-wide_PUPPI_log10_ecorr to -7.403550254322336\n",
            "INFO: enterprise.signals.signal_base: Setting J1910+1256_S-wide_ASP_log10_ecorr to -7.195615972473434\n",
            "INFO: enterprise.signals.signal_base: Setting J1910+1256_S-wide_PUPPI_log10_ecorr to -6.218612073150832\n",
            "INFO: enterprise.signals.signal_base: Setting J1918-0642_Rcvr1_2_GASP_efac to 1.0272847294363423\n",
            "INFO: enterprise.signals.signal_base: Setting J1918-0642_Rcvr1_2_GUPPI_efac to 1.035664184009173\n",
            "INFO: enterprise.signals.signal_base: Setting J1918-0642_Rcvr_800_GASP_efac to 1.0557165923306966\n",
            "INFO: enterprise.signals.signal_base: Setting J1918-0642_Rcvr_800_GUPPI_efac to 1.034910727323206\n",
            "INFO: enterprise.signals.signal_base: Setting J1918-0642_Rcvr1_2_GASP_log10_equad to -7.67322161371427\n",
            "INFO: enterprise.signals.signal_base: Setting J1918-0642_Rcvr1_2_GUPPI_log10_equad to -7.3696863188027075\n",
            "INFO: enterprise.signals.signal_base: Setting J1918-0642_Rcvr_800_GASP_log10_equad to -7.105797415440444\n",
            "INFO: enterprise.signals.signal_base: Setting J1918-0642_Rcvr_800_GUPPI_log10_equad to -7.086564536955872\n",
            "INFO: enterprise.signals.signal_base: Setting J1918-0642_Rcvr1_2_GASP_log10_ecorr to -7.37828526123227\n",
            "INFO: enterprise.signals.signal_base: Setting J1918-0642_Rcvr1_2_GUPPI_log10_ecorr to -7.4935011859866485\n",
            "INFO: enterprise.signals.signal_base: Setting J1918-0642_Rcvr_800_GASP_log10_ecorr to -7.559243560441317\n",
            "INFO: enterprise.signals.signal_base: Setting J1918-0642_Rcvr_800_GUPPI_log10_ecorr to -6.525389492066881\n",
            "INFO: enterprise.signals.signal_base: Setting J1944+0907_430_ASP_efac to 1.0814498126291534\n",
            "INFO: enterprise.signals.signal_base: Setting J1944+0907_430_PUPPI_efac to 1.0727024023469869\n",
            "INFO: enterprise.signals.signal_base: Setting J1944+0907_L-wide_ASP_efac to 1.5390588569396464\n",
            "INFO: enterprise.signals.signal_base: Setting J1944+0907_L-wide_PUPPI_efac to 1.1696155596603073\n",
            "INFO: enterprise.signals.signal_base: Setting J1944+0907_430_ASP_log10_equad to -7.243114059446985\n",
            "INFO: enterprise.signals.signal_base: Setting J1944+0907_430_PUPPI_log10_equad to -6.926315089238918\n",
            "INFO: enterprise.signals.signal_base: Setting J1944+0907_L-wide_ASP_log10_equad to -7.238241222764401\n",
            "INFO: enterprise.signals.signal_base: Setting J1944+0907_L-wide_PUPPI_log10_equad to -7.693354205218862\n",
            "INFO: enterprise.signals.signal_base: Setting J1944+0907_430_ASP_log10_ecorr to -6.8879174105358185\n",
            "INFO: enterprise.signals.signal_base: Setting J1944+0907_430_PUPPI_log10_ecorr to -7.1306299212575945\n",
            "INFO: enterprise.signals.signal_base: Setting J1944+0907_L-wide_ASP_log10_ecorr to -7.104483772896318\n",
            "INFO: enterprise.signals.signal_base: Setting J1944+0907_L-wide_PUPPI_log10_ecorr to -6.546284570029579\n",
            "INFO: enterprise.signals.signal_base: Setting J2010-1323_Rcvr1_2_GASP_efac to 1.0179865222180375\n",
            "INFO: enterprise.signals.signal_base: Setting J2010-1323_Rcvr1_2_GUPPI_efac to 1.046213434079912\n",
            "INFO: enterprise.signals.signal_base: Setting J2010-1323_Rcvr_800_GASP_efac to 1.0631310225900652\n",
            "INFO: enterprise.signals.signal_base: Setting J2010-1323_Rcvr_800_GUPPI_efac to 0.9946706739052781\n",
            "INFO: enterprise.signals.signal_base: Setting J2010-1323_Rcvr1_2_GASP_log10_equad to -7.170459137166772\n",
            "INFO: enterprise.signals.signal_base: Setting J2010-1323_Rcvr1_2_GUPPI_log10_equad to -7.676454828722258\n",
            "INFO: enterprise.signals.signal_base: Setting J2010-1323_Rcvr_800_GASP_log10_equad to -7.260685669109653\n",
            "INFO: enterprise.signals.signal_base: Setting J2010-1323_Rcvr_800_GUPPI_log10_equad to -7.2177759208361\n",
            "INFO: enterprise.signals.signal_base: Setting J2010-1323_Rcvr1_2_GASP_log10_ecorr to -7.182315425909628\n",
            "INFO: enterprise.signals.signal_base: Setting J2010-1323_Rcvr1_2_GUPPI_log10_ecorr to -7.686560497366312\n",
            "INFO: enterprise.signals.signal_base: Setting J2010-1323_Rcvr_800_GASP_log10_ecorr to -7.241412604014393\n",
            "INFO: enterprise.signals.signal_base: Setting J2010-1323_Rcvr_800_GUPPI_log10_ecorr to -7.580143294343043\n",
            "INFO: enterprise.signals.signal_base: Setting J2145-0750_Rcvr1_2_GASP_efac to 1.0110230422869044\n",
            "INFO: enterprise.signals.signal_base: Setting J2145-0750_Rcvr1_2_GUPPI_efac to 1.0265447460207069\n",
            "INFO: enterprise.signals.signal_base: Setting J2145-0750_Rcvr_800_GASP_efac to 1.2601984171075302\n",
            "INFO: enterprise.signals.signal_base: Setting J2145-0750_Rcvr_800_GUPPI_efac to 1.0476740581711277\n",
            "INFO: enterprise.signals.signal_base: Setting J2145-0750_Rcvr1_2_GASP_log10_equad to -5.705026109830131\n",
            "INFO: enterprise.signals.signal_base: Setting J2145-0750_Rcvr1_2_GUPPI_log10_equad to -7.938817552005569\n",
            "INFO: enterprise.signals.signal_base: Setting J2145-0750_Rcvr_800_GASP_log10_equad to -6.513203859186709\n",
            "INFO: enterprise.signals.signal_base: Setting J2145-0750_Rcvr_800_GUPPI_log10_equad to -6.4184191843741445\n",
            "INFO: enterprise.signals.signal_base: Setting J2145-0750_Rcvr1_2_GASP_log10_ecorr to -6.243824665782128\n",
            "INFO: enterprise.signals.signal_base: Setting J2145-0750_Rcvr1_2_GUPPI_log10_ecorr to -6.355906738653193\n",
            "INFO: enterprise.signals.signal_base: Setting J2145-0750_Rcvr_800_GASP_log10_ecorr to -6.233581141499856\n",
            "INFO: enterprise.signals.signal_base: Setting J2145-0750_Rcvr_800_GUPPI_log10_ecorr to -6.598154829313346\n",
            "INFO: enterprise.signals.signal_base: Setting J2317+1439_327_ASP_efac to 1.0823722500112272\n",
            "INFO: enterprise.signals.signal_base: Setting J2317+1439_327_PUPPI_efac to 1.17384139990156\n",
            "INFO: enterprise.signals.signal_base: Setting J2317+1439_430_ASP_efac to 1.2574511773494976\n",
            "INFO: enterprise.signals.signal_base: Setting J2317+1439_430_PUPPI_efac to 1.0163851726761812\n",
            "INFO: enterprise.signals.signal_base: Setting J2317+1439_L-wide_PUPPI_efac to 1.1163982326548925\n",
            "INFO: enterprise.signals.signal_base: Setting J2317+1439_327_ASP_log10_equad to -6.457911273619141\n",
            "INFO: enterprise.signals.signal_base: Setting J2317+1439_327_PUPPI_log10_equad to -6.462306002360743\n",
            "INFO: enterprise.signals.signal_base: Setting J2317+1439_430_ASP_log10_equad to -7.3732139102446626\n",
            "INFO: enterprise.signals.signal_base: Setting J2317+1439_430_PUPPI_log10_equad to -6.535705196682452\n",
            "INFO: enterprise.signals.signal_base: Setting J2317+1439_L-wide_PUPPI_log10_equad to -7.463944437178126\n",
            "INFO: enterprise.signals.signal_base: Setting J2317+1439_327_ASP_log10_ecorr to -7.706187896212512\n",
            "INFO: enterprise.signals.signal_base: Setting J2317+1439_327_PUPPI_log10_ecorr to -6.392284847303101\n",
            "INFO: enterprise.signals.signal_base: Setting J2317+1439_430_ASP_log10_ecorr to -6.509624616624109\n",
            "INFO: enterprise.signals.signal_base: Setting J2317+1439_430_PUPPI_log10_ecorr to -6.87918040058842\n",
            "INFO: enterprise.signals.signal_base: Setting J2317+1439_L-wide_PUPPI_log10_ecorr to -6.6463560361584975\n"
          ],
          "name": "stderr"
        }
      ]
    },
    {
      "cell_type": "markdown",
      "metadata": {
        "id": "lmLXrTsZ7IFn"
      },
      "source": [
        "* In setting up the `HyperModel` in the next cell, we set weights to make the models sample more evenly.\n",
        "* This will be taken into account when we compute the Bayes factor later.\n",
        "* We also use an `empirical distribution` to tell the sampler what we found on previous runs to reduce the number of samples required for burn-in."
      ]
    },
    {
      "cell_type": "code",
      "metadata": {
        "ExecuteTime": {
          "end_time": "2018-05-15T21:59:38.043468Z",
          "start_time": "2018-05-15T21:59:38.006027Z"
        },
        "id": "-s5UyaYD7IFn"
      },
      "source": [
        "super_model = hypermodel.HyperModel(pta, log_weights=[10, 0])"
      ],
      "execution_count": null,
      "outputs": []
    },
    {
      "cell_type": "markdown",
      "metadata": {
        "id": "jEH40_497IFo"
      },
      "source": [
        "## Sample"
      ]
    },
    {
      "cell_type": "code",
      "metadata": {
        "ExecuteTime": {
          "end_time": "2018-05-15T21:59:40.020837Z",
          "start_time": "2018-05-15T21:59:39.985755Z"
        },
        "id": "1npuxwEF7IFo",
        "outputId": "67cd3a9b-dd92-4b8d-b93d-c948769bda8d"
      },
      "source": [
        "sampler = super_model.setup_sampler(resume=False, outdir=outDir, sample_nmodel=True,\n",
        "                                    empirical_distr='12yr_emp_dist_RNonly_py3.pkl')"
      ],
      "execution_count": null,
      "outputs": [
        {
          "output_type": "stream",
          "text": [
            "Adding empirical proposals...\n",
            "\n",
            "Adding red noise prior draws...\n",
            "\n",
            "Adding GWB uniform distribution draws...\n",
            "\n",
            "Adding gw param prior draws...\n",
            "\n",
            "Adding nmodel uniform distribution draws...\n",
            "\n"
          ],
          "name": "stdout"
        }
      ]
    },
    {
      "cell_type": "code",
      "metadata": {
        "ExecuteTime": {
          "end_time": "2018-05-15T21:59:40.335389Z",
          "start_time": "2018-05-15T21:59:40.301829Z"
        },
        "id": "EcXbqBHW7IFo"
      },
      "source": [
        "# This will take about an hour to sample\n",
        "# To sample it properly will take 10+ hours\n",
        "# sampler for N steps\n",
        "N = int(1e5)  # 5e6 is a good number for a real analysis\n",
        "x0 = super_model.initial_sample()"
      ],
      "execution_count": null,
      "outputs": []
    },
    {
      "cell_type": "code",
      "metadata": {
        "ExecuteTime": {
          "end_time": "2018-05-15T22:07:38.858293Z",
          "start_time": "2018-05-15T21:59:41.689205Z"
        },
        "id": "AKyYJUN_7IFo",
        "outputId": "cd567beb-fbf5-4c1b-b3e3-671a5cbe960a"
      },
      "source": [
        "# sample\n",
        "sampler.sample(x0, N, SCAMweight=30, AMweight=15, DEweight=50, )"
      ],
      "execution_count": null,
      "outputs": [
        {
          "output_type": "stream",
          "text": [
            "Finished 10.00 percent in 343.841274 s Acceptance rate = 0.5129Adding DE jump with weight 50\n",
            "Finished 99.00 percent in 3256.694114 s Acceptance rate = 0.505404\n",
            "Run Complete\n"
          ],
          "name": "stdout"
        }
      ]
    },
    {
      "cell_type": "markdown",
      "metadata": {
        "id": "ukvtjVd27IFo"
      },
      "source": [
        "## Post-process"
      ]
    },
    {
      "cell_type": "code",
      "metadata": {
        "ExecuteTime": {
          "end_time": "2018-05-15T22:07:42.274771Z",
          "start_time": "2018-05-15T22:07:41.979583Z"
        },
        "id": "_raoQK9H7IFp"
      },
      "source": [
        "chain = np.loadtxt(outDir + '/chain_1.txt')\n",
        "burn = int(0.25*chain.shape[0])\n",
        "pars = np.loadtxt(outDir + '/pars.txt', dtype=np.unicode_)\n",
        "\n",
        "pp = model_utils.PostProcessing(chain, pars)"
      ],
      "execution_count": null,
      "outputs": []
    },
    {
      "cell_type": "code",
      "metadata": {
        "id": "j5OSwSQ87IFp",
        "outputId": "2efc3dda-c50e-464d-e023-632e3f088061"
      },
      "source": [
        "# Make trace-plot to diagnose sampling\n",
        "ind_model = list(pars).index('nmodel')\n",
        "plt.plot(chain[:, ind_model])"
      ],
      "execution_count": null,
      "outputs": [
        {
          "output_type": "execute_result",
          "data": {
            "text/plain": [
              "[<matplotlib.lines.Line2D at 0x7fbf5d993110>]"
            ]
          },
          "metadata": {
            "tags": []
          },
          "execution_count": 46
        },
        {
          "output_type": "display_data",
          "data": {
            "text/plain": [
              "<Figure size 432x288 with 1 Axes>"
            ],
            "image/png": "[encoded data removed]"
          },
          "metadata": {
            "tags": [],
            "image/png": {
              "width": 390,
              "height": 248
            },
            "needs_background": "light"
          }
        }
      ]
    },
    {
      "cell_type": "code",
      "metadata": {
        "id": "8gpS2Xek7IFp",
        "outputId": "f59c4aef-d3c7-4b28-d92e-bdab503ee047"
      },
      "source": [
        "print(pars)"
      ],
      "execution_count": null,
      "outputs": [
        {
          "output_type": "stream",
          "text": [
            "['B1855+09_red_noise_gamma' 'B1855+09_red_noise_log10_A'\n",
            " 'B1937+21_red_noise_gamma' 'B1937+21_red_noise_log10_A'\n",
            " 'J0030+0451_red_noise_gamma' 'J0030+0451_red_noise_log10_A'\n",
            " 'J0613-0200_red_noise_gamma' 'J0613-0200_red_noise_log10_A'\n",
            " 'J0645+5158_red_noise_gamma' 'J0645+5158_red_noise_log10_A'\n",
            " 'J1012+5307_red_noise_gamma' 'J1012+5307_red_noise_log10_A'\n",
            " 'J1024-0719_red_noise_gamma' 'J1024-0719_red_noise_log10_A'\n",
            " 'J1455-3330_red_noise_gamma' 'J1455-3330_red_noise_log10_A'\n",
            " 'J1600-3053_red_noise_gamma' 'J1600-3053_red_noise_log10_A'\n",
            " 'J1614-2230_red_noise_gamma' 'J1614-2230_red_noise_log10_A'\n",
            " 'J1640+2224_red_noise_gamma' 'J1640+2224_red_noise_log10_A'\n",
            " 'J1643-1224_red_noise_gamma' 'J1643-1224_red_noise_log10_A'\n",
            " 'J1713+0747_red_noise_gamma' 'J1713+0747_red_noise_log10_A'\n",
            " 'J1738+0333_red_noise_gamma' 'J1738+0333_red_noise_log10_A'\n",
            " 'J1744-1134_red_noise_gamma' 'J1744-1134_red_noise_log10_A'\n",
            " 'J1903+0327_red_noise_gamma' 'J1903+0327_red_noise_log10_A'\n",
            " 'J1909-3744_red_noise_gamma' 'J1909-3744_red_noise_log10_A'\n",
            " 'J1910+1256_red_noise_gamma' 'J1910+1256_red_noise_log10_A'\n",
            " 'J1918-0642_red_noise_gamma' 'J1918-0642_red_noise_log10_A'\n",
            " 'J1944+0907_red_noise_gamma' 'J1944+0907_red_noise_log10_A'\n",
            " 'J2010-1323_red_noise_gamma' 'J2010-1323_red_noise_log10_A'\n",
            " 'J2145-0750_red_noise_gamma' 'J2145-0750_red_noise_log10_A'\n",
            " 'J2317+1439_red_noise_gamma' 'J2317+1439_red_noise_log10_A' 'gw_log10_A'\n",
            " 'nmodel']\n"
          ],
          "name": "stdout"
        }
      ]
    },
    {
      "cell_type": "code",
      "metadata": {
        "ExecuteTime": {
          "end_time": "2018-05-15T22:07:44.047020Z",
          "start_time": "2018-05-15T22:07:43.807128Z"
        },
        "id": "q_REz3w37IFp",
        "outputId": "796b05c0-a43b-4f2c-bed0-1603d3044d21"
      },
      "source": [
        "# Plot histgram for GW amplitude\n",
        "chain_burn = chain[burn:,:]\n",
        "\n",
        "ind_model = list(pars).index('nmodel')\n",
        "ind_gwamp = list(pars).index('gw_log10_A')\n",
        "\n",
        "# ORF = None\n",
        "#plt.hist(chain_burn[chain_burn[:, ind_model] < 0.5, ind_gwamp], bins=40);\n",
        "\n",
        "# ORF = Hellings & Downs\n",
        "plt.hist(chain_burn[chain_burn[:, ind_model] > 0.5, ind_gwamp], bins=40);"
      ],
      "execution_count": null,
      "outputs": [
        {
          "output_type": "display_data",
          "data": {
            "text/plain": [
              "<Figure size 432x288 with 1 Axes>"
            ],
            "image/png": "[encoded data removed]"
          },
          "metadata": {
            "tags": [],
            "image/png": {
              "width": 375,
              "height": 248
            },
            "needs_background": "light"
          }
        }
      ]
    },
    {
      "cell_type": "code",
      "metadata": {
        "ExecuteTime": {
          "end_time": "2018-05-15T22:07:46.481391Z",
          "start_time": "2018-05-15T22:07:46.244859Z"
        },
        "id": "xzqd1RUl7IFp",
        "outputId": "91fb5321-d254-461b-b378-2cd1dea07b7b"
      },
      "source": [
        "# Plot histogram for GWB model selection\n",
        "# This will tell us how much we have sampled for each model\n",
        "plt.hist(chain_burn[:, ind_model], bins=40);"
      ],
      "execution_count": null,
      "outputs": [
        {
          "output_type": "display_data",
          "data": {
            "text/plain": [
              "<Figure size 432x288 with 1 Axes>"
            ],
            "image/png": "[encoded data removed]"
          },
          "metadata": {
            "tags": [],
            "image/png": {
              "width": 375,
              "height": 248
            },
            "needs_background": "light"
          }
        }
      ]
    },
    {
      "cell_type": "markdown",
      "metadata": {
        "id": "k04HGrnW7IFq"
      },
      "source": [
        "### Hypermodel\n",
        "* The hypermodel overwhelmingly favors the second model (nmodel > 0.5)\n",
        "* We even weighted the first model by a factor of 10\n",
        "* Ideally we would sample for longer and hopefully get some more samples in nmodel < 0.5"
      ]
    },
    {
      "cell_type": "markdown",
      "metadata": {
        "id": "m5f_fhq07IFq"
      },
      "source": [
        "### Posterior odds ratio\n",
        "\n",
        "* This gives the Bayesian odds between a model with no red process between pulsars (`model_1`), and a common (but uncorrelated) red process between pulsars (`model_2a`).\n",
        "* This will tell us if the pulsars prefer a common red noise term over no common term, but it will not tell us if this is the GWB.\n",
        "* We will return to this in the next section to compare between a common (uncorrelated) red noise term and a red noise term with Hellings and Downs (HD) correlations.\n",
        "* HD correlations would indicate that the common signal is a gravitational wave background.\n",
        "* The Bayes Factor here indicates that there is **strong** evidence for a common red noise signal among pulsars"
      ]
    },
    {
      "cell_type": "code",
      "metadata": {
        "ExecuteTime": {
          "end_time": "2018-05-15T22:08:40.590729Z",
          "start_time": "2018-05-15T22:08:40.559995Z"
        },
        "id": "LR-Ek7ii7IFq",
        "outputId": "cee2b1b2-6e13-40fa-b940-b3fb2aa76290"
      },
      "source": [
        "# The first number is the Bayes factor (BF) and the second number is the uncertainty on the BF\n",
        "bf, unc = model_utils.odds_ratio(chain_burn[:, ind_model], models=[0,1])\n",
        "print(bf, unc)"
      ],
      "execution_count": null,
      "outputs": [
        {
          "output_type": "stream",
          "text": [
            "494.0 686.8551521245219\n"
          ],
          "name": "stdout"
        }
      ]
    },
    {
      "cell_type": "code",
      "metadata": {
        "id": "6v8MOqIy7IFq",
        "outputId": "e086eac7-f4d5-49f4-8ace-e35b944452f5"
      },
      "source": [
        "log10bf = np.log10(bf*10)  # we multiply by 10 to undo the weight\n",
        "print(log10bf)"
      ],
      "execution_count": null,
      "outputs": [
        {
          "output_type": "stream",
          "text": [
            "3.693726948923647\n"
          ],
          "name": "stdout"
        }
      ]
    },
    {
      "cell_type": "markdown",
      "metadata": {
        "id": "CHhr67Lw7IFq"
      },
      "source": [
        "* Note that this Bayes factor is still a little low compared to the value found in the paper\n",
        "* With more pulsars in the data set, we could recover the full log10BF of 4.5 for the `DE438` ephemeris."
      ]
    },
    {
      "cell_type": "markdown",
      "metadata": {
        "id": "OSTgdBs07IFq"
      },
      "source": [
        "# Reproducing figures from 12.5 year stochastic paper"
      ]
    },
    {
      "cell_type": "markdown",
      "metadata": {
        "id": "GggJBbeF7IFq"
      },
      "source": [
        "## Download data from 12.5 year stochastic paper"
      ]
    },
    {
      "cell_type": "code",
      "metadata": {
        "id": "mk4XKBuQ7IFq",
        "outputId": "e739b2c7-4ac6-463d-ce13-34e6b398e3d6"
      },
      "source": [
        "# temporary method for installing chain files\n",
        "!pip install gdown"
      ],
      "execution_count": null,
      "outputs": [
        {
          "output_type": "stream",
          "text": [
            "Collecting gdown\n",
            "  Downloading gdown-3.12.2.tar.gz (8.2 kB)\n",
            "  Installing build dependencies ... \u001b[?25ldone\n",
            "\u001b[?25h  Getting requirements to build wheel ... \u001b[?25ldone\n",
            "\u001b[?25h    Preparing wheel metadata ... \u001b[?25ldone\n",
            "\u001b[?25hCollecting filelock\n",
            "  Downloading filelock-3.0.12-py3-none-any.whl (7.6 kB)\n",
            "Requirement already satisfied: six in /Users/aaron/opt/miniconda3/lib/python3.8/site-packages (from gdown) (1.15.0)\n",
            "Requirement already satisfied: requests[socks] in /Users/aaron/opt/miniconda3/lib/python3.8/site-packages (from gdown) (2.24.0)\n",
            "Requirement already satisfied: tqdm in /Users/aaron/opt/miniconda3/lib/python3.8/site-packages (from gdown) (4.51.0)\n",
            "Requirement already satisfied: urllib3!=1.25.0,!=1.25.1,<1.26,>=1.21.1 in /Users/aaron/opt/miniconda3/lib/python3.8/site-packages (from requests[socks]->gdown) (1.25.11)\n",
            "Requirement already satisfied: chardet<4,>=3.0.2 in /Users/aaron/opt/miniconda3/lib/python3.8/site-packages (from requests[socks]->gdown) (3.0.4)\n",
            "Requirement already satisfied: certifi>=2017.4.17 in /Users/aaron/opt/miniconda3/lib/python3.8/site-packages (from requests[socks]->gdown) (2020.6.20)\n",
            "Requirement already satisfied: idna<3,>=2.5 in /Users/aaron/opt/miniconda3/lib/python3.8/site-packages (from requests[socks]->gdown) (2.10)\n",
            "Requirement already satisfied: PySocks!=1.5.7,>=1.5.6; extra == \"socks\" in /Users/aaron/opt/miniconda3/lib/python3.8/site-packages (from requests[socks]->gdown) (1.7.1)\n",
            "Building wheels for collected packages: gdown\n",
            "  Building wheel for gdown (PEP 517) ... \u001b[?25ldone\n",
            "\u001b[?25h  Created wheel for gdown: filename=gdown-3.12.2-py3-none-any.whl size=9681 sha256=530a577082ee524eb22ab9ba7180c44833af5032ce624bab4e85ecf4bf31ec50\n",
            "  Stored in directory: /Users/aaron/Library/Caches/pip/wheels/e2/62/1e/926d1ebe7b1e733c78d627fd288d01b83feaf67efc06e0e4c3\n",
            "Successfully built gdown\n",
            "Installing collected packages: filelock, gdown\n",
            "Successfully installed filelock-3.0.12 gdown-3.12.2\n"
          ],
          "name": "stdout"
        }
      ]
    },
    {
      "cell_type": "code",
      "metadata": {
        "id": "mgZsJTzS7IFq"
      },
      "source": [
        "dldir = '../downloaded_chains/'\n",
        "if not os.path.exists(dldir):\n",
        "    os.makedirs(dldir)"
      ],
      "execution_count": null,
      "outputs": []
    },
    {
      "cell_type": "code",
      "metadata": {
        "id": "0dfzBO3s7IFq",
        "outputId": "4c58ca95-6b26-4032-bcdb-f46b30a60d95"
      },
      "source": [
        "!gdown --id 1G0I029nqM9r9Tp5syNErnzlvf9NG34zO -O '../downloaded_chains/12p5yr_DE438_model2a_cRN5freq_gammaFixed4.33_chain.gz'\n",
        "!gdown --id 1KSk6eo5UWs_bqqQFECp8DqdWwASQk4w- -O '../downloaded_chains/12p5yr_DE438_model2a_cRN5freq_gammaVary_chain.gz'\n",
        "!gdown --id 1hwIWPXXG1tIAe7OBTNBRLcMIswiKdxLq -O '../downloaded_chains/12p5yr_DE438_model2a_cRN30freq_gammaVary_chain.gz'\n",
        "!gdown --id 1sy349w0xlnYvforOyPySz8U61ix6SyVQ -O '../downloaded_chains/12p5yr_DE438_model2a_PSDbrokenplaw_gammaVary_chain.gz'\n",
        "!gdown --id 1wRge1E41-aoug2CZaLUZOUQMZuYEzUTc -O '../downloaded_chains/12p5yr_DE438_model2a_PSDspectrum_chain.gz'\n",
        "!gdown --id 1ZOh5qEuThewtZTFtsfvkYMIOidijaShl -O '../downloaded_chains/12p5yr_DE438wBayesEphem_model2a_cRN5freq_gammaFixed4.33_chain.gz'\n",
        "!gdown --id 1dr-2v2lau2CITECv-ahwQkBrsB6pJzJQ -O '../downloaded_chains/12p5yr_INPOP19_model2a_cRN5freq_gammaFixed4.33_chain.gz'\n",
        "!gdown --id 1jZyAYUx2qOBfBxXPvcxvGCPThFY8Txtl -O '../downloaded_chains/12p5yr_INPOP19wBayesEphem_model2a_cRN5freq_gammaFixed4.33_chain.gz'\n",
        "!gdown --id 1dzTWzc5ozMiVnXB0M8kz4T00m1jxkt0l -O '../downloaded_chains/12p5yr_DE438_model2a_PSDbrokenplaw_gammaVary_pars.txt'\n",
        "!gdown --id 13QxU8ijjnY9YtoCebZpDhfC7k_DrePxX -O '../downloaded_chains/12p5yr_DE438wBayesEphem_model2a_cRN5freq_gammaFixed4.33_pars.txt'\n",
        "!gdown --id 12pjntRjJQvL8N0CXCVyGupLV6ARIXPOr -O '../downloaded_chains/12p5yr_DE438_model2a_cRN5freq_gammaFixed4.33_pars.txt'"
      ],
      "execution_count": null,
      "outputs": [
        {
          "output_type": "stream",
          "text": [
            "Downloading...\n",
            "From: https://drive.google.com/uc?id=1G0I029nqM9r9Tp5syNErnzlvf9NG34zO\n",
            "To: /Users/aaron/Documents/GitHub/12p5yr_stochastic_analysis/downloaded_chains/12p5yr_DE438_model2a_cRN5freq_gammaFixed4.33_chain.gz\n",
            "187MB [00:02, 73.3MB/s]\n",
            "Downloading...\n",
            "From: https://drive.google.com/uc?id=1KSk6eo5UWs_bqqQFECp8DqdWwASQk4w-\n",
            "To: /Users/aaron/Documents/GitHub/12p5yr_stochastic_analysis/downloaded_chains/12p5yr_DE438_model2a_cRN5freq_gammaVary_chain.gz\n",
            "135MB [00:02, 64.6MB/s]\n",
            "Downloading...\n",
            "From: https://drive.google.com/uc?id=1hwIWPXXG1tIAe7OBTNBRLcMIswiKdxLq\n",
            "To: /Users/aaron/Documents/GitHub/12p5yr_stochastic_analysis/downloaded_chains/12p5yr_DE438_model2a_cRN30freq_gammaVary_chain.gz\n",
            "155MB [00:02, 62.8MB/s]\n",
            "Downloading...\n",
            "From: https://drive.google.com/uc?id=1sy349w0xlnYvforOyPySz8U61ix6SyVQ\n",
            "To: /Users/aaron/Documents/GitHub/12p5yr_stochastic_analysis/downloaded_chains/12p5yr_DE438_model2a_PSDbrokenplaw_gammaVary_chain.gz\n",
            "173MB [00:02, 66.6MB/s]\n",
            "Downloading...\n",
            "From: https://drive.google.com/uc?id=1wRge1E41-aoug2CZaLUZOUQMZuYEzUTc\n",
            "To: /Users/aaron/Documents/GitHub/12p5yr_stochastic_analysis/downloaded_chains/12p5yr_DE438_model2a_PSDspectrum_chain.gz\n",
            "226MB [00:03, 66.4MB/s]\n",
            "Downloading...\n",
            "From: https://drive.google.com/uc?id=1ZOh5qEuThewtZTFtsfvkYMIOidijaShl\n",
            "To: /Users/aaron/Documents/GitHub/12p5yr_stochastic_analysis/downloaded_chains/12p5yr_DE438wBayesEphem_model2a_cRN5freq_gammaFixed4.33_chain.gz\n",
            "293MB [00:04, 66.2MB/s]\n",
            "Downloading...\n",
            "From: https://drive.google.com/uc?id=1dr-2v2lau2CITECv-ahwQkBrsB6pJzJQ\n",
            "To: /Users/aaron/Documents/GitHub/12p5yr_stochastic_analysis/downloaded_chains/12p5yr_INPOP19_model2a_cRN5freq_gammaFixed4.33_chain.gz\n",
            "101MB [00:01, 70.5MB/s] \n",
            "Downloading...\n",
            "From: https://drive.google.com/uc?id=1jZyAYUx2qOBfBxXPvcxvGCPThFY8Txtl\n",
            "To: /Users/aaron/Documents/GitHub/12p5yr_stochastic_analysis/downloaded_chains/12p5yr_INPOP19wBayesEphem_model2a_cRN5freq_gammaFixed4.33_chain.gz\n",
            "111MB [00:01, 70.9MB/s]\n",
            "Downloading...\n",
            "From: https://drive.google.com/uc?id=1dzTWzc5ozMiVnXB0M8kz4T00m1jxkt0l\n",
            "To: /Users/aaron/Documents/GitHub/12p5yr_stochastic_analysis/downloaded_chains/12p5yr_DE438_model2a_PSDbrokenplaw_gammaVary_pars.txt\n",
            "100%|██████████████████████████████████████| 2.54k/2.54k [00:00<00:00, 4.16MB/s]\n",
            "Downloading...\n",
            "From: https://drive.google.com/uc?id=13QxU8ijjnY9YtoCebZpDhfC7k_DrePxX\n",
            "To: /Users/aaron/Documents/GitHub/12p5yr_stochastic_analysis/downloaded_chains/12p5yr_DE438wBayesEphem_model2a_cRN5freq_gammaFixed4.33_pars.txt\n",
            "100%|██████████████████████████████████████| 2.71k/2.71k [00:00<00:00, 4.20MB/s]\n",
            "Downloading...\n",
            "From: https://drive.google.com/uc?id=12pjntRjJQvL8N0CXCVyGupLV6ARIXPOr\n",
            "To: /Users/aaron/Documents/GitHub/12p5yr_stochastic_analysis/downloaded_chains/12p5yr_DE438_model2a_cRN5freq_gammaFixed4.33_pars.txt\n",
            "100%|██████████████████████████████████████| 2.52k/2.52k [00:00<00:00, 3.47MB/s]\n"
          ],
          "name": "stdout"
        }
      ]
    },
    {
      "cell_type": "markdown",
      "metadata": {
        "id": "Luc8mtyk7IFq"
      },
      "source": [
        "## Figure 3\n",
        "\n",
        "* In the last section we showed that there is strong evidence for a common-amplitude process which is the first arrow on Figure 3.\n",
        "* In the first part of this section, we want to revisit this result and consider a process with HD correlations vs. the uncorrelated signal."
      ]
    },
    {
      "cell_type": "code",
      "metadata": {
        "tags": [
          "outputPrepend"
        ],
        "id": "NdBgF2M07IFq",
        "outputId": "714cc08f-c034-4585-dc12-f800e8365f0f"
      },
      "source": [
        "nmodels = 2\n",
        "mod_index = np.arange(nmodels)\n",
        "\n",
        "# Make dictionary of PTAs.\n",
        "pta = dict.fromkeys(mod_index)\n",
        "pta[0] = models.model_2a(psrs, psd='powerlaw', noisedict=params, components=30,\n",
        "             n_rnfreqs = None, n_gwbfreqs=None, gamma_common=None,\n",
        "             delta_common=None, upper_limit=False, bayesephem=False,\n",
        "             be_type='orbel', white_vary=False, is_wideband=False,\n",
        "             use_dmdata=False, select='backend',\n",
        "             pshift=False, pseed=None, psr_models=False)\n",
        "pta[1] = models.model_3a(psrs, psd='powerlaw', noisedict=params, white_vary=False,\n",
        "             components=30, n_rnfreqs = None, n_gwbfreqs=None,\n",
        "             gamma_common=None, delta_common=None, upper_limit=False,\n",
        "             bayesephem=False, be_type='orbel', is_wideband=False,\n",
        "             use_dmdata=False, select='backend',\n",
        "             correlationsonly=False,\n",
        "             pshift=False, pseed=None, psr_models=False)"
      ],
      "execution_count": null,
      "outputs": [
        {
          "output_type": "stream",
          "text": [
            "orr to -7.629255580321534\n",
            "INFO: enterprise.signals.signal_base: Setting J1455-3330_Rcvr_800_GASP_log10_ecorr to -7.085458304995403\n",
            "INFO: enterprise.signals.signal_base: Setting J1455-3330_Rcvr_800_GUPPI_log10_ecorr to -6.526567653068877\n",
            "INFO: enterprise.signals.signal_base: Setting J1600-3053_Rcvr1_2_GASP_efac to 1.134993789980654\n",
            "INFO: enterprise.signals.signal_base: Setting J1600-3053_Rcvr1_2_GUPPI_efac to 1.0521556985294778\n",
            "INFO: enterprise.signals.signal_base: Setting J1600-3053_Rcvr_800_GASP_efac to 1.1935927243559799\n",
            "INFO: enterprise.signals.signal_base: Setting J1600-3053_Rcvr_800_GUPPI_efac to 1.120996265055496\n",
            "INFO: enterprise.signals.signal_base: Setting J1600-3053_Rcvr1_2_GASP_log10_equad to -6.960586084616913\n",
            "INFO: enterprise.signals.signal_base: Setting J1600-3053_Rcvr1_2_GUPPI_log10_equad to -7.761043891506745\n",
            "INFO: enterprise.signals.signal_base: Setting J1600-3053_Rcvr_800_GASP_log10_equad to -7.311693997685966\n",
            "INFO: enterprise.signals.signal_base: Setting J1600-3053_Rcvr_800_GUPPI_log10_equad to -7.374528725467375\n",
            "INFO: enterprise.signals.signal_base: Setting J1600-3053_Rcvr1_2_GASP_log10_ecorr to -7.134558712552095\n",
            "INFO: enterprise.signals.signal_base: Setting J1600-3053_Rcvr1_2_GUPPI_log10_ecorr to -6.899208552923536\n",
            "INFO: enterprise.signals.signal_base: Setting J1600-3053_Rcvr_800_GASP_log10_ecorr to -7.407293847566683\n",
            "INFO: enterprise.signals.signal_base: Setting J1600-3053_Rcvr_800_GUPPI_log10_ecorr to -6.288542964735563\n",
            "INFO: enterprise.signals.signal_base: Setting J1614-2230_Rcvr1_2_GASP_efac to 1.1369056644435913\n",
            "INFO: enterprise.signals.signal_base: Setting J1614-2230_Rcvr1_2_GUPPI_efac to 1.0636501302858106\n",
            "INFO: enterprise.signals.signal_base: Setting J1614-2230_Rcvr_800_GASP_efac to 0.9178765720365575\n",
            "INFO: enterprise.signals.signal_base: Setting J1614-2230_Rcvr_800_GUPPI_efac to 1.0115241685032286\n",
            "INFO: enterprise.signals.signal_base: Setting J1614-2230_Rcvr1_2_GASP_log10_equad to -7.32067533880299\n",
            "INFO: enterprise.signals.signal_base: Setting J1614-2230_Rcvr1_2_GUPPI_log10_equad to -7.784678758801305\n",
            "INFO: enterprise.signals.signal_base: Setting J1614-2230_Rcvr_800_GASP_log10_equad to -7.2577825388006305\n",
            "INFO: enterprise.signals.signal_base: Setting J1614-2230_Rcvr_800_GUPPI_log10_equad to -7.627864180562532\n",
            "INFO: enterprise.signals.signal_base: Setting J1614-2230_Rcvr1_2_GASP_log10_ecorr to -7.448625358285439\n",
            "INFO: enterprise.signals.signal_base: Setting J1614-2230_Rcvr1_2_GUPPI_log10_ecorr to -7.655859629011535\n",
            "INFO: enterprise.signals.signal_base: Setting J1614-2230_Rcvr_800_GASP_log10_ecorr to -7.299611199085039\n",
            "INFO: enterprise.signals.signal_base: Setting J1614-2230_Rcvr_800_GUPPI_log10_ecorr to -7.4080289590963355\n",
            "INFO: enterprise.signals.signal_base: Setting J1640+2224_430_ASP_efac to 1.143081359459332\n",
            "INFO: enterprise.signals.signal_base: Setting J1640+2224_430_PUPPI_efac to 1.0573767076899483\n",
            "INFO: enterprise.signals.signal_base: Setting J1640+2224_L-wide_ASP_efac to 1.06394287552814\n",
            "INFO: enterprise.signals.signal_base: Setting J1640+2224_L-wide_PUPPI_efac to 1.1457585235526273\n",
            "INFO: enterprise.signals.signal_base: Setting J1640+2224_430_ASP_log10_equad to -6.240784825369144\n",
            "INFO: enterprise.signals.signal_base: Setting J1640+2224_430_PUPPI_log10_equad to -6.9445789284154085\n",
            "INFO: enterprise.signals.signal_base: Setting J1640+2224_L-wide_ASP_log10_equad to -7.649274979312211\n",
            "INFO: enterprise.signals.signal_base: Setting J1640+2224_L-wide_PUPPI_log10_equad to -8.075008065199082\n",
            "INFO: enterprise.signals.signal_base: Setting J1640+2224_430_ASP_log10_ecorr to -7.788811673814794\n",
            "INFO: enterprise.signals.signal_base: Setting J1640+2224_430_PUPPI_log10_ecorr to -6.901622491949263\n",
            "INFO: enterprise.signals.signal_base: Setting J1640+2224_L-wide_ASP_log10_ecorr to -6.275572665649051\n",
            "INFO: enterprise.signals.signal_base: Setting J1640+2224_L-wide_PUPPI_log10_ecorr to -6.4079933035010095\n",
            "INFO: enterprise.signals.signal_base: Setting J1643-1224_Rcvr1_2_GASP_efac to 1.0071858015273707\n",
            "INFO: enterprise.signals.signal_base: Setting J1643-1224_Rcvr1_2_GUPPI_efac to 1.1247022811624827\n",
            "INFO: enterprise.signals.signal_base: Setting J1643-1224_Rcvr_800_GASP_efac to 1.493816799359807\n",
            "INFO: enterprise.signals.signal_base: Setting J1643-1224_Rcvr_800_GUPPI_efac to 1.1921609687505945\n",
            "INFO: enterprise.signals.signal_base: Setting J1643-1224_Rcvr1_2_GASP_log10_equad to -7.277156122921472\n",
            "INFO: enterprise.signals.signal_base: Setting J1643-1224_Rcvr1_2_GUPPI_log10_equad to -7.138128067645691\n",
            "INFO: enterprise.signals.signal_base: Setting J1643-1224_Rcvr_800_GASP_log10_equad to -7.115627957850879\n",
            "INFO: enterprise.signals.signal_base: Setting J1643-1224_Rcvr_800_GUPPI_log10_equad to -5.9780473533853655\n",
            "INFO: enterprise.signals.signal_base: Setting J1643-1224_Rcvr1_2_GASP_log10_ecorr to -7.503311141343279\n",
            "INFO: enterprise.signals.signal_base: Setting J1643-1224_Rcvr1_2_GUPPI_log10_ecorr to -6.042898081068246\n",
            "INFO: enterprise.signals.signal_base: Setting J1643-1224_Rcvr_800_GASP_log10_ecorr to -6.822037374515338\n",
            "INFO: enterprise.signals.signal_base: Setting J1643-1224_Rcvr_800_GUPPI_log10_ecorr to -5.544475232494147\n",
            "INFO: enterprise.signals.signal_base: Setting J1713+0747_L-wide_ASP_efac to 1.0524302344416032\n",
            "INFO: enterprise.signals.signal_base: Setting J1713+0747_L-wide_PUPPI_efac to 0.9796026604137508\n",
            "INFO: enterprise.signals.signal_base: Setting J1713+0747_Rcvr1_2_GASP_efac to 1.084307149708116\n",
            "INFO: enterprise.signals.signal_base: Setting J1713+0747_Rcvr1_2_GUPPI_efac to 1.017213088587959\n",
            "INFO: enterprise.signals.signal_base: Setting J1713+0747_Rcvr_800_GASP_efac to 1.117529091199639\n",
            "INFO: enterprise.signals.signal_base: Setting J1713+0747_Rcvr_800_GUPPI_efac to 1.0500383710337968\n",
            "INFO: enterprise.signals.signal_base: Setting J1713+0747_S-wide_ASP_efac to 1.1139598766607257\n",
            "INFO: enterprise.signals.signal_base: Setting J1713+0747_S-wide_PUPPI_efac to 1.0889710082237398\n",
            "INFO: enterprise.signals.signal_base: Setting J1713+0747_L-wide_ASP_log10_equad to -7.58206720746206\n",
            "INFO: enterprise.signals.signal_base: Setting J1713+0747_L-wide_PUPPI_log10_equad to -8.377098873197399\n",
            "INFO: enterprise.signals.signal_base: Setting J1713+0747_Rcvr1_2_GASP_log10_equad to -7.423897862687164\n",
            "INFO: enterprise.signals.signal_base: Setting J1713+0747_Rcvr1_2_GUPPI_log10_equad to -8.357193830632392\n",
            "INFO: enterprise.signals.signal_base: Setting J1713+0747_Rcvr_800_GASP_log10_equad to -7.251839650442933\n",
            "INFO: enterprise.signals.signal_base: Setting J1713+0747_Rcvr_800_GUPPI_log10_equad to -7.614933520652966\n",
            "INFO: enterprise.signals.signal_base: Setting J1713+0747_S-wide_ASP_log10_equad to -8.027710747783962\n",
            "INFO: enterprise.signals.signal_base: Setting J1713+0747_S-wide_PUPPI_log10_equad to -8.186781270775445\n",
            "INFO: enterprise.signals.signal_base: Setting J1713+0747_L-wide_ASP_log10_ecorr to -7.029000061406403\n",
            "INFO: enterprise.signals.signal_base: Setting J1713+0747_L-wide_PUPPI_log10_ecorr to -7.142663306094692\n",
            "INFO: enterprise.signals.signal_base: Setting J1713+0747_Rcvr1_2_GASP_log10_ecorr to -7.299970815145262\n",
            "INFO: enterprise.signals.signal_base: Setting J1713+0747_Rcvr1_2_GUPPI_log10_ecorr to -7.131010248150742\n",
            "INFO: enterprise.signals.signal_base: Setting J1713+0747_Rcvr_800_GASP_log10_ecorr to -7.788837849013025\n",
            "INFO: enterprise.signals.signal_base: Setting J1713+0747_Rcvr_800_GUPPI_log10_ecorr to -6.730867845961182\n",
            "INFO: enterprise.signals.signal_base: Setting J1713+0747_S-wide_ASP_log10_ecorr to -6.876597410265874\n",
            "INFO: enterprise.signals.signal_base: Setting J1713+0747_S-wide_PUPPI_log10_ecorr to -7.305157969602163\n",
            "INFO: enterprise.signals.signal_base: Setting J1738+0333_L-wide_ASP_efac to 1.1479069042742471\n",
            "INFO: enterprise.signals.signal_base: Setting J1738+0333_L-wide_PUPPI_efac to 1.0710506604701162\n",
            "INFO: enterprise.signals.signal_base: Setting J1738+0333_S-wide_ASP_efac to 0.9465373677964157\n",
            "INFO: enterprise.signals.signal_base: Setting J1738+0333_S-wide_PUPPI_efac to 0.8845264245078953\n",
            "INFO: enterprise.signals.signal_base: Setting J1738+0333_L-wide_ASP_log10_equad to -7.579720669663646\n",
            "INFO: enterprise.signals.signal_base: Setting J1738+0333_L-wide_PUPPI_log10_equad to -7.886362963443982\n",
            "INFO: enterprise.signals.signal_base: Setting J1738+0333_S-wide_ASP_log10_equad to -7.565578005221636\n",
            "INFO: enterprise.signals.signal_base: Setting J1738+0333_S-wide_PUPPI_log10_equad to -7.767394128812992\n",
            "INFO: enterprise.signals.signal_base: Setting J1738+0333_L-wide_ASP_log10_ecorr to -7.060532309258772\n",
            "INFO: enterprise.signals.signal_base: Setting J1738+0333_L-wide_PUPPI_log10_ecorr to -7.019786250261518\n",
            "INFO: enterprise.signals.signal_base: Setting J1738+0333_S-wide_ASP_log10_ecorr to -7.381958762803754\n",
            "INFO: enterprise.signals.signal_base: Setting J1738+0333_S-wide_PUPPI_log10_ecorr to -7.7411812625497936\n",
            "INFO: enterprise.signals.signal_base: Setting J1744-1134_Rcvr1_2_GASP_efac to 0.9978514871735024\n",
            "INFO: enterprise.signals.signal_base: Setting J1744-1134_Rcvr1_2_GUPPI_efac to 1.053362947622705\n",
            "INFO: enterprise.signals.signal_base: Setting J1744-1134_Rcvr_800_GASP_efac to 1.1285830055400954\n",
            "INFO: enterprise.signals.signal_base: Setting J1744-1134_Rcvr_800_GUPPI_efac to 1.0350590534568576\n",
            "INFO: enterprise.signals.signal_base: Setting J1744-1134_Rcvr1_2_GASP_log10_equad to -6.381411751584569\n",
            "INFO: enterprise.signals.signal_base: Setting J1744-1134_Rcvr1_2_GUPPI_log10_equad to -7.003305288540264\n",
            "INFO: enterprise.signals.signal_base: Setting J1744-1134_Rcvr_800_GASP_log10_equad to -6.4572271715342175\n",
            "INFO: enterprise.signals.signal_base: Setting J1744-1134_Rcvr_800_GUPPI_log10_equad to -6.613992229078914\n",
            "INFO: enterprise.signals.signal_base: Setting J1744-1134_Rcvr1_2_GASP_log10_ecorr to -6.292180076314258\n",
            "INFO: enterprise.signals.signal_base: Setting J1744-1134_Rcvr1_2_GUPPI_log10_ecorr to -6.537490178263718\n",
            "INFO: enterprise.signals.signal_base: Setting J1744-1134_Rcvr_800_GASP_log10_ecorr to -6.61724561091565\n",
            "INFO: enterprise.signals.signal_base: Setting J1744-1134_Rcvr_800_GUPPI_log10_ecorr to -6.396301881001724\n",
            "INFO: enterprise.signals.signal_base: Setting J1903+0327_L-wide_ASP_efac to 1.179706924996803\n",
            "INFO: enterprise.signals.signal_base: Setting J1903+0327_L-wide_PUPPI_efac to 1.168460641474899\n",
            "INFO: enterprise.signals.signal_base: Setting J1903+0327_S-wide_ASP_efac to 0.8321334329815202\n",
            "INFO: enterprise.signals.signal_base: Setting J1903+0327_S-wide_PUPPI_efac to 1.1095637896315254\n",
            "INFO: enterprise.signals.signal_base: Setting J1903+0327_L-wide_ASP_log10_equad to -7.158390864212146\n",
            "INFO: enterprise.signals.signal_base: Setting J1903+0327_L-wide_PUPPI_log10_equad to -7.759288526577286\n",
            "INFO: enterprise.signals.signal_base: Setting J1903+0327_S-wide_ASP_log10_equad to -6.16963651015452\n",
            "INFO: enterprise.signals.signal_base: Setting J1903+0327_S-wide_PUPPI_log10_equad to -7.574001886389685\n",
            "INFO: enterprise.signals.signal_base: Setting J1903+0327_L-wide_ASP_log10_ecorr to -7.172149108226772\n",
            "INFO: enterprise.signals.signal_base: Setting J1903+0327_L-wide_PUPPI_log10_ecorr to -5.636329138486162\n",
            "INFO: enterprise.signals.signal_base: Setting J1903+0327_S-wide_ASP_log10_ecorr to -7.364742895573575\n",
            "INFO: enterprise.signals.signal_base: Setting J1903+0327_S-wide_PUPPI_log10_ecorr to -7.45437286784459\n",
            "INFO: enterprise.signals.signal_base: Setting J1909-3744_Rcvr1_2_GASP_efac to 0.9505606759311833\n",
            "INFO: enterprise.signals.signal_base: Setting J1909-3744_Rcvr1_2_GUPPI_efac to 1.0339776268866265\n",
            "INFO: enterprise.signals.signal_base: Setting J1909-3744_Rcvr_800_GASP_efac to 1.0504080629362422\n",
            "INFO: enterprise.signals.signal_base: Setting J1909-3744_Rcvr_800_GUPPI_efac to 1.0313779800296294\n",
            "INFO: enterprise.signals.signal_base: Setting J1909-3744_Rcvr1_2_GASP_log10_equad to -7.456278210493956\n",
            "INFO: enterprise.signals.signal_base: Setting J1909-3744_Rcvr1_2_GUPPI_log10_equad to -8.171553179171445\n",
            "INFO: enterprise.signals.signal_base: Setting J1909-3744_Rcvr_800_GASP_log10_equad to -7.037406290351743\n",
            "INFO: enterprise.signals.signal_base: Setting J1909-3744_Rcvr_800_GUPPI_log10_equad to -7.365322642903795\n",
            "INFO: enterprise.signals.signal_base: Setting J1909-3744_Rcvr1_2_GASP_log10_ecorr to -8.078816887958723\n",
            "INFO: enterprise.signals.signal_base: Setting J1909-3744_Rcvr1_2_GUPPI_log10_ecorr to -7.137638201510413\n",
            "INFO: enterprise.signals.signal_base: Setting J1909-3744_Rcvr_800_GASP_log10_ecorr to -7.871774784575877\n",
            "INFO: enterprise.signals.signal_base: Setting J1909-3744_Rcvr_800_GUPPI_log10_ecorr to -7.269816370154123\n",
            "INFO: enterprise.signals.signal_base: Setting J1910+1256_L-wide_ASP_efac to 1.063590147073229\n",
            "INFO: enterprise.signals.signal_base: Setting J1910+1256_L-wide_PUPPI_efac to 1.0931136416030962\n",
            "INFO: enterprise.signals.signal_base: Setting J1910+1256_S-wide_ASP_efac to 0.9661536934887565\n",
            "INFO: enterprise.signals.signal_base: Setting J1910+1256_S-wide_PUPPI_efac to 1.0982792255110136\n",
            "INFO: enterprise.signals.signal_base: Setting J1910+1256_L-wide_ASP_log10_equad to -7.516992859042785\n",
            "INFO: enterprise.signals.signal_base: Setting J1910+1256_L-wide_PUPPI_log10_equad to -7.585087262800533\n",
            "INFO: enterprise.signals.signal_base: Setting J1910+1256_S-wide_ASP_log10_equad to -6.218657154174941\n",
            "INFO: enterprise.signals.signal_base: Setting J1910+1256_S-wide_PUPPI_log10_equad to -7.401958120896809\n",
            "INFO: enterprise.signals.signal_base: Setting J1910+1256_L-wide_ASP_log10_ecorr to -7.259684055387137\n",
            "INFO: enterprise.signals.signal_base: Setting J1910+1256_L-wide_PUPPI_log10_ecorr to -7.403550254322336\n",
            "INFO: enterprise.signals.signal_base: Setting J1910+1256_S-wide_ASP_log10_ecorr to -7.195615972473434\n",
            "INFO: enterprise.signals.signal_base: Setting J1910+1256_S-wide_PUPPI_log10_ecorr to -6.218612073150832\n",
            "INFO: enterprise.signals.signal_base: Setting J1918-0642_Rcvr1_2_GASP_efac to 1.0272847294363423\n",
            "INFO: enterprise.signals.signal_base: Setting J1918-0642_Rcvr1_2_GUPPI_efac to 1.035664184009173\n",
            "INFO: enterprise.signals.signal_base: Setting J1918-0642_Rcvr_800_GASP_efac to 1.0557165923306966\n",
            "INFO: enterprise.signals.signal_base: Setting J1918-0642_Rcvr_800_GUPPI_efac to 1.034910727323206\n",
            "INFO: enterprise.signals.signal_base: Setting J1918-0642_Rcvr1_2_GASP_log10_equad to -7.67322161371427\n",
            "INFO: enterprise.signals.signal_base: Setting J1918-0642_Rcvr1_2_GUPPI_log10_equad to -7.3696863188027075\n",
            "INFO: enterprise.signals.signal_base: Setting J1918-0642_Rcvr_800_GASP_log10_equad to -7.105797415440444\n",
            "INFO: enterprise.signals.signal_base: Setting J1918-0642_Rcvr_800_GUPPI_log10_equad to -7.086564536955872\n",
            "INFO: enterprise.signals.signal_base: Setting J1918-0642_Rcvr1_2_GASP_log10_ecorr to -7.37828526123227\n",
            "INFO: enterprise.signals.signal_base: Setting J1918-0642_Rcvr1_2_GUPPI_log10_ecorr to -7.4935011859866485\n",
            "INFO: enterprise.signals.signal_base: Setting J1918-0642_Rcvr_800_GASP_log10_ecorr to -7.559243560441317\n",
            "INFO: enterprise.signals.signal_base: Setting J1918-0642_Rcvr_800_GUPPI_log10_ecorr to -6.525389492066881\n",
            "INFO: enterprise.signals.signal_base: Setting J1944+0907_430_ASP_efac to 1.0814498126291534\n",
            "INFO: enterprise.signals.signal_base: Setting J1944+0907_430_PUPPI_efac to 1.0727024023469869\n",
            "INFO: enterprise.signals.signal_base: Setting J1944+0907_L-wide_ASP_efac to 1.5390588569396464\n",
            "INFO: enterprise.signals.signal_base: Setting J1944+0907_L-wide_PUPPI_efac to 1.1696155596603073\n",
            "INFO: enterprise.signals.signal_base: Setting J1944+0907_430_ASP_log10_equad to -7.243114059446985\n",
            "INFO: enterprise.signals.signal_base: Setting J1944+0907_430_PUPPI_log10_equad to -6.926315089238918\n",
            "INFO: enterprise.signals.signal_base: Setting J1944+0907_L-wide_ASP_log10_equad to -7.238241222764401\n",
            "INFO: enterprise.signals.signal_base: Setting J1944+0907_L-wide_PUPPI_log10_equad to -7.693354205218862\n",
            "INFO: enterprise.signals.signal_base: Setting J1944+0907_430_ASP_log10_ecorr to -6.8879174105358185\n",
            "INFO: enterprise.signals.signal_base: Setting J1944+0907_430_PUPPI_log10_ecorr to -7.1306299212575945\n",
            "INFO: enterprise.signals.signal_base: Setting J1944+0907_L-wide_ASP_log10_ecorr to -7.104483772896318\n",
            "INFO: enterprise.signals.signal_base: Setting J1944+0907_L-wide_PUPPI_log10_ecorr to -6.546284570029579\n",
            "INFO: enterprise.signals.signal_base: Setting J2010-1323_Rcvr1_2_GASP_efac to 1.0179865222180375\n",
            "INFO: enterprise.signals.signal_base: Setting J2010-1323_Rcvr1_2_GUPPI_efac to 1.046213434079912\n",
            "INFO: enterprise.signals.signal_base: Setting J2010-1323_Rcvr_800_GASP_efac to 1.0631310225900652\n",
            "INFO: enterprise.signals.signal_base: Setting J2010-1323_Rcvr_800_GUPPI_efac to 0.9946706739052781\n",
            "INFO: enterprise.signals.signal_base: Setting J2010-1323_Rcvr1_2_GASP_log10_equad to -7.170459137166772\n",
            "INFO: enterprise.signals.signal_base: Setting J2010-1323_Rcvr1_2_GUPPI_log10_equad to -7.676454828722258\n",
            "INFO: enterprise.signals.signal_base: Setting J2010-1323_Rcvr_800_GASP_log10_equad to -7.260685669109653\n",
            "INFO: enterprise.signals.signal_base: Setting J2010-1323_Rcvr_800_GUPPI_log10_equad to -7.2177759208361\n",
            "INFO: enterprise.signals.signal_base: Setting J2010-1323_Rcvr1_2_GASP_log10_ecorr to -7.182315425909628\n",
            "INFO: enterprise.signals.signal_base: Setting J2010-1323_Rcvr1_2_GUPPI_log10_ecorr to -7.686560497366312\n",
            "INFO: enterprise.signals.signal_base: Setting J2010-1323_Rcvr_800_GASP_log10_ecorr to -7.241412604014393\n",
            "INFO: enterprise.signals.signal_base: Setting J2010-1323_Rcvr_800_GUPPI_log10_ecorr to -7.580143294343043\n",
            "INFO: enterprise.signals.signal_base: Setting J2145-0750_Rcvr1_2_GASP_efac to 1.0110230422869044\n",
            "INFO: enterprise.signals.signal_base: Setting J2145-0750_Rcvr1_2_GUPPI_efac to 1.0265447460207069\n",
            "INFO: enterprise.signals.signal_base: Setting J2145-0750_Rcvr_800_GASP_efac to 1.2601984171075302\n",
            "INFO: enterprise.signals.signal_base: Setting J2145-0750_Rcvr_800_GUPPI_efac to 1.0476740581711277\n",
            "INFO: enterprise.signals.signal_base: Setting J2145-0750_Rcvr1_2_GASP_log10_equad to -5.705026109830131\n",
            "INFO: enterprise.signals.signal_base: Setting J2145-0750_Rcvr1_2_GUPPI_log10_equad to -7.938817552005569\n",
            "INFO: enterprise.signals.signal_base: Setting J2145-0750_Rcvr_800_GASP_log10_equad to -6.513203859186709\n",
            "INFO: enterprise.signals.signal_base: Setting J2145-0750_Rcvr_800_GUPPI_log10_equad to -6.4184191843741445\n",
            "INFO: enterprise.signals.signal_base: Setting J2145-0750_Rcvr1_2_GASP_log10_ecorr to -6.243824665782128\n",
            "INFO: enterprise.signals.signal_base: Setting J2145-0750_Rcvr1_2_GUPPI_log10_ecorr to -6.355906738653193\n",
            "INFO: enterprise.signals.signal_base: Setting J2145-0750_Rcvr_800_GASP_log10_ecorr to -6.233581141499856\n",
            "INFO: enterprise.signals.signal_base: Setting J2145-0750_Rcvr_800_GUPPI_log10_ecorr to -6.598154829313346\n",
            "INFO: enterprise.signals.signal_base: Setting J2317+1439_327_ASP_efac to 1.0823722500112272\n",
            "INFO: enterprise.signals.signal_base: Setting J2317+1439_327_PUPPI_efac to 1.17384139990156\n",
            "INFO: enterprise.signals.signal_base: Setting J2317+1439_430_ASP_efac to 1.2574511773494976\n",
            "INFO: enterprise.signals.signal_base: Setting J2317+1439_430_PUPPI_efac to 1.0163851726761812\n",
            "INFO: enterprise.signals.signal_base: Setting J2317+1439_L-wide_PUPPI_efac to 1.1163982326548925\n",
            "INFO: enterprise.signals.signal_base: Setting J2317+1439_327_ASP_log10_equad to -6.457911273619141\n",
            "INFO: enterprise.signals.signal_base: Setting J2317+1439_327_PUPPI_log10_equad to -6.462306002360743\n",
            "INFO: enterprise.signals.signal_base: Setting J2317+1439_430_ASP_log10_equad to -7.3732139102446626\n",
            "INFO: enterprise.signals.signal_base: Setting J2317+1439_430_PUPPI_log10_equad to -6.535705196682452\n",
            "INFO: enterprise.signals.signal_base: Setting J2317+1439_L-wide_PUPPI_log10_equad to -7.463944437178126\n",
            "INFO: enterprise.signals.signal_base: Setting J2317+1439_327_ASP_log10_ecorr to -7.706187896212512\n",
            "INFO: enterprise.signals.signal_base: Setting J2317+1439_327_PUPPI_log10_ecorr to -6.392284847303101\n",
            "INFO: enterprise.signals.signal_base: Setting J2317+1439_430_ASP_log10_ecorr to -6.509624616624109\n",
            "INFO: enterprise.signals.signal_base: Setting J2317+1439_430_PUPPI_log10_ecorr to -6.87918040058842\n",
            "INFO: enterprise.signals.signal_base: Setting J2317+1439_L-wide_PUPPI_log10_ecorr to -6.6463560361584975\n"
          ],
          "name": "stderr"
        }
      ]
    },
    {
      "cell_type": "code",
      "metadata": {
        "id": "Y1Fv9B3D7IFq",
        "outputId": "430d17ad-d1ad-4159-a091-196408b2a572"
      },
      "source": [
        "super_model = hypermodel.HyperModel(pta)\n",
        "sampler = super_model.setup_sampler(resume=False, outdir=outDir, sample_nmodel=True,\n",
        "                                    empirical_distr='12yr_emp_dist_RNonly_py3.pkl')\n",
        "# This will take about an hour to sample\n",
        "# To sample it properly will take 10+ hours\n",
        "# sampler for N steps\n",
        "N = int(1e4)  # 5e6 is a good number for a real analysis\n",
        "x0 = super_model.initial_sample()\n",
        "sampler.sample(x0, N, SCAMweight=30, AMweight=15, DEweight=50, )"
      ],
      "execution_count": null,
      "outputs": [
        {
          "output_type": "stream",
          "text": [
            "Adding empirical proposals...\n",
            "\n",
            "Adding red noise prior draws...\n",
            "\n",
            "Adding GWB uniform distribution draws...\n",
            "\n",
            "Adding gw param prior draws...\n",
            "\n",
            "Adding nmodel uniform distribution draws...\n",
            "\n",
            "Finished 90.00 percent in 3998.821597 s Acceptance rate = 0.542\n",
            "Run Complete\n"
          ],
          "name": "stdout"
        }
      ]
    },
    {
      "cell_type": "code",
      "metadata": {
        "id": "2E2UbW2n7IFq"
      },
      "source": [
        "chain = np.loadtxt(outDir + '/chain_1.txt')\n",
        "burn = int(0.25*chain.shape[0])\n",
        "pars = np.loadtxt(outDir + '/pars.txt', dtype=np.unicode_)\n",
        "\n",
        "pp = model_utils.PostProcessing(chain, pars)"
      ],
      "execution_count": null,
      "outputs": []
    },
    {
      "cell_type": "code",
      "metadata": {
        "id": "O61A0uT47IFq",
        "outputId": "3030860c-e0a0-4646-8ec7-ad19fe3e9b32"
      },
      "source": [
        "print(pars)"
      ],
      "execution_count": null,
      "outputs": [
        {
          "output_type": "stream",
          "text": [
            "['B1855+09_red_noise_gamma' 'B1855+09_red_noise_log10_A'\n",
            " 'B1937+21_red_noise_gamma' 'B1937+21_red_noise_log10_A'\n",
            " 'J0030+0451_red_noise_gamma' 'J0030+0451_red_noise_log10_A'\n",
            " 'J0613-0200_red_noise_gamma' 'J0613-0200_red_noise_log10_A'\n",
            " 'J0645+5158_red_noise_gamma' 'J0645+5158_red_noise_log10_A'\n",
            " 'J1012+5307_red_noise_gamma' 'J1012+5307_red_noise_log10_A'\n",
            " 'J1024-0719_red_noise_gamma' 'J1024-0719_red_noise_log10_A'\n",
            " 'J1455-3330_red_noise_gamma' 'J1455-3330_red_noise_log10_A'\n",
            " 'J1600-3053_red_noise_gamma' 'J1600-3053_red_noise_log10_A'\n",
            " 'J1614-2230_red_noise_gamma' 'J1614-2230_red_noise_log10_A'\n",
            " 'J1640+2224_red_noise_gamma' 'J1640+2224_red_noise_log10_A'\n",
            " 'J1643-1224_red_noise_gamma' 'J1643-1224_red_noise_log10_A'\n",
            " 'J1713+0747_red_noise_gamma' 'J1713+0747_red_noise_log10_A'\n",
            " 'J1738+0333_red_noise_gamma' 'J1738+0333_red_noise_log10_A'\n",
            " 'J1744-1134_red_noise_gamma' 'J1744-1134_red_noise_log10_A'\n",
            " 'J1903+0327_red_noise_gamma' 'J1903+0327_red_noise_log10_A'\n",
            " 'J1909-3744_red_noise_gamma' 'J1909-3744_red_noise_log10_A'\n",
            " 'J1910+1256_red_noise_gamma' 'J1910+1256_red_noise_log10_A'\n",
            " 'J1918-0642_red_noise_gamma' 'J1918-0642_red_noise_log10_A'\n",
            " 'J1944+0907_red_noise_gamma' 'J1944+0907_red_noise_log10_A'\n",
            " 'J2010-1323_red_noise_gamma' 'J2010-1323_red_noise_log10_A'\n",
            " 'J2145-0750_red_noise_gamma' 'J2145-0750_red_noise_log10_A'\n",
            " 'J2317+1439_red_noise_gamma' 'J2317+1439_red_noise_log10_A' 'gw_gamma'\n",
            " 'gw_log10_A' 'nmodel']\n"
          ],
          "name": "stdout"
        }
      ]
    },
    {
      "cell_type": "code",
      "metadata": {
        "id": "wiRbG2g27IFq",
        "outputId": "d046fc92-c4de-40f5-86dc-53ff0fc8d11a"
      },
      "source": [
        "# Plot histgram for GW amplitude\n",
        "chain_burn = chain[burn:,:]\n",
        "\n",
        "ind_model = list(pars).index('nmodel')\n",
        "ind_gwamp = list(pars).index('gw_log10_A')\n",
        "\n",
        "# ORF = None\n",
        "#plt.hist(chain_burn[chain_burn[:, ind_model] < 0.5, ind_gwamp], bins=40);\n",
        "\n",
        "# ORF = Hellings & Downs\n",
        "plt.hist(chain_burn[chain_burn[:, ind_model] > 0.5, ind_gwamp], bins=40);"
      ],
      "execution_count": null,
      "outputs": [
        {
          "output_type": "display_data",
          "data": {
            "text/plain": [
              "<Figure size 432x288 with 1 Axes>"
            ],
            "image/png": "[encoded data removed]"
          },
          "metadata": {
            "tags": [],
            "image/png": {
              "width": 368,
              "height": 248
            },
            "needs_background": "light"
          }
        }
      ]
    },
    {
      "cell_type": "markdown",
      "metadata": {
        "id": "NFQJN61f7IFq"
      },
      "source": [
        "* It is clear from this plot that we are undersampling the posterior.\n",
        "* However, the Bayes factor should be close according to the following plot\n",
        "* We are apparently getting a decent amount of samples in each model"
      ]
    },
    {
      "cell_type": "code",
      "metadata": {
        "id": "cmkADmUd7IFq",
        "outputId": "4b3e18f8-9529-46bc-e859-cc25035dddb7"
      },
      "source": [
        "# Plot histogram for GWB model selection\n",
        "# This will tell us how much we have sampled for each model\n",
        "plt.hist(chain_burn[:, ind_model], bins=40);"
      ],
      "execution_count": null,
      "outputs": [
        {
          "output_type": "display_data",
          "data": {
            "text/plain": [
              "<Figure size 432x288 with 1 Axes>"
            ],
            "image/png": "[encoded data removed]"
          },
          "metadata": {
            "tags": [],
            "image/png": {
              "width": 368,
              "height": 248
            },
            "needs_background": "light"
          }
        }
      ]
    },
    {
      "cell_type": "code",
      "metadata": {
        "id": "YZjacChM7IFq",
        "outputId": "13d42747-229c-472b-8995-72aebdd2e92c"
      },
      "source": [
        "# The first number is the Bayes factor (BF) and the second number is the uncertainty on the BF\n",
        "bf, unc = model_utils.odds_ratio(chain_burn[:, ind_model], models=[0,1])\n",
        "print(bf, unc)"
      ],
      "execution_count": null,
      "outputs": [
        {
          "output_type": "stream",
          "text": [
            "1.9094827586206897 0.32423737695144084\n"
          ],
          "name": "stdout"
        }
      ]
    },
    {
      "cell_type": "code",
      "metadata": {
        "id": "et58S6tH7IFr",
        "outputId": "3c145e58-a501-406b-fe75-bbe1674df9d4"
      },
      "source": [
        "log10bf = np.log10(bf)\n",
        "print(log10bf)"
      ],
      "execution_count": null,
      "outputs": [
        {
          "output_type": "stream",
          "text": [
            "0.2809157413321699\n"
          ],
          "name": "stdout"
        }
      ]
    },
    {
      "cell_type": "markdown",
      "metadata": {
        "id": "2bC1aUoM7IFr"
      },
      "source": [
        "* Once again we have sampled this at a much lower rate that is required to get the answer in the 12.5 year paper.\n",
        "* We also have only half the pulsars.\n",
        "* In order to get the exact number listed in the 12.5 year paper, we need to fill out the posterior distribution with more samples and include the rest of the pulsars.\n",
        "* There is no clear evidence for HD correlations\n",
        "* The upshot is that we can say with confidence that there is **something** in the 12.5 year data set that looks like a background, but at this point we can't say what exactly that something is."
      ]
    },
    {
      "cell_type": "markdown",
      "metadata": {
        "id": "CfDeexkk7IFr"
      },
      "source": [
        "## Figure 1"
      ]
    },
    {
      "cell_type": "code",
      "metadata": {
        "id": "cWIrylZQ7IFr"
      },
      "source": [
        "## Plotting Parameters For matplotlib\n",
        "def figsize(scale):\n",
        "    fig_width_pt = 513.17 #469.755    # Get this from LaTeX using \\the\\textwidth\n",
        "    inches_per_pt = 1.0 / 72.27         # Convert pt to inch\n",
        "    golden_mean = (np.sqrt(5.0)-1.0)/2.0    # Aesthetic ratio\n",
        "    fig_width = fig_width_pt * inches_per_pt * scale  # width in inches\n",
        "    fig_height = fig_width * golden_mean              # height in inches\n",
        "    fig_size = [fig_width, fig_height]\n",
        "    return fig_size\n",
        "\n",
        "plt.rcParams.update(plt.rcParamsDefault)\n",
        "params = {'backend': 'pdf',\n",
        "        'axes.labelsize': 10,\n",
        "        'lines.markersize': 4,\n",
        "        'font.size': 10,\n",
        "        'xtick.major.size':6,\n",
        "        'xtick.minor.size':3,\n",
        "        'ytick.major.size':6,\n",
        "        'ytick.minor.size':3,\n",
        "        'xtick.major.width':0.5,\n",
        "        'ytick.major.width':0.5,\n",
        "        'xtick.minor.width':0.5,\n",
        "        'ytick.minor.width':0.5,\n",
        "        'lines.markeredgewidth':1,\n",
        "        'axes.linewidth':1.2,\n",
        "        'legend.fontsize': 7,\n",
        "        'xtick.labelsize': 10,\n",
        "        'ytick.labelsize': 10,\n",
        "        'savefig.dpi':200,\n",
        "        'path.simplify':True,\n",
        "        'font.family': 'serif',\n",
        "        'font.serif':'Times',\n",
        "        'text.latex.preamble': [r'\\usepackage{amsmath}'],\n",
        "        'text.usetex':True,\n",
        "        'figure.figsize': figsize(0.5)}\n",
        "\n",
        "plt.rcParams.update(params)"
      ],
      "execution_count": null,
      "outputs": []
    },
    {
      "cell_type": "code",
      "metadata": {
        "id": "Bmbj51ge7IFs"
      },
      "source": [
        "# # Common Process Spectral Model Comparison Plot (Figure 1) # #\n",
        "\n",
        "## Definition for powerlaw and broken powerlaw for left side of Figure 1\n",
        "def powerlaw(f, log10_A=-16, gamma=4.3333):\n",
        "    return np.sqrt((10**log10_A)**2 / 12.0 / np.pi**2 * const.fyr**(gamma-3) * f**(-gamma) * f[0])\n",
        "\n",
        "def Broken_powerlaw(f, log10_A=-16, gamma=4.3333, log10_fb=-8, delta=0, kappa=0.1):\n",
        "    hcf = (10**log10_A) * (f / const.fyr) ** ((3-gamma) / 2) * (1 + (f / 10**log10_fb) ** (1/kappa)) ** (kappa * (gamma - delta) / 2)\n",
        "    return np.sqrt(hcf**2 / 12 / np.pi**2 / f**3 * f[0])\n",
        "\n",
        "# determine placement of frequency components\n",
        "Tspan = 12.893438736619137 * (365 * 86400) #psr.toas.max() - psr.toas.min() #\n",
        "freqs_30 = 1.0 * np.arange(1, 31) / Tspan\n",
        "freqs_5 = 1.0 * np.arange(1, 6) / Tspan"
      ],
      "execution_count": null,
      "outputs": []
    },
    {
      "cell_type": "markdown",
      "metadata": {
        "id": "wE7govmn7IFs"
      },
      "source": [
        "* In this next cell, we put some clips of code that can be run to sample the chains.\n",
        "* We do not recommend running the chains for yourself without significant computational resources due to the large amount of time required to get the posterior sampled properly."
      ]
    },
    {
      "cell_type": "code",
      "metadata": {
        "id": "Rpg8FMJM7IFs"
      },
      "source": [
        "# import chains\n",
        "# I did some thinning of my own since the chains were so massive\n",
        "\n",
        "## broken power law\n",
        "# models.model_2a(psrs, psd='turnover', noisedict=params, components=30,\n",
        "#              n_rnfreqs = None, n_gwbfreqs=None, gamma_common=None,\n",
        "#              delta_common=None, upper_limit=False, bayesephem=False,\n",
        "#              be_type='orbel', white_vary=False, is_wideband=False,\n",
        "#              use_dmdata=False, select='backend',\n",
        "#              pshift=False, pseed=None, psr_models=False)\n",
        "\n",
        "chain_DE438_bplaw_vary = np.loadtxt('../downloaded_chains/12p5yr_DE438_model2a_PSDbrokenplaw_gammaVary_chain.gz', usecols=np.arange(-7,-3), skiprows=25000)\n",
        "chain_DE438_bplaw_vary = chain_DE438_bplaw_vary[::5]\n",
        "pars_DE438_bplaw_vary = np.loadtxt('../downloaded_chains/12p5yr_DE438_model2a_PSDbrokenplaw_gammaVary_pars.txt', dtype=np.str)\n",
        "\n",
        "## 5 frequency\n",
        "# models.model_2a(psrs, psd='powerlaw', noisedict=params, components=5,\n",
        "#              n_rnfreqs = None, n_gwbfreqs=None, gamma_common=None,\n",
        "#              delta_common=None, upper_limit=False, bayesephem=False,\n",
        "#              be_type='orbel', white_vary=False, is_wideband=False,\n",
        "#              use_dmdata=False, select='backend',\n",
        "#              pshift=False, pseed=None, psr_models=False)\n",
        "\n",
        "chain_DE438_vary = np.loadtxt('../downloaded_chains/12p5yr_DE438_model2a_cRN5freq_gammaVary_chain.gz', usecols=[90,91,92], skiprows=25000)\n",
        "chain_DE438_vary = chain_DE438_vary[::4]\n",
        "\n",
        "## 30 frequency\n",
        "# models.model_2a(psrs, psd='powerlaw', noisedict=params, components=30,\n",
        "#              n_rnfreqs = None, n_gwbfreqs=None, gamma_common=None,\n",
        "#              delta_common=None, upper_limit=False, bayesephem=False,\n",
        "#              be_type='orbel', white_vary=False, is_wideband=False,\n",
        "#              use_dmdata=False, select='backend',\n",
        "#              pshift=False, pseed=None, psr_models=False)\n",
        "\n",
        "chain_DE438_30f_vary = np.loadtxt('../downloaded_chains/12p5yr_DE438_model2a_cRN30freq_gammaVary_chain.gz', usecols=[90,91,92], skiprows=25000)\n",
        "chain_DE438_30f_vary = chain_DE438_30f_vary[::4]\n",
        "\n",
        "## Free Spectral\n",
        "# models.model_2a(psrs, psd='spectrum', noisedict=params, components=30,\n",
        "#              n_rnfreqs = None, n_gwbfreqs=None, gamma_common=None,\n",
        "#              delta_common=None, upper_limit=False, bayesephem=False,\n",
        "#              be_type='orbel', white_vary=False, is_wideband=False,\n",
        "#              use_dmdata=False, select='backend',\n",
        "#              pshift=False, pseed=None, psr_models=False)\n",
        "\n",
        "chain_DE438_FreeSpec = np.loadtxt('../downloaded_chains/12p5yr_DE438_model2a_PSDspectrum_chain.gz', usecols=np.arange(90,120), skiprows=30000)\n",
        "chain_DE438_FreeSpec = chain_DE438_FreeSpec[::5]"
      ],
      "execution_count": null,
      "outputs": []
    },
    {
      "cell_type": "code",
      "metadata": {
        "id": "3thiazao7IFs"
      },
      "source": [
        "# Pull MLV params\n",
        "DE438_vary_Bpl_idx = np.argmax(chain_DE438_bplaw_vary[:,-1])\n",
        "DE438_vary_5cRN_idx = np.argmax(chain_DE438_vary[:,-1])\n",
        "DE438_vary_30cRN_idx = np.argmax(chain_DE438_30f_vary[:,-1])\n",
        "\n",
        "# Make MLV Curves\n",
        "PL_5freq = powerlaw(freqs_5, log10_A=chain_DE438_vary[:,1][DE438_vary_5cRN_idx], gamma=chain_DE438_vary[:,0][DE438_vary_5cRN_idx])\n",
        "PL_30freq = powerlaw(freqs_30, log10_A=chain_DE438_30f_vary[:,1][DE438_vary_30cRN_idx], gamma=chain_DE438_30f_vary[:,0][DE438_vary_30cRN_idx])\n",
        "bPL = Broken_powerlaw(freqs_30, log10_A=chain_DE438_bplaw_vary[:,1][DE438_vary_Bpl_idx], log10_fb=chain_DE438_bplaw_vary[:,2][DE438_vary_Bpl_idx], gamma=chain_DE438_bplaw_vary[:,0][DE438_vary_Bpl_idx])\n"
      ],
      "execution_count": null,
      "outputs": []
    },
    {
      "cell_type": "code",
      "metadata": {
        "id": "jp2UZ8tx7IFs"
      },
      "source": [
        "# Create an array for the bPL, 5f, and 30f chains\n",
        "## (to be able to make the 1-sigma regions and plot mean curves)\n",
        "bPL_num = int(chain_DE438_bplaw_vary[:,0].shape[0] / 5.)\n",
        "bPL_array = np.zeros((bPL_num,30))\n",
        "for ii in range(bPL_num):\n",
        "    bPL_array[ii] = np.log10(Broken_powerlaw(freqs_30, log10_A=chain_DE438_bplaw_vary[ii*5,1], log10_fb=chain_DE438_bplaw_vary[ii*5,2], gamma=chain_DE438_bplaw_vary[ii*5,0]))\n",
        "\n",
        "PL_5freq_num = int(chain_DE438_vary[:,0].shape[0] / 5.)\n",
        "PL_5freq_array = np.zeros((PL_5freq_num,5))\n",
        "for ii in range(PL_5freq_num):\n",
        "    PL_5freq_array[ii] = np.log10(powerlaw(freqs_5, log10_A=chain_DE438_vary[ii*5,1], gamma=chain_DE438_vary[ii*5,0]))\n",
        "\n",
        "PL_30freq_num = int(chain_DE438_30f_vary[:,0].shape[0] / 5.)\n",
        "PL_30freq_array = np.zeros((PL_30freq_num,30))\n",
        "for ii in range(PL_30freq_num):\n",
        "    PL_30freq_array[ii] = np.log10(powerlaw(freqs_30, log10_A=chain_DE438_30f_vary[ii*5,1], gamma=chain_DE438_30f_vary[ii*5,0]))\n"
      ],
      "execution_count": null,
      "outputs": []
    },
    {
      "cell_type": "code",
      "metadata": {
        "id": "ekUChPb47IFs",
        "outputId": "5e74d994-306d-4536-ee23-042f1fd4c907"
      },
      "source": [
        "# Make Figure\n",
        "plt.figure(figsize=[2*3.5503666805036667, 2.1942472810764047])\n",
        "\n",
        "# Left Hand Side Of Plot\n",
        "plt.subplot(1,2,1)\n",
        "\n",
        "## Plot MLV Curves\n",
        "#plt.semilogx(freqs_30, np.log10(bPL), color='C0', label='Broken PL')\n",
        "#plt.plot(freqs_5, np.log10(PL_5freq), color='C1', label='PL (5 freq.)', ls='dashed')\n",
        "#plt.plot(freqs_30, np.log10(PL_30freq), color='C2', label='PL (30 freq.)', ls='dashdot')\n",
        "\n",
        "# Plot mean curves w/ 1-sigma regions\n",
        "plt.semilogx(freqs_30, (bPL_array.mean(axis=0)), color='C0', label='Broken PL')\n",
        "plt.fill_between(freqs_30, (bPL_array.mean(axis=0) - bPL_array.std(axis=0)), (bPL_array.mean(axis=0) + bPL_array.std(axis=0)), color='C0', alpha=0.15)\n",
        "\n",
        "plt.semilogx(freqs_5, (PL_5freq_array.mean(axis=0)), color='C1', label='PL (5 freq.)', ls='dashed')\n",
        "plt.fill_between(freqs_5, (PL_5freq_array.mean(axis=0) - PL_5freq_array.std(axis=0)), (PL_5freq_array.mean(axis=0) + PL_5freq_array.std(axis=0)), color='C1', alpha=0.15)\n",
        "\n",
        "plt.semilogx(freqs_30, (PL_30freq_array.mean(axis=0)), color='C2', label='PL (30 freq.)', ls='dashdot')\n",
        "plt.fill_between(freqs_30, (PL_30freq_array.mean(axis=0) - PL_30freq_array.std(axis=0)), (PL_30freq_array.mean(axis=0) + PL_30freq_array.std(axis=0)), color='C2', alpha=0.15)\n",
        "\n",
        "# Plot Free Spectral Violin Plot\n",
        "vpt = plt.violinplot(chain_DE438_FreeSpec, positions=(freqs_30), widths=0.05*freqs_30, showextrema=False)\n",
        "for pc in vpt['bodies']:\n",
        "    pc.set_facecolor('k')\n",
        "    pc.set_alpha(0.3)\n",
        "\n",
        "# Plot Labels\n",
        "plt.xlabel(r'Frequency [Hz]')\n",
        "plt.ylabel(r'log$_{10}$ CP Delay [s]') # Residual [s]\n",
        "plt.ylim(-9, -6)\n",
        "plt.xlim(10**-8.7,10**-7.15)\n",
        "plt.legend(loc=9)\n",
        "\n",
        "# f = f_yr line\n",
        "plt.axvline(3.17e-8, color='k', linestyle='dotted')\n",
        "\n",
        "# Right Hand Plot\n",
        "plt.subplot(1,2,2)\n",
        "\n",
        "crn = corner.hist2d(chain_DE438_bplaw_vary[:,0], chain_DE438_bplaw_vary[:,1], color='C0', plot_datapoints=False, plot_density=False, levels=[0.67], countour_kwargs={'linewidths':2})\n",
        "corner.hist2d(chain_DE438_bplaw_vary[:,0], chain_DE438_bplaw_vary[:,1], color='C0', plot_datapoints=False, plot_density=False, levels=[0.95], countour_kwargs={'linewidths':1}, ax=crn)\n",
        "\n",
        "corner.hist2d(chain_DE438_vary[:,0], chain_DE438_vary[:,1], color='C1', plot_datapoints=False, plot_density=False, levels=[0.67], contour_kwargs={'linestyles':'dashed','linewidths':2}, ax=crn)\n",
        "corner.hist2d(chain_DE438_vary[:,0], chain_DE438_vary[:,1], color='C1', plot_datapoints=False, plot_density=False, levels=[0.95], contour_kwargs={'linestyles':'dashed','linewidths':1}, ax=crn)\n",
        "\n",
        "corner.hist2d(chain_DE438_30f_vary[:,0], chain_DE438_30f_vary[:,1], color='C2', plot_datapoints=False, plot_density=False, levels=[0.67], contour_kwargs={'linestyles':'dashdot','linewidths':2}, ax=crn)\n",
        "corner.hist2d(chain_DE438_30f_vary[:,0], chain_DE438_30f_vary[:,1], color='C2', plot_datapoints=False, plot_density=False, levels=[0.95], contour_kwargs={'linestyles':'dashdot','linewidths':1}, ax=crn)\n",
        "\n",
        "# gamma = 13/3 line\n",
        "plt.axvline(13/3., color='k', linestyle='dashed')\n",
        "\n",
        "# Plot Labels\n",
        "plt.ylim(-16.25, -13.25)\n",
        "plt.xlim(0,6.75)\n",
        "plt.xticks([0,1,2,3,4,5,6])\n",
        "plt.ylabel('$\\log_{10}\\, A_\\mathrm{CP}$')\n",
        "plt.xlabel(r'$\\gamma_\\mathrm{CP}$')\n",
        "\n",
        "plt.subplots_adjust(wspace=0.35)\n",
        "plt.show()"
      ],
      "execution_count": null,
      "outputs": [
        {
          "output_type": "display_data",
          "data": {
            "text/plain": [
              "<Figure size 710.073x219.425 with 2 Axes>"
            ],
            "image/png": "[encoded data removed]"
          },
          "metadata": {
            "tags": [],
            "image/png": {
              "width": 629,
              "height": 237
            }
          }
        }
      ]
    },
    {
      "cell_type": "markdown",
      "metadata": {
        "id": "oa4O7M-q7IFs"
      },
      "source": [
        "## Figure 2\n",
        "* Note: The models labeled as such use the `INPOP19` ephemeris. This is changed up above when the data is imported (where we change `DE438` to `INPOP19`)."
      ]
    },
    {
      "cell_type": "code",
      "metadata": {
        "id": "6cwIzDCh7IFs"
      },
      "source": [
        "# # Common Process Posteriors\n",
        "\n",
        "## Fixed Ephemeris Chains\n",
        "pars_fixed = np.loadtxt('../downloaded_chains/12p5yr_DE438_model2a_cRN5freq_gammaFixed4.33_pars.txt', dtype=np.str)\n",
        "\n",
        "# models.model_2a(psrs, psd='powerlaw', noisedict=params, components=5,\n",
        "#              n_rnfreqs = None, n_gwbfreqs=None, gamma_common=4.33,\n",
        "#              delta_common=None, upper_limit=False, bayesephem=False,\n",
        "#              be_type='orbel', white_vary=False, is_wideband=False,\n",
        "#              use_dmdata=False, select='backend',\n",
        "#              pshift=False, pseed=None, psr_models=False)\n",
        "\n",
        "chain_DE438 = np.loadtxt('../downloaded_chains/12p5yr_DE438_model2a_cRN5freq_gammaFixed4.33_chain.gz', usecols=[90], skiprows=100000)\n",
        "\n",
        "# models.model_2a(psrs, psd='powerlaw', noisedict=params, components=5,\n",
        "#              n_rnfreqs = None, n_gwbfreqs=None, gamma_common=4.33,\n",
        "#              delta_common=None, upper_limit=False, bayesephem=False,\n",
        "#              be_type='orbel', white_vary=False, is_wideband=False,\n",
        "#              use_dmdata=False, select='backend',\n",
        "#              pshift=False, pseed=None, psr_models=False)\n",
        "\n",
        "chain_INPOP19 = np.loadtxt('../downloaded_chains/12p5yr_INPOP19_model2a_cRN5freq_gammaFixed4.33_chain.gz', usecols=[90], skiprows=100000)\n",
        "\n",
        "## BayesEphem w/SetIII Chains\n",
        "\n",
        "pars_setIII = np.loadtxt('../downloaded_chains/12p5yr_DE438wBayesEphem_model2a_cRN5freq_gammaFixed4.33_pars.txt', dtype=np.str)\n",
        "\n",
        "# models.model_2a(psrs, psd='powerlaw', noisedict=params, components=5,\n",
        "#              n_rnfreqs = None, n_gwbfreqs=None, gamma_common=4.33,\n",
        "#              delta_common=None, upper_limit=False, bayesephem=True,\n",
        "#              be_type='orbel', white_vary=False, is_wideband=False,\n",
        "#              use_dmdata=False, select='backend',\n",
        "#              pshift=False, pseed=None, psr_models=False)\n",
        "\n",
        "chain_DE438_s3 = np.loadtxt('../downloaded_chains/12p5yr_DE438wBayesEphem_model2a_cRN5freq_gammaFixed4.33_chain.gz', usecols=[95], skiprows=100000)\n",
        "\n",
        "# models.model_2a(psrs, psd='powerlaw', noisedict=params, components=5,\n",
        "#              n_rnfreqs = None, n_gwbfreqs=None, gamma_common=4.33,\n",
        "#              delta_common=None, upper_limit=False, bayesephem=True,\n",
        "#              be_type='orbel', white_vary=False, is_wideband=False,\n",
        "#              use_dmdata=False, select='backend',\n",
        "#              pshift=False, pseed=None, psr_models=False)\n",
        "\n",
        "chain_INPOP19_s3 = np.loadtxt('../downloaded_chains/12p5yr_INPOP19wBayesEphem_model2a_cRN5freq_gammaFixed4.33_chain.gz', usecols=[95], skiprows=100000)\n"
      ],
      "execution_count": null,
      "outputs": []
    },
    {
      "cell_type": "code",
      "metadata": {
        "id": "SbYiv0iR7IFs"
      },
      "source": [
        "## Combine chains\n",
        "gw_chains = []\n",
        "#gw_chains.append(chain_DE430_s3[100000::10])\n",
        "#gw_chains.append(chain_DE430[100000::10])\n",
        "#gw_chains.append(chain_DE436_s3[100000::10])\n",
        "#gw_chains.append(chain_DE436[100000::10])\n",
        "gw_chains.append(chain_DE438_s3[100000::10])\n",
        "gw_chains.append(chain_DE438[100000::10])\n",
        "gw_chains.append(chain_INPOP19_s3[100000::10])\n",
        "gw_chains.append(chain_INPOP19[100000::10])"
      ],
      "execution_count": null,
      "outputs": []
    },
    {
      "cell_type": "code",
      "metadata": {
        "id": "9zxK7iTM7IFs",
        "outputId": "57876b36-f912-40e6-a044-5fb05adb1fc3"
      },
      "source": [
        "# Make Figure\n",
        "figsize(0.5)\n",
        "\n",
        "agwrange = [-15.5,-14.3]\n",
        "agwbins = 45\n",
        "\n",
        "# Plot Posteriors\n",
        "for i,eph in enumerate(['DE438','INPOP19']):\n",
        "    plt.hist(gw_chains[2*i], histtype='step', density=True, bins=agwbins, range=agwrange,\n",
        "            color=\"C%d\"%(i), ls=':')\n",
        "\n",
        "    plt.hist(gw_chains[(2*i)+1], histtype='step', density=True, bins=agwbins, range=agwrange,\n",
        "            color=\"C%d\"%(i), label=eph)\n",
        "\n",
        "# Set Plot Axes\n",
        "plt.axis(xmin=agwrange[0],xmax=agwrange[1])\n",
        "plt.xticks([-15.5,-15,-14.5])\n",
        "plt.xlabel('$\\log_{10}\\, A_\\mathrm{CP}$')\n",
        "plt.ylabel('probability density')\n",
        "\n",
        "# Add text\n",
        "plt.text(-15.45,3.9,'$p(\\log_{10}\\, A_\\mathrm{CP})$')\n",
        "plt.text(-14.5,4,'fixed SSE',ha='center')\n",
        "plt.text(-15.27,0.95,r'$\\textsc{BayesEphem}$',ha='center')\n",
        "\n",
        "# Add legend\n",
        "plt.legend(loc=6)\n",
        "\n",
        "# plt.savefig('Figure2.png',bbox_inches='tight')\n",
        "plt.show()"
      ],
      "execution_count": null,
      "outputs": [
        {
          "output_type": "display_data",
          "data": {
            "text/plain": [
              "<Figure size 355.037x219.425 with 1 Axes>"
            ],
            "image/png": "[encoded data removed]"
          },
          "metadata": {
            "tags": [],
            "image/png": {
              "width": 333,
              "height": 233
            }
          }
        }
      ]
    },
    {
      "cell_type": "markdown",
      "metadata": {
        "id": "xWH6DRtq7IFs"
      },
      "source": [
        "* This concludes the GWB tutorial. Next, we move on to the frequentist optimal statistic analysis tutorial."
      ]
    },
    {
      "cell_type": "code",
      "metadata": {
        "id": "dqmtRbk07IFs"
      },
      "source": [],
      "execution_count": null,
      "outputs": []
    }
  ]
}